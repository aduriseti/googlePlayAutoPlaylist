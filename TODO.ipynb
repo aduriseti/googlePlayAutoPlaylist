{
 "cells": [
  {
   "cell_type": "markdown",
   "metadata": {},
   "source": [
    "### TODO\n",
    "- [x] create issue about getting songs in thumbs up but not in library\n",
    "    - [x] get_playlist_songs for auto playlist is always returning [] #99\n",
    "    - [x] generate auto playlist https://gist.github.com/simon-weber/5007769\n",
    "    - [x] Getting the auto-generated playlists using MobileClient #200\n",
    "- [ ] fix issue about logging gpsoauth behavior - log unexpected responses from gpsoauth #532\n",
    "- [x] create issue about no valid apple id being able to generate streaming urls"
   ]
  },
  {
   "cell_type": "markdown",
   "metadata": {},
   "source": [
    "#### Approach\n",
    "- [x] sample stations to create 'sentences' - get duplicates\n",
    "- [x] create song embeddings from song corpus\n",
    "- [x] predict genre from song embedding\n",
    "- [x] get song audio\n",
    "- [x] display song audio\n",
    "- [x] stream song audio\n",
    "- [ ] get spectrogram from songs\n",
    "- [ ] predict song embedding / song genre from \n",
    "    - [ ] (cnn/cnn w/ attention (heirarchical?)\n",
    "    - [ ] (LSTM/GRU/RNN w/ attention)\n",
    "    "
   ]
  },
  {
   "cell_type": "markdown",
   "metadata": {},
   "source": [
    "### TODO\n",
    "- [ ] looks like w2vec embeddings not ideal for this problem - try diff methods - b/c window se to max sent length\n",
    "    - [ ] lda\n",
    "    - [ ] lsi\n",
    "    - [ ] svd\n",
    "- [x] MLP w/ song vec -> emb size -> ~100 -> SM -> genre clf\n",
    "    - [x] get emb hidden layers activations w/ forward pass\n",
    "    - [x] switch to sparse 1-hot\n",
    "    - [x] include artist prediction task\n",
    "        - [x] filter uncommon artists\n",
    "        - [x] generate dense matrices in batches to avoid memory constraint - still 100x slowdown so do 2nd\n",
    "    - [x] include year regression task\n",
    "    - [ ] check validation err to monitor overfitting \n",
    "    - [x] combine models -> classify [artist|genre|decade]\n",
    "        - [x] figure out how to weight different categories differently\n",
    "    - [x] multiple output functions - weight differently? - https://www.pyimagesearch.com/2018/06/04/keras-multiple-outputs-and-multiple-losses/\n",
    "    - [x] variational embedding layer - sup 32 dim is reasonable embedding dim\n",
    "        - [x] https://blog.keras.io/building-autoencoders-in-keras.html\n",
    "- [x] try VAE\n",
    "- [ ] create evaluation metric\n",
    "- [ ] create parameter variation process\n",
    "- [ ] compare to sorting by genre/artist/year\n",
    "- [ ] add rating,viewcount,etc.. to metadata\n",
    "- [ ] source 'sentences' from somewhere else - clearly spinning radio stations up and down not viable"
   ]
  },
  {
   "cell_type": "code",
   "execution_count": null,
   "metadata": {
    "collapsed": true
   },
   "outputs": [],
   "source": []
  }
 ],
 "metadata": {
  "anaconda-cloud": {},
  "kernelspec": {
   "display_name": "Python [default]",
   "language": "python",
   "name": "python3"
  },
  "language_info": {
   "codemirror_mode": {
    "name": "ipython",
    "version": 3
   },
   "file_extension": ".py",
   "mimetype": "text/x-python",
   "name": "python",
   "nbconvert_exporter": "python",
   "pygments_lexer": "ipython3",
   "version": "3.5.2"
  }
 },
 "nbformat": 4,
 "nbformat_minor": 1
}
