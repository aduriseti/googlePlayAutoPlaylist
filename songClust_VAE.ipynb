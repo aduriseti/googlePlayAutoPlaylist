{
 "cells": [
  {
   "cell_type": "code",
   "execution_count": 1,
   "metadata": {
    "collapsed": false
   },
   "outputs": [
    {
     "name": "stdout",
     "output_type": "stream",
     "text": [
      "/Users/aduriseti/Library/Logs/gmusicapi/gmusicapi.log\n"
     ]
    },
    {
     "name": "stderr",
     "output_type": "stream",
     "text": [
      "Using TensorFlow backend.\n",
      "/Users/aduriseti/anaconda/lib/python3.5/site-packages/sklearn/ensemble/weight_boosting.py:29: DeprecationWarning: numpy.core.umath_tests is an internal NumPy module and should not be imported. It will be removed in a future NumPy release.\n",
      "  from numpy.core.umath_tests import inner1d\n"
     ]
    }
   ],
   "source": [
    "#!pip install gmusicapi\n",
    "from gmusicapi import Mobileclient,Webclient,Musicmanager\n",
    "from gmusicapi.utils import utils\n",
    "print (utils.log_filepath)\n",
    "import numpy as np\n",
    "import pandas as pd\n",
    "import scipy as sp\n",
    "import tensorflow as tf\n",
    "import keras as ks\n",
    "from matplotlib import pyplot as plt\n",
    "%matplotlib inline\n",
    "import requests\n",
    "import gensim\n",
    "# !pip install tqdm\n",
    "from tqdm import tqdm_notebook as tqdm\n",
    "import sklearn as sk\n",
    "\n",
    "import sklearn.preprocessing\n",
    "import sklearn.ensemble\n",
    "import sklearn.cluster\n",
    "\n",
    "from sklearn import neural_network\n",
    "\n",
    "import json\n",
    "\n",
    "import sklearn.decomposition\n",
    "\n",
    "import sklearn.mixture"
   ]
  },
  {
   "cell_type": "code",
   "execution_count": 10,
   "metadata": {
    "collapsed": false
   },
   "outputs": [
    {
     "data": {
      "text/plain": [
       "True"
      ]
     },
     "execution_count": 10,
     "metadata": {},
     "output_type": "execute_result"
    }
   ],
   "source": [
    "email = 'aduriseti@gmail.com'\n",
    "pswd = 'ehshpxjlzaaoknix'\n",
    "\n",
    "api = Mobileclient(debug_logging=False)\n",
    "api.login(email,pswd,api.FROM_MAC_ADDRESS)\n",
    "# testsongid = api.get_all_songs()[0]['id']\n",
    "# # api.get_stream_url(testsongid)\n",
    "\n",
    "# for device in api.get_registered_devices():\n",
    "#     api.logout()\n",
    "#     api.login(email,pswd,device['id'].replace(':',''))\n",
    "#     try:\n",
    "#         api.get_stream_url(testsongid)\n",
    "#         print('DEVICE',device['id'],'AUTHORIZED')\n",
    "#         break\n",
    "#     except:\n",
    "#         print('DEVICE',device['id'],'NOT AUTHORIZED')"
   ]
  },
  {
   "cell_type": "code",
   "execution_count": 11,
   "metadata": {
    "collapsed": false
   },
   "outputs": [
    {
     "ename": "CallFailure",
     "evalue": "ListStations: 500 Server Error: Internal Server Error for url: https://mclients.googleapis.com/sj/v2.5/radio/station?alt=json&include-tracks=true&updated-min=-1&hl=en_US&tier=aa&dv=0\n(requests kwargs: {'url': 'https://mclients.googleapis.com/sj/v2.5/radio/station', 'params': {'alt': 'json', 'include-tracks': 'true', 'updated-min': -1, 'hl': 'en_US', 'tier': 'aa', 'dv': 0}, 'headers': {'Authorization': '<omitted>', 'Content-Type': 'application/json'}, 'data': '{\"max-results\": \"20000\"}', 'method': 'POST'})\n(response was: '{\"error\":{\"errors\":[{\"domain\":\"global\",\"reason\":\"internalError\",\"message\":\"Internal Error\"}],\"code\":500,\"message\":\"Internal Error\"}}')",
     "output_type": "error",
     "traceback": [
      "\u001b[0;31m---------------------------------------------------------------------------\u001b[0m",
      "\u001b[0;31mHTTPError\u001b[0m                                 Traceback (most recent call last)",
      "\u001b[0;32m~/anaconda/lib/python3.5/site-packages/gmusicapi/protocol/shared.py\u001b[0m in \u001b[0;36mperform\u001b[0;34m(cls, session, validate, *args, **kwargs)\u001b[0m\n\u001b[1;32m    217\u001b[0m             \u001b[0;32mtry\u001b[0m\u001b[0;34m:\u001b[0m\u001b[0;34m\u001b[0m\u001b[0m\n\u001b[0;32m--> 218\u001b[0;31m                 \u001b[0mresponse\u001b[0m\u001b[0;34m.\u001b[0m\u001b[0mraise_for_status\u001b[0m\u001b[0;34m(\u001b[0m\u001b[0;34m)\u001b[0m\u001b[0;34m\u001b[0m\u001b[0m\n\u001b[0m\u001b[1;32m    219\u001b[0m             \u001b[0;32mexcept\u001b[0m \u001b[0mrequests\u001b[0m\u001b[0;34m.\u001b[0m\u001b[0mHTTPError\u001b[0m \u001b[0;32mas\u001b[0m \u001b[0me\u001b[0m\u001b[0;34m:\u001b[0m\u001b[0;34m\u001b[0m\u001b[0m\n",
      "\u001b[0;32m~/anaconda/lib/python3.5/site-packages/requests/models.py\u001b[0m in \u001b[0;36mraise_for_status\u001b[0;34m(self)\u001b[0m\n\u001b[1;32m    934\u001b[0m         \u001b[0;32mif\u001b[0m \u001b[0mhttp_error_msg\u001b[0m\u001b[0;34m:\u001b[0m\u001b[0;34m\u001b[0m\u001b[0m\n\u001b[0;32m--> 935\u001b[0;31m             \u001b[0;32mraise\u001b[0m \u001b[0mHTTPError\u001b[0m\u001b[0;34m(\u001b[0m\u001b[0mhttp_error_msg\u001b[0m\u001b[0;34m,\u001b[0m \u001b[0mresponse\u001b[0m\u001b[0;34m=\u001b[0m\u001b[0mself\u001b[0m\u001b[0;34m)\u001b[0m\u001b[0;34m\u001b[0m\u001b[0m\n\u001b[0m\u001b[1;32m    936\u001b[0m \u001b[0;34m\u001b[0m\u001b[0m\n",
      "\u001b[0;31mHTTPError\u001b[0m: 500 Server Error: Internal Server Error for url: https://mclients.googleapis.com/sj/v2.5/radio/station?alt=json&include-tracks=true&updated-min=-1&hl=en_US&tier=aa&dv=0",
      "\nDuring handling of the above exception, another exception occurred:\n",
      "\u001b[0;31mCallFailure\u001b[0m                               Traceback (most recent call last)",
      "\u001b[0;32m<ipython-input-11-bf8fedda18ce>\u001b[0m in \u001b[0;36m<module>\u001b[0;34m()\u001b[0m\n\u001b[0;32m----> 1\u001b[0;31m \u001b[0mapi\u001b[0m\u001b[0;34m.\u001b[0m\u001b[0mget_all_stations\u001b[0m\u001b[0;34m(\u001b[0m\u001b[0;34m)\u001b[0m\u001b[0;34m\u001b[0m\u001b[0m\n\u001b[0m",
      "\u001b[0;32m~/anaconda/lib/python3.5/site-packages/gmusicapi/clients/mobileclient.py\u001b[0m in \u001b[0;36mget_all_stations\u001b[0;34m(self, incremental, include_deleted, updated_after)\u001b[0m\n\u001b[1;32m   1622\u001b[0m         \"\"\"\n\u001b[1;32m   1623\u001b[0m         return self._get_all_items(mobileclient.ListStations, incremental,\n\u001b[0;32m-> 1624\u001b[0;31m                                    updated_after=updated_after)\n\u001b[0m\u001b[1;32m   1625\u001b[0m \u001b[0;34m\u001b[0m\u001b[0m\n\u001b[1;32m   1626\u001b[0m     \u001b[0;32mdef\u001b[0m \u001b[0mget_station_tracks\u001b[0m\u001b[0;34m(\u001b[0m\u001b[0mself\u001b[0m\u001b[0;34m,\u001b[0m \u001b[0mstation_id\u001b[0m\u001b[0;34m,\u001b[0m \u001b[0mnum_tracks\u001b[0m\u001b[0;34m=\u001b[0m\u001b[0;36m25\u001b[0m\u001b[0;34m,\u001b[0m \u001b[0mrecently_played_ids\u001b[0m\u001b[0;34m=\u001b[0m\u001b[0;32mNone\u001b[0m\u001b[0;34m)\u001b[0m\u001b[0;34m:\u001b[0m\u001b[0;34m\u001b[0m\u001b[0m\n",
      "\u001b[0;32m~/anaconda/lib/python3.5/site-packages/gmusicapi/clients/mobileclient.py\u001b[0m in \u001b[0;36m_get_all_items\u001b[0;34m(self, call, incremental, **kwargs)\u001b[0m\n\u001b[1;32m   1973\u001b[0m             \u001b[0;32mreturn\u001b[0m \u001b[0mgenerator\u001b[0m\u001b[0;34m\u001b[0m\u001b[0m\n\u001b[1;32m   1974\u001b[0m \u001b[0;34m\u001b[0m\u001b[0m\n\u001b[0;32m-> 1975\u001b[0;31m         \u001b[0;32mreturn\u001b[0m \u001b[0;34m[\u001b[0m\u001b[0ms\u001b[0m \u001b[0;32mfor\u001b[0m \u001b[0mchunk\u001b[0m \u001b[0;32min\u001b[0m \u001b[0mgenerator\u001b[0m \u001b[0;32mfor\u001b[0m \u001b[0ms\u001b[0m \u001b[0;32min\u001b[0m \u001b[0mchunk\u001b[0m\u001b[0;34m]\u001b[0m\u001b[0;34m\u001b[0m\u001b[0m\n\u001b[0m\u001b[1;32m   1976\u001b[0m \u001b[0;34m\u001b[0m\u001b[0m\n\u001b[1;32m   1977\u001b[0m     \u001b[0;32mdef\u001b[0m \u001b[0m_get_all_items_incremental\u001b[0m\u001b[0;34m(\u001b[0m\u001b[0mself\u001b[0m\u001b[0;34m,\u001b[0m \u001b[0mcall\u001b[0m\u001b[0;34m,\u001b[0m \u001b[0;34m**\u001b[0m\u001b[0mkwargs\u001b[0m\u001b[0;34m)\u001b[0m\u001b[0;34m:\u001b[0m\u001b[0;34m\u001b[0m\u001b[0m\n",
      "\u001b[0;32m~/anaconda/lib/python3.5/site-packages/gmusicapi/clients/mobileclient.py\u001b[0m in \u001b[0;36m<listcomp>\u001b[0;34m(.0)\u001b[0m\n\u001b[1;32m   1973\u001b[0m             \u001b[0;32mreturn\u001b[0m \u001b[0mgenerator\u001b[0m\u001b[0;34m\u001b[0m\u001b[0m\n\u001b[1;32m   1974\u001b[0m \u001b[0;34m\u001b[0m\u001b[0m\n\u001b[0;32m-> 1975\u001b[0;31m         \u001b[0;32mreturn\u001b[0m \u001b[0;34m[\u001b[0m\u001b[0ms\u001b[0m \u001b[0;32mfor\u001b[0m \u001b[0mchunk\u001b[0m \u001b[0;32min\u001b[0m \u001b[0mgenerator\u001b[0m \u001b[0;32mfor\u001b[0m \u001b[0ms\u001b[0m \u001b[0;32min\u001b[0m \u001b[0mchunk\u001b[0m\u001b[0;34m]\u001b[0m\u001b[0;34m\u001b[0m\u001b[0m\n\u001b[0m\u001b[1;32m   1976\u001b[0m \u001b[0;34m\u001b[0m\u001b[0m\n\u001b[1;32m   1977\u001b[0m     \u001b[0;32mdef\u001b[0m \u001b[0m_get_all_items_incremental\u001b[0m\u001b[0;34m(\u001b[0m\u001b[0mself\u001b[0m\u001b[0;34m,\u001b[0m \u001b[0mcall\u001b[0m\u001b[0;34m,\u001b[0m \u001b[0;34m**\u001b[0m\u001b[0mkwargs\u001b[0m\u001b[0;34m)\u001b[0m\u001b[0;34m:\u001b[0m\u001b[0;34m\u001b[0m\u001b[0m\n",
      "\u001b[0;32m~/anaconda/lib/python3.5/site-packages/gmusicapi/clients/mobileclient.py\u001b[0m in \u001b[0;36m_get_all_items_incremental\u001b[0;34m(self, call, **kwargs)\u001b[0m\n\u001b[1;32m   1987\u001b[0m             lib_chunk = self._make_call(call,\n\u001b[1;32m   1988\u001b[0m                                         \u001b[0mstart_token\u001b[0m\u001b[0;34m=\u001b[0m\u001b[0mnext_page_token\u001b[0m\u001b[0;34m,\u001b[0m\u001b[0;34m\u001b[0m\u001b[0m\n\u001b[0;32m-> 1989\u001b[0;31m                                         **kwargs)\n\u001b[0m\u001b[1;32m   1990\u001b[0m \u001b[0;34m\u001b[0m\u001b[0m\n\u001b[1;32m   1991\u001b[0m             \u001b[0mitems\u001b[0m \u001b[0;34m=\u001b[0m \u001b[0;34m[\u001b[0m\u001b[0;34m]\u001b[0m\u001b[0;34m\u001b[0m\u001b[0m\n",
      "\u001b[0;32m~/anaconda/lib/python3.5/site-packages/gmusicapi/clients/shared.py\u001b[0m in \u001b[0;36m_make_call\u001b[0;34m(self, protocol, *args, **kwargs)\u001b[0m\n\u001b[1;32m     82\u001b[0m         CallFailure may be raised.\"\"\"\n\u001b[1;32m     83\u001b[0m \u001b[0;34m\u001b[0m\u001b[0m\n\u001b[0;32m---> 84\u001b[0;31m         \u001b[0;32mreturn\u001b[0m \u001b[0mprotocol\u001b[0m\u001b[0;34m.\u001b[0m\u001b[0mperform\u001b[0m\u001b[0;34m(\u001b[0m\u001b[0mself\u001b[0m\u001b[0;34m.\u001b[0m\u001b[0msession\u001b[0m\u001b[0;34m,\u001b[0m \u001b[0mself\u001b[0m\u001b[0;34m.\u001b[0m\u001b[0mvalidate\u001b[0m\u001b[0;34m,\u001b[0m \u001b[0;34m*\u001b[0m\u001b[0margs\u001b[0m\u001b[0;34m,\u001b[0m \u001b[0;34m**\u001b[0m\u001b[0mkwargs\u001b[0m\u001b[0;34m)\u001b[0m\u001b[0;34m\u001b[0m\u001b[0m\n\u001b[0m\u001b[1;32m     85\u001b[0m \u001b[0;34m\u001b[0m\u001b[0m\n\u001b[1;32m     86\u001b[0m     \u001b[0;32mdef\u001b[0m \u001b[0mis_authenticated\u001b[0m\u001b[0;34m(\u001b[0m\u001b[0mself\u001b[0m\u001b[0;34m)\u001b[0m\u001b[0;34m:\u001b[0m\u001b[0;34m\u001b[0m\u001b[0m\n",
      "\u001b[0;32m~/anaconda/lib/python3.5/site-packages/gmusicapi/protocol/shared.py\u001b[0m in \u001b[0;36mperform\u001b[0;34m(cls, session, validate, *args, **kwargs)\u001b[0m\n\u001b[1;32m    224\u001b[0m                     \u001b[0merr_msg\u001b[0m \u001b[0;34m+=\u001b[0m \u001b[0;34m\"\\n(response was: %r)\"\u001b[0m \u001b[0;34m%\u001b[0m \u001b[0mresponse\u001b[0m\u001b[0;34m.\u001b[0m\u001b[0mtext\u001b[0m\u001b[0;34m\u001b[0m\u001b[0m\n\u001b[1;32m    225\u001b[0m \u001b[0;34m\u001b[0m\u001b[0m\n\u001b[0;32m--> 226\u001b[0;31m                 \u001b[0;32mraise\u001b[0m \u001b[0mCallFailure\u001b[0m\u001b[0;34m(\u001b[0m\u001b[0merr_msg\u001b[0m\u001b[0;34m,\u001b[0m \u001b[0mcall_name\u001b[0m\u001b[0;34m)\u001b[0m\u001b[0;34m\u001b[0m\u001b[0m\n\u001b[0m\u001b[1;32m    227\u001b[0m \u001b[0;34m\u001b[0m\u001b[0m\n\u001b[1;32m    228\u001b[0m         \u001b[0;32mtry\u001b[0m\u001b[0;34m:\u001b[0m\u001b[0;34m\u001b[0m\u001b[0m\n",
      "\u001b[0;31mCallFailure\u001b[0m: ListStations: 500 Server Error: Internal Server Error for url: https://mclients.googleapis.com/sj/v2.5/radio/station?alt=json&include-tracks=true&updated-min=-1&hl=en_US&tier=aa&dv=0\n(requests kwargs: {'url': 'https://mclients.googleapis.com/sj/v2.5/radio/station', 'params': {'alt': 'json', 'include-tracks': 'true', 'updated-min': -1, 'hl': 'en_US', 'tier': 'aa', 'dv': 0}, 'headers': {'Authorization': '<omitted>', 'Content-Type': 'application/json'}, 'data': '{\"max-results\": \"20000\"}', 'method': 'POST'})\n(response was: '{\"error\":{\"errors\":[{\"domain\":\"global\",\"reason\":\"internalError\",\"message\":\"Internal Error\"}],\"code\":500,\"message\":\"Internal Error\"}}')"
     ]
    }
   ],
   "source": [
    "api.get_all_stations()"
   ]
  },
  {
   "cell_type": "code",
   "execution_count": 120,
   "metadata": {
    "collapsed": false
   },
   "outputs": [
    {
     "name": "stdout",
     "output_type": "stream",
     "text": [
      "PLAYLIST\n",
      "\n"
     ]
    }
   ],
   "source": [
    "# get all songs associated with account\n",
    "songs = api.get_all_songs()\n",
    "playlists = api.get_all_playlists()\n",
    "playlist_content = api.get_all_user_playlist_contents()\n",
    "# stations = api.get_all_stations()\n",
    "allsongs_name = 'allsongs'\n",
    "allsongs_id = ([None]+[p['storeId'] for p in playlists if p['name'] == allsongs_name])[0]\n",
    "sids = []\n",
    "sids += [s['id'] for s in songs]\n",
    "print('PLAYLIST')\n",
    "for p in tqdm(playlist_content):\n",
    "    sids += [t['track']['storeId'] if 'track' in t else t['id'] for t in p['tracks']]\n",
    "# print('STATIONS')\n",
    "# for s in tqdm(stations):\n",
    "# #     ids = list(set(ids))`\n",
    "#     tracks = api.get_station_tracks(s['id'],num_tracks=25)\n",
    "#     sids += [t['storeId'] for t in tracks]"
   ]
  },
  {
   "cell_type": "code",
   "execution_count": 121,
   "metadata": {
    "collapsed": false
   },
   "outputs": [
    {
     "data": {
      "text/plain": [
       "(614, 605)"
      ]
     },
     "execution_count": 121,
     "metadata": {},
     "output_type": "execute_result"
    }
   ],
   "source": [
    "usids = list(set(sids))\n",
    "len(sids),len(usids)"
   ]
  },
  {
   "cell_type": "code",
   "execution_count": 4,
   "metadata": {
    "collapsed": true
   },
   "outputs": [],
   "source": [
    "queues_format_filename = 'queues_v0.json'\n",
    "try:\n",
    "    with open(queues_format_filename) as queuesfile:\n",
    "        queues = json.load(queuesfile)\n",
    "except:\n",
    "    queues = []"
   ]
  },
  {
   "cell_type": "code",
   "execution_count": 5,
   "metadata": {
    "collapsed": false
   },
   "outputs": [],
   "source": [
    "# temp_nm = 'temp'\n",
    "# temp_ids = [s['id'] for s in api.get_all_stations() if s['name']==temp_nm]\n",
    "# mdkeys = ('title','artist','genre','year')\n",
    "# idkeys = ('id','storeId','nid')\n",
    "# if temp_ids: api.delete_stations(temp_ids)\n",
    "# for ID in tqdm(usids[:]):\n",
    "#     temp_id = api.create_station(name=temp_nm,track_id=ID)\n",
    "#     tracks = api.get_station_tracks(station_id=temp_id,num_tracks=200)\n",
    "# #     print(len(tracks))\n",
    "#     queues.append([([t[mdkey] if mdkey in t else None for mdkey in mdkeys],\n",
    "#                     [t[idkey] for idkey in idkeys if idkey in t][0]) \n",
    "#                    for t in tracks])\n",
    "#     api.delete_stations(temp_id)\n",
    "\n",
    "# try:\n",
    "#     with open(queues_format_filename,'w') as queuesfile:\n",
    "#         json.dump(queues,queuesfile)\n",
    "# except:\n",
    "#     print('SUCKS TO SUCK')"
   ]
  },
  {
   "cell_type": "code",
   "execution_count": 6,
   "metadata": {
    "collapsed": false
   },
   "outputs": [
    {
     "data": {
      "text/plain": [
       "7674"
      ]
     },
     "execution_count": 6,
     "metadata": {},
     "output_type": "execute_result"
    }
   ],
   "source": [
    "len(queues)"
   ]
  },
  {
   "cell_type": "code",
   "execution_count": 12,
   "metadata": {
    "collapsed": false
   },
   "outputs": [],
   "source": [
    "queues_md,queues_id = list(zip(*[list(zip(*q)) for q in queues if q]))"
   ]
  },
  {
   "cell_type": "code",
   "execution_count": 13,
   "metadata": {
    "collapsed": false
   },
   "outputs": [
    {
     "data": {
      "text/plain": [
       "53230"
      ]
     },
     "execution_count": 13,
     "metadata": {},
     "output_type": "execute_result"
    },
    {
     "data": {
      "image/png": "[encoded data removed]",
      "text/plain": [
       "<matplotlib.figure.Figure at 0x159457e10>"
      ]
     },
     "metadata": {},
     "output_type": "display_data"
    }
   ],
   "source": [
    "cdict = {}\n",
    "for q in queues_id:\n",
    "    for sid in q:\n",
    "        if sid not in cdict:\n",
    "            cdict[sid] =0\n",
    "        cdict[sid] += 1        \n",
    "\n",
    "plt.plot(sorted(v for k,v in cdict.items()))\n",
    "sum(1 for sid,c in cdict.items() if c >= 5)"
   ]
  },
  {
   "cell_type": "code",
   "execution_count": 14,
   "metadata": {
    "collapsed": false
   },
   "outputs": [],
   "source": [
    "# !pip install --upgrade gensim\n",
    "\n",
    "# import gensim"
   ]
  },
  {
   "cell_type": "code",
   "execution_count": 15,
   "metadata": {
    "collapsed": true
   },
   "outputs": [],
   "source": [
    "sids = list(set(sid for q in queues_id for sid in q))\n",
    "sid2md = dict((sid,md) for q in queues for md,sid in q)\n",
    "\n",
    "genres = set(md[2] for q in queues_md for md in q)\n",
    "idx2genre = dict(enumerate(genres))\n",
    "genre2idx = dict((g,i) for i,g in enumerate(genres))"
   ]
  },
  {
   "cell_type": "code",
   "execution_count": 269,
   "metadata": {
    "collapsed": true
   },
   "outputs": [],
   "source": [
    "artists = set(md[1] for q in queues_md for md in q)\n",
    "idx2artist = dict(enumerate(artists))\n",
    "artist2idx = dict((a,i) for i,a in enumerate(artists))"
   ]
  },
  {
   "cell_type": "code",
   "execution_count": 270,
   "metadata": {
    "collapsed": true
   },
   "outputs": [],
   "source": [
    "artcdict = dict((a,0) for a in artists)\n",
    "for q in queues_md:\n",
    "    for md in q:\n",
    "        artcdict[md[1]] += 1"
   ]
  },
  {
   "cell_type": "code",
   "execution_count": 431,
   "metadata": {
    "collapsed": true
   },
   "outputs": [],
   "source": [
    "thresh = 1000\n",
    "artists = [a for a,c in artcdict.items() if c > thresh]\n",
    "idx2artist = dict(enumerate(artists))\n",
    "artist2idx = dict((a,i) for i,a in enumerate(artists))"
   ]
  },
  {
   "cell_type": "code",
   "execution_count": 432,
   "metadata": {
    "collapsed": false
   },
   "outputs": [
    {
     "data": {
      "text/plain": [
       "168"
      ]
     },
     "execution_count": 432,
     "metadata": {},
     "output_type": "execute_result"
    }
   ],
   "source": [
    "len(artists)"
   ]
  },
  {
   "cell_type": "markdown",
   "metadata": {},
   "source": [
    "### Todo\n",
    "- [ ] test occurrence count models - b/c window set to max sentence lenght\n",
    "    - [ ] LDA\n",
    "    - [ ] LSI\n",
    "    - [ ] SVD"
   ]
  },
  {
   "cell_type": "code",
   "execution_count": 433,
   "metadata": {
    "collapsed": false
   },
   "outputs": [
    {
     "name": "stdout",
     "output_type": "stream",
     "text": [
      "CPU times: user 53.4 s, sys: 1.07 s, total: 54.4 s\n",
      "Wall time: 26 s\n"
     ]
    }
   ],
   "source": [
    "%%time\n",
    "w2vembdim = 64\n",
    "songid_model = gensim.models.Word2Vec(sentences=queues_id,size=w2vembdim,window=200,min_count=5)\n",
    "# songid_model = gensim.models.LsiModel(corpus=queues_id,num_topics=200)"
   ]
  },
  {
   "cell_type": "code",
   "execution_count": 434,
   "metadata": {
    "collapsed": false
   },
   "outputs": [],
   "source": [
    "sids = np.array(list(songid_model.wv.vocab.keys()))\n",
    "smd = np.array([sid2md[sid] for sid in sids])\n",
    "sgenre = np.array([md[2] for md in smd])\n",
    "# sp.spa\n",
    "sgenre1hot = np.eye(len(genres))[np.array([genre2idx[g] for g in sgenre])]\n",
    "sartist = np.array([md[1] for md in smd])\n",
    "data = [1]*(len(sartist))\n",
    "row = range(len(sartist))\n",
    "col = [artist2idx[a] if a in artist2idx else len(artists) \n",
    "       for a in sartist]\n",
    "sartist1hot = sp.sparse.csr_matrix((data,(row,col)))\n",
    "# sartist1hot = np.eye(len(artists))[np.array([artist2idx[a] for a  in sartist])]\n",
    "svec = np.array([songid_model.wv[sid] for sid in sids])\n",
    "syear[syear == None] = np.mean(syear[syear!=None])\n",
    "syear = syear.astype(float)\n",
    "syear -= np.mean(syear)"
   ]
  },
  {
   "cell_type": "code",
   "execution_count": 435,
   "metadata": {
    "collapsed": false
   },
   "outputs": [
    {
     "name": "stdout",
     "output_type": "stream",
     "text": [
      "(53230, 169) 168\n"
     ]
    }
   ],
   "source": [
    "print(sartist1hot.shape,len(artists))"
   ]
  },
  {
   "cell_type": "code",
   "execution_count": 488,
   "metadata": {
    "collapsed": false
   },
   "outputs": [],
   "source": [
    "X = ks.Input(shape=svec.shape[1:])\n",
    "\n",
    "Z1 = ks.layers.Dense(units=100)(X)\n",
    "A1 = ks.layers.Activation('relu')(Z1)\n",
    "\n",
    "nnembdim = 16\n",
    "Z2 = ks.layers.Dense(units=nnembdim)(Z1)\n",
    "A2 = ks.layers.Activation('tanh')(Z2)\n",
    "\n",
    "# GENRE PREDICTION\n",
    "Z3 = ks.layers.Dense(units=100)(A2)\n",
    "A3 = ks.layers.Activation('relu')(Z3)\n",
    "\n",
    "Z4 = ks.layers.Dense(units=len(genres))(A3)\n",
    "Y = ks.layers.Activation('softmax')(Z4)\n",
    "\n",
    "# YEAR PREDICTION\n",
    "Z3y = ks.layers.Dense(units=100)(A2)\n",
    "A3y = ks.layers.Activation('relu')(Z3y)\n",
    "\n",
    "Yy = ks.layers.Dense(units=1)(A3y)\n",
    "# Yy = ks.layers.Activation('relu')(Z4y)\n",
    "\n",
    "# ARTIST PREDICTION\n",
    "Z3a = ks.layers.Dense(units=100)(A2)\n",
    "A3a = ks.layers.Activation('relu')(Z3a)\n",
    "\n",
    "Z4a = ks.layers.Dense(units=len(artists)+1)(A3a)\n",
    "Ya = ks.layers.Activation('softmax')(Z4a)"
   ]
  },
  {
   "cell_type": "code",
   "execution_count": 489,
   "metadata": {
    "collapsed": false
   },
   "outputs": [],
   "source": [
    "trainEmb = ks.models.Model(inputs=[X],outputs=[Y])\n",
    "opt = ks.optimizers.Adam(lr=0.01)\n",
    "loss = ks.losses.categorical_crossentropy\n",
    "trainEmb.compile(optimizer=opt,loss=loss,metrics=['accuracy'])"
   ]
  },
  {
   "cell_type": "code",
   "execution_count": 490,
   "metadata": {
    "collapsed": true
   },
   "outputs": [],
   "source": [
    "trainEmby = ks.models.Model(inputs=[X],outputs=[Yy])\n",
    "opt = ks.optimizers.Adam(lr=0.01)\n",
    "loss = ks.losses.mean_squared_error\n",
    "trainEmby.compile(optimizer=opt,loss=loss)"
   ]
  },
  {
   "cell_type": "code",
   "execution_count": 491,
   "metadata": {
    "collapsed": false
   },
   "outputs": [],
   "source": [
    "trainEmba = ks.models.Model(inputs=[X],outputs=[Ya])\n",
    "opt = ks.optimizers.Adam(lr=0.01)\n",
    "loss = ks.losses.categorical_crossentropy\n",
    "trainEmba.compile(optimizer=opt,loss=loss,metrics=['accuracy'])\n",
    "def batchGen(X,y,batch_size):\n",
    "    n_batches = X.shape[0] // batch_size\n",
    "    randidx = list(range(X.shape[0]))\n",
    "    while True:\n",
    "        np.random.shuffle(randidx)\n",
    "        for i in range(n_batches):\n",
    "            batchidx = randidx[i*batch_size:(i+1)*batch_size]\n",
    "            Xb = X[batchidx,:]\n",
    "            yb = y[batchidx,:].toarray()\n",
    "            yield(Xb,yb)"
   ]
  },
  {
   "cell_type": "code",
   "execution_count": 492,
   "metadata": {
    "collapsed": false,
    "scrolled": true
   },
   "outputs": [
    {
     "name": "stdout",
     "output_type": "stream",
     "text": [
      "53230/53230 [==============================] - 6s 106us/step\n",
      "188.7766141597297\n",
      "Epoch 1/2\n",
      "53230/53230 [==============================] - 6s 111us/step - loss: 121.0970\n",
      "Epoch 2/2\n",
      "53230/53230 [==============================] - 0s 8us/step - loss: 93.1102\n",
      "53230/53230 [==============================] - 0s 5us/step\n",
      "90.87880649914223\n",
      "Epoch 1/2\n",
      "53230/53230 [==============================] - 0s 7us/step - loss: 90.1944\n",
      "Epoch 2/2\n",
      "53230/53230 [==============================] - 0s 7us/step - loss: 88.9417\n",
      "53230/53230 [==============================] - 0s 4us/step\n",
      "87.80461157584311\n",
      "Epoch 1/2\n",
      "53230/53230 [==============================] - 0s 7us/step - loss: 87.9156\n",
      "Epoch 2/2\n",
      "53230/53230 [==============================] - 0s 8us/step - loss: 88.0159\n",
      "53230/53230 [==============================] - 0s 4us/step\n",
      "87.82277383755948\n",
      "Epoch 1/2\n",
      "53230/53230 [==============================] - 0s 8us/step - loss: 87.5086\n",
      "Epoch 2/2\n",
      "53230/53230 [==============================] - 0s 7us/step - loss: 87.3760\n",
      "53230/53230 [==============================] - 0s 4us/step\n",
      "86.81422993245931\n",
      "Epoch 1/2\n",
      "53230/53230 [==============================] - 0s 6us/step - loss: 87.4739\n",
      "Epoch 2/2\n",
      "53230/53230 [==============================] - 0s 6us/step - loss: 86.8104\n",
      "53230/53230 [==============================] - 0s 4us/step\n",
      "86.92037542107722\n",
      "Epoch 1/2\n",
      "53230/53230 [==============================] - 0s 6us/step - loss: 86.7393\n",
      "Epoch 2/2\n",
      "53230/53230 [==============================] - 0s 7us/step - loss: 86.4536\n",
      "53230/53230 [==============================] - 0s 4us/step\n",
      "86.43288884869693\n",
      "Epoch 1/2\n",
      "53230/53230 [==============================] - 0s 6us/step - loss: 86.5101\n",
      "Epoch 2/2\n",
      "53230/53230 [==============================] - 0s 6us/step - loss: 87.0353\n",
      "53230/53230 [==============================] - 0s 4us/step\n",
      "87.39098329775184\n",
      "Epoch 1/2\n",
      "53230/53230 [==============================] - 0s 6us/step - loss: 86.6382\n",
      "Epoch 2/2\n",
      "53230/53230 [==============================] - 0s 6us/step - loss: 86.1278\n",
      "53230/53230 [==============================] - 0s 4us/step\n",
      "87.05980217901585\n",
      "Epoch 1/2\n",
      "53230/53230 [==============================] - 0s 7us/step - loss: 86.6757\n",
      "Epoch 2/2\n",
      "53230/53230 [==============================] - 0s 7us/step - loss: 86.0827\n",
      "53230/53230 [==============================] - 0s 4us/step\n",
      "85.45102228468889\n",
      "Epoch 1/2\n",
      "53230/53230 [==============================] - 0s 7us/step - loss: 85.6613\n",
      "Epoch 2/2\n",
      "53230/53230 [==============================] - 0s 6us/step - loss: 86.1766\n"
     ]
    }
   ],
   "source": [
    "for i in range(10):\n",
    "#     perf = trainEmb.evaluate(x=[svec],y=[sgenre1hot],batch_size=2048)\n",
    "#     print(perf)\n",
    "#     hist = trainEmb.fit(x=[svec],y=[sgenre1hot],batch_size=2048,epochs=2)\n",
    "    \n",
    "    perf = trainEmby.evaluate(x=[svec],y=[syear],batch_size=2048)\n",
    "    print(perf)\n",
    "    hist = trainEmby.fit(x=[svec],y=[syear],batch_size=2048,epochs=2)\n",
    "    \n",
    "#     perf = trainEmba.evaluate(x=[svec],y=[sartist1hot.toarray()],batch_size=2048)\n",
    "#     print(perf)\n",
    "#     hist = trainEmba.fit(x=[svec],y=[sartist1hot.toarray()],batch_size=2048,epochs=2)\n",
    "# #     artbatchsz = 128\n",
    "# #     hist = trainEmba.fit_generator(generator=batchGen(svec,sartist1hot,artbatchsz),\n",
    "# #                                    epochs=2,\n",
    "# #                                    steps_per_epoch=svec.shape[0]//artbatchsz)"
   ]
  },
  {
   "cell_type": "code",
   "execution_count": 493,
   "metadata": {
    "collapsed": false
   },
   "outputs": [],
   "source": [
    "getEmb = ks.models.Model(inputs=[X],outputs=[A2])\n",
    "nnemb = getEmb.predict(x=[svec])\n",
    "nnemb_wv = dict(zip(sids,nnemb))"
   ]
  },
  {
   "cell_type": "code",
   "execution_count": 494,
   "metadata": {
    "collapsed": true
   },
   "outputs": [],
   "source": [
    "# idx2sid = dict(enumerate([sid for sid in sids if sid in songid_model.wv]))\n",
    "# sid2idx = dict((sid,i) for i,sid in idx2sid.items())\n",
    "idx2sid = dict(enumerate([sid for sid in sids if sid in nnemb_wv]))\n",
    "sid2idx = dict((sid,i) for i,sid in idx2sid.items())"
   ]
  },
  {
   "cell_type": "code",
   "execution_count": 495,
   "metadata": {
    "collapsed": false
   },
   "outputs": [],
   "source": [
    "# msids = [sid for sid in usids if sid in songid_model.wv]\n",
    "# X = np.array([songid_model.wv[sid] for sid in msids])\n",
    "# Xmd = np.array([sid2md[sid] for sid in msids])\n",
    "msids = [sid for sid in usids if sid in nnemb_wv]\n",
    "Xvec = np.array([nnemb_wv[sid] for sid in msids])\n",
    "Xmd = np.array([sid2md[sid] for sid in msids])"
   ]
  },
  {
   "cell_type": "code",
   "execution_count": 496,
   "metadata": {
    "collapsed": false
   },
   "outputs": [
    {
     "data": {
      "text/plain": [
       "(540, 16)"
      ]
     },
     "execution_count": 496,
     "metadata": {},
     "output_type": "execute_result"
    }
   ],
   "source": [
    "Xvec.shape"
   ]
  },
  {
   "cell_type": "code",
   "execution_count": 501,
   "metadata": {
    "collapsed": false
   },
   "outputs": [],
   "source": [
    "if Xvec.shape[1] > 2:\n",
    "    X2d = sklearn.decomposition.PCA(n_components=2).fit_transform(Xvec)\n",
    "else:\n",
    "    X2d = Xvec"
   ]
  },
  {
   "cell_type": "code",
   "execution_count": 502,
   "metadata": {
    "collapsed": false
   },
   "outputs": [
    {
     "data": {
      "text/plain": [
       "[<matplotlib.lines.Line2D at 0x1354ed160>]"
      ]
     },
     "execution_count": 502,
     "metadata": {},
     "output_type": "execute_result"
    },
    {
     "data": {
      "image/png": "[encoded data removed]",
      "text/plain": [
       "<matplotlib.figure.Figure at 0x1763b5b38>"
      ]
     },
     "metadata": {},
     "output_type": "display_data"
    }
   ],
   "source": [
    "plt.plot(X2d[:,0],X2d[:,1],'.')"
   ]
  },
  {
   "cell_type": "code",
   "execution_count": 503,
   "metadata": {
    "collapsed": false
   },
   "outputs": [
    {
     "data": {
      "text/plain": [
       "27"
      ]
     },
     "execution_count": 503,
     "metadata": {},
     "output_type": "execute_result"
    }
   ],
   "source": [
    "n_clusters = len(msids)//20\n",
    "n_clusters"
   ]
  },
  {
   "cell_type": "code",
   "execution_count": 504,
   "metadata": {
    "collapsed": false
   },
   "outputs": [],
   "source": [
    "# clst = sklearn.cluster.KMeans(n_clusters=n_clusters) # Good\n",
    "# clst = sklearn.cluster.AffinityPropagation() # OK\n",
    "# clst = sklearn.cluster.Birch(n_clusters=n_clusters) # Great\n",
    "# clst = sklearn.cluster.DBSCAN() # didn't get all but Good\n",
    "# clst = sklearn.mixture.GaussianMixture(n_components=n_clusters) # ok\n",
    "clst = sklearn.cluster.AgglomerativeClustering(n_clusters=n_clusters) # Great\n",
    "try:\n",
    "    labels = clst.fit_predict(Xvec)\n",
    "except:\n",
    "    clst.fit(X)\n",
    "    labels = clst.predict(Xvec)"
   ]
  },
  {
   "cell_type": "markdown",
   "metadata": {},
   "source": [
    "### TODO\n",
    "- [ ] looks like w2vec embeddings not ideal for this problem - try diff methods\n",
    "    - [ ] lda\n",
    "    - [ ] lsi\n",
    "    - [ ] svd\n",
    "- [x] MLP w/ song vec -> emb size -> ~100 -> SM -> genre clf\n",
    "    - [x] get emb hidden layers activations w/ forward pass\n",
    "    - [x] switch to sparse 1-hot\n",
    "    - [x] include artist prediction task\n",
    "        - [x] filter uncommon artists\n",
    "        - [x] generate dense matrices in batches to avoid memory constraint - still 100x slowdown so do 2nd\n",
    "    - [x] include year regression task\n",
    "    - [ ] check validation err to monitor overfitting \n",
    "    - [ ] combine models -> classify [artist|genre|decade]\n",
    "        - [ ] figure out how to weight different categories differently\n",
    "    - [ ] multiple output functions - weight differently? - https://www.pyimagesearch.com/2018/06/04/keras-multiple-outputs-and-multiple-losses/\n",
    "    - [ ] variational embedding layer - sup 32 dim is reasonable embedding dim\n",
    "        - [ ] https://blog.keras.io/building-autoencoders-in-keras.html\n",
    "- [ ] try VAE\n",
    "- [ ] create evaluation metric\n",
    "- [ ] create parameter variation process\n",
    "- [ ] compare to sorting by genre/artist/year\n",
    "- [ ] add rating,viewcount,etc.. to metadata\n",
    "- [ ] source 'sentences' from somewhere else - clearly spinning radio stations up and down not viable\n",
    "- [ ] for manipulating song stream\n",
    "    - [ ] depthwise separable convolution\n",
    "    - [ ] sparsity constraints w/ pruning\n",
    "        - [ ] for RNN i.e. waveRNN\n",
    "        - [ ] forn CNN - saw package online - https://github.com/jacobgil/pytorch-pruning\n",
    "            - Note: supposedly not equally efficient to train"
   ]
  },
  {
   "cell_type": "code",
   "execution_count": 505,
   "metadata": {
    "collapsed": false
   },
   "outputs": [],
   "source": [
    "clusters = [[str(md) for md,j in zip(Xmd,labels) if j == i] for i in range(max(labels))]"
   ]
  },
  {
   "cell_type": "code",
   "execution_count": 506,
   "metadata": {
    "collapsed": false
   },
   "outputs": [
    {
     "data": {
      "text/plain": [
       "(536, (540, 4))"
      ]
     },
     "execution_count": 506,
     "metadata": {},
     "output_type": "execute_result"
    }
   ],
   "source": [
    "sum(len(c) for c in clusters),Xmd.shape"
   ]
  },
  {
   "cell_type": "code",
   "execution_count": 507,
   "metadata": {
    "collapsed": false
   },
   "outputs": [
    {
     "data": {
      "text/plain": [
       "[7,\n",
       " 9,\n",
       " 10,\n",
       " 10,\n",
       " 11,\n",
       " 11,\n",
       " 12,\n",
       " 12,\n",
       " 13,\n",
       " 13,\n",
       " 14,\n",
       " 15,\n",
       " 15,\n",
       " 15,\n",
       " 16,\n",
       " 17,\n",
       " 18,\n",
       " 19,\n",
       " 21,\n",
       " 25,\n",
       " 27,\n",
       " 29,\n",
       " 43,\n",
       " 44,\n",
       " 48,\n",
       " 62]"
      ]
     },
     "execution_count": 507,
     "metadata": {},
     "output_type": "execute_result"
    }
   ],
   "source": [
    "sorted(len(cluster) for cluster in clusters)"
   ]
  },
  {
   "cell_type": "code",
   "execution_count": 508,
   "metadata": {
    "collapsed": false
   },
   "outputs": [
    {
     "name": "stdout",
     "output_type": "stream",
     "text": [
      "3\n",
      "62\n",
      "['Hypocrite' 'Cage The Elephant' \"'10s Alternative\" 2013]\n",
      "['Sweetie Little Jean' 'Cage The Elephant' 'Alternative/Indie' 2015]\n",
      "['Halo' 'Cage The Elephant' \"'10s Alternative\" 2013]\n",
      "['In One Ear' 'Cage The Elephant' \"'00s Alternative\" 2008]\n",
      "['Tidal Wave' 'Portugal. The Man' 'Alternative/Indie' 2017]\n",
      "['The Sun' 'Portugal. The Man' \"'00s Alternative\" 2009]\n",
      "['Senseless' 'Portugal. The Man' \"'10s Alternative\" 2011]\n",
      "[\"I Guess I'm Floating\" 'M83' 'Electropop' 2005]\n",
      "['Holy Roller (Hallelujah)' 'Portugal. The Man' \"'10s Alternative\" 2013]\n",
      "['Outro' 'M83' 'Electropop' 2011]\n",
      "['Someday Believers' 'Portugal. The Man' \"'10s Alternative\" 2013]\n",
      "['Do You' 'Portugal. The Man' \"'00s Alternative\" 2009]\n",
      "['People Say' 'Portugal. The Man' \"'00s Alternative\" 2009]\n",
      "['Hip Hop Kids (feat. John Baldwin Gourley)' 'Portugal. The Man'\n",
      " \"'10s Alternative\" 2013]\n",
      "['Rubber Ball' 'Cage The Elephant' \"'10s Alternative\" 2011]\n",
      "['Shake Me Down' 'Cage The Elephant' \"'10s Alternative\" 2011]\n",
      "['Spiderhead' 'Cage The Elephant' \"'10s Alternative\" 2013]\n",
      "['Teeth' 'Cage The Elephant' \"'10s Alternative\" 2013]\n",
      "['Purple Yellow Red and Blue' 'Portugal. The Man' \"'10s Alternative\" 2013]\n",
      "['Space Log (2017 Version)' 'Sung' 'Dance/Electronic' 2017]\n",
      "[\"It's Just Forever (feat. Alison Mosshart)\" 'Cage The Elephant'\n",
      " \"'10s Alternative\" 2013]\n",
      "['Back Against the Wall' 'Cage The Elephant' \"'00s Alternative\" 2008]\n",
      "['Abiogenisis' 'Tonebox' 'Dance/Electronic' 2016]\n",
      "['Evil Friends' 'Portugal. The Man' \"'10s Alternative\" 2013]\n",
      "['Share With Me The Sun' 'Portugal. The Man' \"'10s Alternative\" 2011]\n",
      "['Cry Baby' 'Cage The Elephant' 'Alternative/Indie' 2015]\n",
      "['Take It or Leave It' 'Cage The Elephant' \"'10s Alternative\" 2013]\n",
      "['Gotta Get Away' 'The Black Keys' \"'10s Rock\" 2014]\n",
      "['Everlasting Light' 'The Black Keys' \"'10s Alternative\" 2010]\n",
      "[\"Punchin' Bag\" 'Cage The Elephant' 'Alternative/Indie' 2015]\n",
      "['Tighten Up' 'The Black Keys' \"'10s Alternative\" 2010]\n",
      "['Dead Leaves and the Dirty Ground' 'The White Stripes' \"'00s Rock\" 2001]\n",
      "['Aberdeen' 'Cage The Elephant' \"'10s Alternative\" 2011]\n",
      "['Shore Thing' 'OGRE Sound' 'Dance/Electronic' 2014]\n",
      "['Future' 'Sung' 'Dance/Electronic' 2015]\n",
      "['Gold on the Ceiling' 'The Black Keys' \"'10s Alternative\" 2011]\n",
      "['Come a Little Closer' 'Cage The Elephant' \"'10s Alternative\" 2013]\n",
      "['Lonely Boy' 'The Black Keys' \"'10s Alternative\" 2011]\n",
      "['Cigarette Daydreams' 'Cage The Elephant' \"'10s Alternative\" 2013]\n",
      "['Right Before My Eyes' 'Cage The Elephant' \"'10s Alternative\" 2011]\n",
      "['Trouble' 'Cage The Elephant' 'Alternative/Indie' 2015]\n",
      "['Fever' 'The Black Keys' \"'10s Rock\" 2014]\n",
      "['So American' 'Portugal. The Man' \"'10s Alternative\" 2011]\n",
      "['Flow' 'Cage The Elephant' \"'10s Alternative\" 2011]\n",
      "['Heart of a Lion (Kid Cudi Theme Music)' 'Kid Cudi' 'Hip-Hop/Rap' 2009]\n",
      "['Everything You See (Kids Count Hallelujahs)' 'Portugal. The Man'\n",
      " \"'10s Alternative\" 2011]\n",
      "['Too Late To Say Goodbye' 'Cage The Elephant' 'Alternative/Indie' 2015]\n",
      "['Telescope' 'Cage The Elephant' \"'10s Alternative\" 2013]\n",
      "['How Are You True' 'Cage The Elephant' 'Alternative/Indie' 2015]\n",
      "['Always Something' 'Cage The Elephant' \"'10s Alternative\" 2011]\n",
      "['Sea of Air' 'Portugal. The Man' \"'10s Alternative\" 2013]\n",
      "['City of Ghosts' 'Crockett' 'Dance/Electronic' 2016]\n",
      "['Portuguese Knife Fight' 'Cage The Elephant' 'Alternative/Indie' 2015]\n",
      "['Mess Around' 'Cage The Elephant' 'Alternative/Indie' 2015]\n",
      "['Thunder Love (2017 Version)' 'Sung' 'Dance/Electronic' 2017]\n",
      "['Wait' 'M83' 'Electropop' 2011]\n",
      "['We Own The Sky' 'M83' 'Electropop' 2008]\n",
      "['Once Was One' 'Portugal. The Man' \"'10s Alternative\" 2011]\n",
      "['Cold Cold Cold' 'Cage The Elephant' 'Alternative/Indie' 2015]\n",
      "['Little Black Submarines' 'The Black Keys' \"'10s Alternative\" 2011]\n",
      "['Around My Head' 'Cage The Elephant' \"'10s Alternative\" 2011]\n",
      "['Black Widow' 'Cage The Elephant' \"'10s Alternative\" 2013]\n",
      "\n",
      "21\n",
      "48\n",
      "['Voices (feat. Rita J)' '20syl' 'Dance/Electronic' 2014]\n",
      "['Sunny Day' 'Coyote Kisses' 'Dance/Electronic' 2015]\n",
      "['400 Lux' 'Lorde' 'Electropop' 2013]\n",
      "['Kintsugi' 'Droeloe' 'Dance/Electronic' 2017]\n",
      "['Warm Thoughts' 'Flume' 'Dance/Electronic' 2012]\n",
      "['Holdin On' 'Flume' 'Dance/Electronic' 2012]\n",
      "['Drop The Game' 'Flume & Chet Faker' 'Electronica' 2013]\n",
      "['Lotus Eater' 'Mura Masa' 'Dance/Electronic' 2014]\n",
      "['Buzzcut Season' 'Lorde' 'Electropop' 2013]\n",
      "['Just A Memory (feat. Regina Spektor)' 'ODESZA' 'Dance/Electronic' 2017]\n",
      "['Sintra' 'Flume' 'Dance/Electronic' 2012]\n",
      "['Back & Forth' '20syl' 'Dance/Electronic' 2015]\n",
      "['Meridian' 'ODESZA' 'Dance/Electronic' 2017]\n",
      "['Love$ick (feat. A$AP Rocky)' 'Mura Masa' 'Electronica' 2017]\n",
      "['In Your Eyes' 'Hippie Sabotage' 'Dance/Electronic' 2014]\n",
      "['Sober' 'Childish Gambino' 'Pop' 2014]\n",
      "['Copycat (feat. Fashawn)' '20syl' 'Dance/Electronic' 2015]\n",
      "['Ongoing Thing (feat. Oddisee)' '20syl' 'Dance/Electronic' 2014]\n",
      "['Your Soul' 'Hippie Sabotage' 'Dance/Electronic' 2014]\n",
      "['bodyache' 'Purity Ring' 'Dance/Electronic' 2015]\n",
      "['Lovesick' 'Mura Masa' 'Dance/Electronic' 2015]\n",
      "['...Girl' 'Mura Masa' 'Dance/Electronic' 2014]\n",
      "['Never Be Like You (feat. Kai)' 'Flume' 'Dance/Electronic' 2016]\n",
      "['Change' 'Flume' 'Dance/Electronic' 2012]\n",
      "['Tennis Court' 'Lorde' 'Electropop' 2013]\n",
      "['GUD VIBRATIONS' 'NGHTMRE & SLANDER' 'Dance/Electronic' 2016]\n",
      "['Limelight (NGHTMRE Remix)' 'NGHTMRE' 'Dance/Electronic' 2014]\n",
      "['Homebound' 'Droeloe' 'Dance/Electronic' 2017]\n",
      "['This Is How You Know' 'Coyote Kisses' 'Dance/Electronic' 2013]\n",
      "['Electric (feat. Khalid)' 'Alina Baraz' 'Dance/Electronic' 2018]\n",
      "['What You Need' 'Flume' 'Dance/Electronic' 2012]\n",
      "['Hold Me Close' 'NGHTMRE' None 2016]\n",
      "['Kodama' '20syl' 'Dance/Electronic' 2014]\n",
      "['Sunburn' 'Droeloe' 'Dance/Electronic' 2017]\n",
      "['Love A Little More' 'Just A Gent' 'Dance/Electronic' 2015]\n",
      "['Hologram' 'Vogel' 'Dance/Electronic' 2014]\n",
      "['Waiting Too Long' 'Hippie Sabotage' 'Dance/Electronic' 2014]\n",
      "['What If I Go? (feat. Bonzai)' 'Mura Masa' 'Electronica' 2017]\n",
      "['Show Me' 'ODESZA' 'Dance/Electronic' 2017]\n",
      "['zZz' 'Droeloe' 'Dance/Electronic' 2016]\n",
      "['Show Me the World' 'Hippie Sabotage' 'Dance/Electronic' 2013]\n",
      "['Illusion' 'Coyote Kisses' 'Dance/Electronic' 2015]\n",
      "['Able to See Me' 'Hippie Sabotage' 'Dance/Electronic' 2015]\n",
      "['Sleepless feat. Jezzabell Doran' 'Flume' 'Dance/Electronic' 2012]\n",
      "['Divide (feat. Kelsey Bulkin)' 'ODESZA' 'Dance/Electronic' 2017]\n",
      "['High You Are' 'What So Not & Branchez' 'Dance/Electronic' 2013]\n",
      "['Gemini (feat. George Maple)' 'What So Not' 'Dance/Electronic' 2015]\n",
      "['Royals' 'Lorde' 'Electropop' 2013]\n",
      "\n",
      "11\n",
      "44\n",
      "['Young Jesus (feat. Big Lenbo)' 'Logic' 'Hip-Hop/Rap' 2015]\n",
      "['Alive (Nightmare)' 'Kid Cudi' 'Hip-Hop/Rap' 2009]\n",
      "[\"Negotiation's Over\" 'OGRE Sound' 'Soundtracks' 2014]\n",
      "['Baptized In Fire (feat. Travis Scott)' 'Kid Cudi' 'Hip-Hop/Rap' 2016]\n",
      "['By Design (feat. André Benjamin)' 'Kid Cudi' 'Hip-Hop/Rap' 2016]\n",
      "['Baby Blue (feat. Chance the Rapper)' 'Action Bronson' 'Hip-Hop/Rap' 2015]\n",
      "['Oblivion (feat. Susanne Sundfør)' 'M83' 'Soundtracks' 2013]\n",
      "['StarWaves' 'M83, Anthony Gonzalez & Joseph Trapanese' 'Soundtracks' 2013]\n",
      "['Search the Night' 'Makeup and Vanity Set' 'Dance/Electronic' 2011]\n",
      "['Run It' 'Logic' 'Hip-Hop/Rap' 2015]\n",
      "['Fade Away' 'Logic' 'Hip-Hop/Rap' 2015]\n",
      "['Mr. Rager' 'Kid Cudi' 'Hip-Hop/Rap' 2010]\n",
      "['Roadgame' 'Kavinsky' 'Dance/Electronic' 2013]\n",
      "['Innocence' 'Electric Youth' 'Dance/Electronic' 2014]\n",
      "['3005' 'Childish Gambino' 'Hip-Hop/Rap' 2013]\n",
      "['Till The End' 'Logic' 'Hip-Hop/Rap' 2014]\n",
      "['Indica Badu (feat. Wiz Khalifa)' 'Logic' 'Hip-Hop/Rap' 2018]\n",
      "['Stainless (feat. Dria)' 'Logic' 'Hip-Hop/Rap' 2015]\n",
      "['Solo Dolo Part II (Explicit Version) (feat. Kendrick Lamar)' 'Kid Cudi'\n",
      " 'Hip-Hop/Rap' 2013]\n",
      "['Take Off' 'Betamaxx' 'Electropop' 2015]\n",
      "['Simple As...' 'Kid Cudi' 'Hip-Hop/Rap' 2009]\n",
      "['Baby Boy' 'Childish Gambino' 'R&B/Soul' 2016]\n",
      "['Erase Me (Main) (feat. Kanye West)' 'Kid Cudi' 'Hip-Hop/Rap' 2010]\n",
      "['IV. Sweatpants' 'Childish Gambino' 'Hip-Hop/Rap' 2013]\n",
      "['Everybody' 'Logic' 'Indie/Underground Hip-Hop' 2017]\n",
      "['Redbone' 'Childish Gambino' 'R&B/Soul' 2016]\n",
      "['Spaceflight' 'Efence' 'Dance/Electronic' 2017]\n",
      "['System Override' 'Makeup and Vanity Set' 'Dance/Electronic' 2012]\n",
      "['A Glowing Light, a Promise' 'Makeup and Vanity Set' 'Dance/Electronic'\n",
      " 2012]\n",
      "['Sky Might Fall' 'Kid Cudi' 'Hip-Hop/Rap' 2009]\n",
      "['The Cross' 'Makeup and Vanity Set' 'Dance/Electronic' 2012]\n",
      "['Terrified' 'Childish Gambino' 'R&B/Soul' 2016]\n",
      "['Stars of the Night' 'Dynatron' 'Dance/Electronic' 2016]\n",
      "['Cudi Zone' 'Kid Cudi' 'Hip-Hop/Rap' 2009]\n",
      "['Through the Universe' 'Droid Bishop' 'Dance/Electronic' 2014]\n",
      "['These Worries (feat. Mary J. Blige)' 'Kid Cudi' 'Hip-Hop/Rap' 2010]\n",
      "['Can you kiss me first' 'College' 'Dance/Electronic' 2008]\n",
      "['Alright (feat. Big Sean)' 'Logic' 'Hip-Hop/Rap' 2014]\n",
      "['I. The Worst Guys (feat. Chance The Rapper)' 'Childish Gambino'\n",
      " 'Hip-Hop/Rap' 2013]\n",
      "['Soundtrack 2 My Life' 'Kid Cudi' 'Hip-Hop/Rap' 2009]\n",
      "['Make Her Say' 'Kid Cudi' 'Hip-Hop/Rap' 2009]\n",
      "['Solo Dolo (Nightmare)' 'Kid Cudi' 'Hip-Hop/Rap' 2009]\n",
      "['WAKE UP' 'Travis Scott' 'Hip-Hop/Rap' 2018]\n",
      "['Like Woah' 'Logic' 'Hip-Hop/Rap' 2015]\n",
      "\n",
      "25\n",
      "43\n",
      "[\"You Got Me Floatin'\" 'The Jimi Hendrix Experience' 'Classic Rock' 1967]\n",
      "['The Wind Cries Mary' 'The Jimi Hendrix Experience' \"'60s Pop\" 1967]\n",
      "['Break On Through (To The Other Side)' 'The Doors' \"'60s Rock\" 1967]\n",
      "['Manic Depression' 'The Jimi Hendrix Experience' \"'60s Pop\" 1967]\n",
      "['Bring It On Home' 'Led Zeppelin' 'Rock' 1969]\n",
      "['In The Light' 'Led Zeppelin' 'Hard Rock' 1975]\n",
      "['I Am The Walrus (Remastered)' 'The Beatles' 'Rock' 1967]\n",
      "[\"Living Loving Maid (She's Just A Woman)\" 'Led Zeppelin' 'Rock' 1969]\n",
      "['Four Sticks' 'Led Zeppelin' 'Rock' 1971]\n",
      "[\"She's So Fine\" 'The Jimi Hendrix Experience' 'Classic Rock' 1967]\n",
      "['Riders On The Storm' 'The Doors' 'Classic Rock' 1971]\n",
      "['Love Me Two Times' 'The Doors' 'Classic Rock' 1967]\n",
      "['Misty Mountain Hop' 'Led Zeppelin' 'Rock' 1971]\n",
      "['Up From The Skies' 'The Jimi Hendrix Experience' 'Classic Rock' 1967]\n",
      "['Voodoo Child (Slight Return)' 'The Jimi Hendrix Experience' 'Funk' 1968]\n",
      "['People Are Strange' 'The Doors' 'Classic Rock' 1967]\n",
      "['Hey Joe' 'The Jimi Hendrix Experience' \"'60s Pop\" 1967]\n",
      "['Little Miss Lover' 'The Jimi Hendrix Experience' 'Classic Rock' 1967]\n",
      "['Spanish Castle Magic' 'The Jimi Hendrix Experience' 'Classic Rock' 1967]\n",
      "['If 6 Was 9' 'The Jimi Hendrix Experience' 'Classic Rock' 1967]\n",
      "['Purple Haze' 'The Jimi Hendrix Experience' 'Classic Rock' 1967]\n",
      "['White Room' 'Cream' 'Hard Rock' 1968]\n",
      "['The Rain Song' 'Led Zeppelin' 'Rock' 1973]\n",
      "['When The Levee Breaks' 'Led Zeppelin' 'Rock' 1971]\n",
      "['Bold as Love' 'The Jimi Hendrix Experience' 'Classic Rock' 1967]\n",
      "['The Lemon Song' 'Led Zeppelin' 'Rock' 1969]\n",
      "['Strawberry Fields Forever (Remastered)' 'The Beatles' 'Rock' 1967]\n",
      "['Little Wing' 'The Jimi Hendrix Experience' 'Classic Rock' 1967]\n",
      "['One Rainy Wish' 'The Jimi Hendrix Experience' 'Classic Rock' 1967]\n",
      "['Hello, I Love You' 'The Doors' 'Classic Rock' 1968]\n",
      "['Good Times Bad Times' 'Led Zeppelin' 'Classic Metal' 1969]\n",
      "['Soul Kitchen' 'The Doors' 'Pop' 1967]\n",
      "['Heartbreaker' 'Led Zeppelin' 'Rock' 1969]\n",
      "['Wait Until Tomorrow' 'The Jimi Hendrix Experience' 'Classic Rock' 1967]\n",
      "['How Many More Times' 'Led Zeppelin' 'Classic Metal' 1969]\n",
      "['All Along the Watchtower' 'The Jimi Hendrix Experience' 'Funk' 1968]\n",
      "['Castles Made of Sand' 'The Jimi Hendrix Experience' 'Classic Rock' 1967]\n",
      "[\"Ain't No Telling\" 'The Jimi Hendrix Experience' 'Classic Rock' 1967]\n",
      "['May This Be Love' 'The Jimi Hendrix Experience' \"'60s Pop\" 1967]\n",
      "['What Is And What Should Never Be' 'Led Zeppelin' 'Rock' 1969]\n",
      "[\"That's The Way\" 'Led Zeppelin' 'Classic Metal' 1970]\n",
      "['Light My Fire' 'The Doors' \"'60s Rock\" 1967]\n",
      "['Oh! Darling (Remastered)' 'The Beatles' 'Rock' 1969]\n",
      "\n",
      "2\n",
      "29\n",
      "['Lump' 'The Presidents of the United States of America'\n",
      " \"'00s Alternative\" 1995]\n",
      "['Possum Kingdom' 'Toadies' \"'90s Alternative\" 1994]\n",
      "['Good' 'Better Than Ezra' \"'90s Alternative\" 1993]\n",
      "[\"Walkin' On The Sun\" 'Smash Mouth' 'Alternative/Indie' 1997]\n",
      "['Fly' 'Sugar Ray' 'Rock' 1997]\n",
      "['Someday' 'Sugar Ray' 'Pop' 1999]\n",
      "['No Rain' 'Blind Melon' \"'90s Rock\" 1992]\n",
      "['Vasoline' 'Stone Temple Pilots' \"'90s Alternative\" 1994]\n",
      "['The Middle' 'Jimmy Eat World' 'Emo/Hardcore' 2001]\n",
      "['Santeria' 'Sublime' 'Alternative/Indie' 1996]\n",
      "['Come and Get Your Love' 'Redbone' 'Rock' 2003]\n",
      "['Kryptonite' '3 Doors Down' 'Hard Rock' 1999]\n",
      "['Fly [feat. Super Cat]' 'Sugar Ray' 'Rock' 1997]\n",
      "['Badfish' 'Sublime' 'Alternative/Indie' 1999]\n",
      "[\"Breakfast At Tiffany's\" 'Deep Blue Something' \"'90s Alternative\" 1994]\n",
      "['Two Princes' 'Spin Doctors' 'Jam Rock' 1991]\n",
      "['Every Morning' 'Sugar Ray' 'Pop' 1999]\n",
      "['Plush' 'Stone Temple Pilots' 'Rock' 2018]\n",
      "['Just A Girl' 'No Doubt' \"'90s Pop\" 1995]\n",
      "['Bound For The Floor' 'Local H' 'Alternative/Indie' 1996]\n",
      "['Interstate Love Song' 'Stone Temple Pilots' \"'90s Alternative\" 1994]\n",
      "['Sabotage (2009 Digital Remaster)' 'Beastie Boys' 'Hip-Hop/Rap' 1994]\n",
      "['Wrong Way' 'Sublime' 'Alternative/Indie' 1996]\n",
      "['Jumper' 'Third Eye Blind' 'Alternative/Indie' 1997]\n",
      "['Never Let You Go' 'Third Eye Blind' \"'90s Rock\" 1999]\n",
      "['Semi-Charmed Life' 'Third Eye Blind' 'Alternative/Indie' 1997]\n",
      "['What I Got' 'Sublime' 'Alternative/Indie' 1996]\n",
      "['Kung Fu Fighting' 'Carl Douglas' 'R&B/Soul' 2008]\n",
      "['Loser' 'Beck' \"'90s Alternative\" 1994]\n",
      "\n",
      "1\n",
      "27\n",
      "['Wild World' 'Cat Stevens' 'Singer-Songwriter' 1970]\n",
      "['Dream A Little Dream Of Me (Album Version With Introduction)'\n",
      " 'The Mamas & The Papas' \"'60s Pop\" 1968]\n",
      "['Love Will Tear Us Apart ' 'Joy Division' 'New Wave/Post-Punk' 2011]\n",
      "['Revolution (Remastered)' 'The Beatles' 'Rock' 1973]\n",
      "['I Want To Hold Your Hand (Remastered 2015)' 'The Beatles' 'Rock' 2000]\n",
      "['Seven Seas' 'Echo and the Bunnymen' \"'80s Alternative\" 1984]\n",
      "['Penny Lane (Remastered)' 'The Beatles' 'Rock' 1967]\n",
      "['El Condor Pasa (If I Could)' 'Simon & Garfunkel' 'Folk-Rock' 1970]\n",
      "['For Emily, Whenever I May Find Her (Live)' 'Simon & Garfunkel'\n",
      " \"'60s Pop\" 1972]\n",
      "['The Sound of Silence (Overdubbed Version)' 'Simon & Garfunkel'\n",
      " 'Folk-Rock' 1966]\n",
      "['Ticket To Ride (Remastered)' 'The Beatles' 'Rock' 1965]\n",
      "['April Come She Will' 'Simon & Garfunkel' 'Folk-Rock' 1966]\n",
      "['I Am a Rock' 'Simon & Garfunkel' 'Folk-Rock' 1966]\n",
      "['Homeward Bound' 'Simon & Garfunkel' 'Folk-Rock' 1999]\n",
      "['The Only Living Boy in New York' 'Simon & Garfunkel' 'Folk-Rock' 1970]\n",
      "['Scarborough Fair / Canticle' 'Simon & Garfunkel' 'Folk-Rock' 1966]\n",
      "[\"California Dreamin' (Single Version)\" 'The Mamas And The Papas'\n",
      " 'Folk-Rock' 1966]\n",
      "['Mrs. Robinson' 'Simon & Garfunkel' 'Folk-Rock' 1968]\n",
      "['The Boxer' 'Simon & Garfunkel' 'Folk-Rock' 1970]\n",
      "['A Hazy Shade of Winter' 'Simon & Garfunkel' 'Folk-Rock' 1968]\n",
      "['America' 'Simon & Garfunkel' 'Folk-Rock' 1968]\n",
      "[\"Don't Let Me Down (Remastered)\" 'The Beatles' 'Rock' 1973]\n",
      "[\"Sgt. Pepper's Lonely Hearts Club Band (Remastered)\" 'The Beatles' 'Rock'\n",
      " 1967]\n",
      "['Helplessly Hoping (Remastered Version)' 'Crosby, Stills & Nash'\n",
      " 'Classic Rock' 1969]\n",
      "['My Little Town' 'Simon & Garfunkel' 'Folk-Rock' 1999]\n",
      "['The Killing Moon' 'Echo And The Bunnymen' \"'80s Alternative\" 1984]\n",
      "['Lola' 'The Kinks' 'Rock' 1997]\n",
      "\n",
      "13\n",
      "25\n",
      "['Kick, Push' 'Lupe Fiasco' 'R&B/Soul' 2006]\n",
      "['Superstar (feat. Matthew Santos)' 'Lupe Fiasco' 'Hip-Hop/Rap' 2007]\n",
      "['Mojo So Dope' 'Kid Cudi' 'Hip-Hop/Rap' 2010]\n",
      "[\"Day 'N' Nite (Nightmare) (Original)\" 'Kid Cudi' 'Hip-Hop/Rap' 2009]\n",
      "['Bound 2' 'Kanye West' 'Hip-Hop/Rap' 2013]\n",
      "[\"Lord Willin'\" 'Logic' 'Hip-Hop/Rap' 2015]\n",
      "['I Love College (Album Version Explicit)' 'Asher Roth' 'Hip-Hop/Rap' 2009]\n",
      "['Up Up & Away' 'Kid Cudi' 'Hip-Hop/Rap' 2009]\n",
      "['My World' 'Kid Cudi' 'Hip-Hop/Rap' 2009]\n",
      "['Backseat Freestyle' 'Kendrick Lamar' 'Hip-Hop/Rap' 2012]\n",
      "['King Kunta' 'Kendrick Lamar' 'Hip-Hop/Rap' 2015]\n",
      "['King Wizard (Explicit Version)' 'Kid Cudi' 'Hip-Hop/Rap' 2013]\n",
      "['Now Or Never (Bonus Track) (feat. Mary J. Blige)' 'Kendrick Lamar'\n",
      " 'Hip-Hop/Rap' 2012]\n",
      "[\"Daydreamin' (feat. Jill Scott)\" 'Lupe Fiasco' 'R&B/Soul' 2006]\n",
      "['Money Trees (feat. Jay Rock)' 'Kendrick Lamar' 'Hip-Hop/Rap' 2012]\n",
      "['Just What I Am (Explicit Version) (feat. King Chip)' 'Kid Cudi'\n",
      " 'Hip-Hop/Rap' 2013]\n",
      "['Gotta Have It' 'JAY Z & Kanye West' \"'10s Hip-Hop\" 2011]\n",
      "['Runaway' 'Kanye West' 'Hip-Hop Hitmakers' 2010]\n",
      "['The Show Goes On' 'Lupe Fiasco' 'Hip-Hop/Rap' 2011]\n",
      "['REVOFEV' 'Kid Cudi' 'Hip-Hop/Rap' 2010]\n",
      "['Flashing Lights' 'Kanye West' 'Hip-Hop Hitmakers' 2007]\n",
      "['Pursuit Of Happiness (Nightmare)' 'Kid Cudi' 'Hip-Hop/Rap' 2009]\n",
      "['Man On The Moon (Album Version Explicit)' 'Kid Cudi' 'Hip-Hop/Rap' 2009]\n",
      "['Hip-Hop Saved My Life (feat. Nikki Jean)' 'Lupe Fiasco' 'Hip-Hop/Rap'\n",
      " 2007]\n",
      "['m.A.A.d city (feat. MC Eiht)' 'Kendrick Lamar' 'Hip-Hop/Rap' 2012]\n",
      "\n",
      "0\n",
      "21\n",
      "['Blue Orchid' 'The White Stripes' \"'00s Rock\" 2005]\n",
      "['Girl On A Train' 'Skizzy Mars' 'Hip-Hop/Rap' 2016]\n",
      "['1940 (AmpLive Remix)' 'The Submarines' 'Alternative/Indie' 2010]\n",
      "['Your Silent Face (2015 Remastered Version)' 'New Order' 'Rock' 2015]\n",
      "['The Captain' 'The Phoenix Foundation' 'Alternative/Indie' 2013]\n",
      "['With Me' 'Lane 8' 'Dance/Electronic' 2016]\n",
      "['Chinese Morning' 'The Geek x Vrv' 'Hip-Hop/Rap' 2013]\n",
      "['Sell Yourself' 'Cage The Elephant' \"'10s Alternative\" 2011]\n",
      "['High Enough' 'Hippie Sabotage' 'Dance/Electronic' 2016]\n",
      "['Clouds & Cream' 'Sticky Fingers' 'Alternative/Indie' 2013]\n",
      "['Mask Off' 'Future' 'Hip-Hop/Rap' 2017]\n",
      "['Sour Patch Kids' 'Bryce Vine' 'Hip-Hop/Rap' 2014]\n",
      "['Corners Of The Earth (feat. RY X)' 'ODESZA' 'Dance/Electronic' 2017]\n",
      "['Ribs' 'Lorde' 'Electropop' 2013]\n",
      "['Glory And Gore' 'Lorde' 'Electropop' 2013]\n",
      "['Keep This Going'\n",
      " 'Lee Richardson, Jonathan Murrill, Tom Ford, James Cocozza & Sarah Jane Norman'\n",
      " 'Dance/Electronic' 2016]\n",
      "['Guilty Pleasure' 'Bryce Vine' 'Hip-Hop/Rap' 2014]\n",
      "['Got The Love (feat. Jennifer Hartswick)' 'Big Gigantic'\n",
      " 'Dance/Electronic' 2016]\n",
      "['Yellow Flicker Beat' 'Lorde' 'Soundtracks' 2014]\n",
      "['Elegia (2015 Remastered Version)' 'New Order' 'Rock' 1985]\n",
      "['Private School' 'Bryce Vine' 'Hip-Hop/Rap' 2016]\n",
      "\n",
      "10\n",
      "19\n",
      "['Million Dollar Bills' 'Lorde' 'Electropop' 2013]\n",
      "['Work All Day' 'Portugal. The Man' \"'00s Alternative\" 2009]\n",
      "['Biting Down' 'Lorde' 'Electropop' 2013]\n",
      "['White Teeth Teens' 'Lorde' 'Electropop' 2013]\n",
      "['Insane' 'Moon Holiday' 'Alternative/Indie' 2015]\n",
      "['A World Alone' 'Lorde' 'Electropop' 2013]\n",
      "[\"U Don't Own Me\" 'Delinquent Habits' 'Hip-Hop/Rap' 2003]\n",
      "['Swingin Party' 'Lorde' 'Electropop' 2013]\n",
      "['Noise Pollution (feat. Mary Elizabeth Winstead & Zoe Manville) [Version A, Vocal Up Mix 1.3]'\n",
      " 'Portugal. The Man' 'Alternative/Indie' 2017]\n",
      "['Marijuana' 'Kid Cudi' 'Hip-Hop/Rap' 2010]\n",
      "['Still Sane' 'Lorde' 'Electropop' 2013]\n",
      "['The Love Club' 'Lorde' 'Electropop' 2013]\n",
      "[\"That's Right\" 'Cage The Elephant' 'Alternative/Indie' 2015]\n",
      "['Old Soul' 'MALO' None 2018]\n",
      "['Bravado' 'Lorde' 'Electropop' 2013]\n",
      "['Perfect Places' 'Lorde' 'Electropop' 2017]\n",
      "['March of Progress' 'MALO' None 2018]\n",
      "['Return of the Tres' 'Delinquent Habits' 'Latin Alternative' 2001]\n",
      "['Bon Voyage' 'DROELOE' 'Dance/Electronic' 2016]\n",
      "\n",
      "5\n",
      "18\n",
      "['Amber' '311' 'Hard Rock' 2004]\n",
      "[\"We're Going to Be Friends\" 'The White Stripes' \"'00s Rock\" 2001]\n",
      "['Fell in Love With a Girl' 'The White Stripes' 'Alternative/Indie' 2001]\n",
      "['Steal My Sunshine (Single Version)' 'Len' 'Pop' 1999]\n",
      "['Caress Me Down' 'Sublime' 'Alternative/Indie' 1996]\n",
      "[\"Howlin' For You\" 'The Black Keys' \"'10s Alternative\" 2010]\n",
      "['Seven Nation Army' 'The White Stripes' \"'00s Alternative\" 2003]\n",
      "['Still' 'Geto Boys' 'Hip-Hop/Rap' 1996]\n",
      "[\"Ain't No Rest for the Wicked\" 'Cage The Elephant' \"'00s Alternative\"\n",
      " 2008]\n",
      "['Sunday Bloody Sunday' 'U2' 'Rock' 2006]\n",
      "['Icky Thump' 'The White Stripes' 'Alternative/Indie' 2007]\n",
      "[\"I Still Haven't Found What I'm Looking For (Remastered 2007)\" 'U2'\n",
      " 'Rock' 1987]\n",
      "['Date Rape' 'Sublime' 'Pop' 1992]\n",
      "['April 29, 1992 (Miami)' 'Sublime' 'Alternative/Indie' 1996]\n",
      "['The Hardest Button to Button' 'The White Stripes' \"'00s Rock\" 2003]\n",
      "['Audiotool Day 2016' 'Xtract' 'Dance/Electronic' 2018]\n",
      "['The Denial Twist' 'The White Stripes' \"'00s Alternative\" 2005]\n",
      "[\"Doin' Time\" 'Sublime' 'Alternative/Indie' 1996]\n",
      "\n",
      "9\n",
      "17\n",
      "['Seven Seas Of Rhye' 'Queen' 'Classic Rock' 1992]\n",
      "['Tom Sawyer' 'Rush' 'Classic Rock' 1981]\n",
      "['Black Dog' 'Led Zeppelin' 'Rock' 1971]\n",
      "['Hey, Hey, What Can I Do' 'Led Zeppelin' 'Rock' 1982]\n",
      "['Working Man' 'Rush' 'Hard Rock' 1974]\n",
      "['Kashmir' 'Led Zeppelin' 'Classic Metal' 1975]\n",
      "[\"D'yer Mak'er\" 'Led Zeppelin' 'Classic Rock' 2014]\n",
      "['Thank You' 'Led Zeppelin' 'Rock' 1969]\n",
      "['Going To California' 'Led Zeppelin' 'Rock' 1971]\n",
      "['Ramble On' 'Led Zeppelin' 'Rock' 1969]\n",
      "['The Ocean' 'Led Zeppelin' 'Rock' 1973]\n",
      "['Over The Hills And Far Away' 'Led Zeppelin' 'Classic Rock' 2014]\n",
      "['All My Love' 'Led Zeppelin' 'Hard Rock' 1979]\n",
      "['Immigrant Song' 'Led Zeppelin' 'Classic Metal' 1970]\n",
      "['Tangerine' 'Led Zeppelin' 'Classic Metal' 1970]\n",
      "['Stairway To Heaven' 'Led Zeppelin' 'Rock' 1971]\n",
      "['Born To Be Wild' 'Steppenwolf' 'Pop' 1969]\n",
      "\n",
      "23\n",
      "16\n",
      "['Mad World' 'Tears For Fears' \"'80s Alternative\" 1983]\n",
      "['Head Over Heels (Dave Bascombe 7\" N.Mix)' 'Tears For Fears' \"'80s Pop\"\n",
      " 1985]\n",
      "['Shout' 'Tears For Fears' \"'80s Pop\" 1985]\n",
      "['Bizarre Love Triangle' 'New Order' 'Alternative/Indie' 1986]\n",
      "['Personal Jesus (Original Seven Inch Version)' 'Depeche Mode' 'Pop' 1989]\n",
      "['Girls On Film' 'Duran Duran' \"'80s Pop\" 1981]\n",
      "['Everybody Wants To Rule The World' 'Tears For Fears' \"'80s Pop\" 1985]\n",
      "['The Promise' 'When In Rome' 'Electropop' 1988]\n",
      "[\"Don't You (Forget About Me)\" 'Simple Minds' 'Pop' 2013]\n",
      "['Never Let Me Down Again' 'Depeche Mode' 'Pop' 1987]\n",
      "['Blue Monday-88' 'New Order' 'Pop' 1996]\n",
      "['Save A Prayer (2001 Remastered Version)' 'Duran Duran' \"'80s Pop\" 1982]\n",
      "['Age Of Consent (2015 Remastered Version)' 'New Order' 'Rock' 2015]\n",
      "['Runaway' 'Bon Jovi' 'Pop' 1984]\n",
      "['Blue Monday (2011 Total Version)' 'New Order' 'Rock' 2011]\n",
      "['Hungry Like The Wolf (2009 Remastered Version)' 'Duran Duran' \"'80s Pop\"\n",
      " 1982]\n",
      "\n",
      "15\n",
      "15\n",
      "['HyperParadise (Flume Remix)' 'Flume' 'Dance/Electronic' 2012]\n",
      "['Across The Room (feat. Leon Bridges)' 'ODESZA' 'Dance/Electronic' 2017]\n",
      "['Innerbloom' 'RÜFÜS DU SOL' 'Electronica' 2016]\n",
      "['Dust Clouds' '20syl' 'Dance/Electronic' 2015]\n",
      "['Morning Bj' 'Point Point' 'Dance/Electronic' 2014]\n",
      "['Seven Eleven (feat. Ibrahim Maalouf)' '20syl' 'Dance/Electronic' 2014]\n",
      "['All This' 'Point Point' 'Dance/Electronic' 2016]\n",
      "['Insane feat. Moon Holiday' 'Flume' 'Dance/Electronic' 2012]\n",
      "['Everything At Your Feet (feat. The Chamanas)' 'ODESZA'\n",
      " 'Dance/Electronic' 2017]\n",
      "['On Top (feat. T-Shirt)' 'Flume' 'Dance/Electronic' 2012]\n",
      "['Fantasy' 'Alina Baraz' 'Dance/Electronic' 2015]\n",
      "['Helix' 'Flume' 'Dance/Electronic' 2016]\n",
      "['Life in Grey' 'Point Point' 'Dance/Electronic' 2014]\n",
      "['Bring You Down feat. George Maple' 'Flume' 'Dance/Electronic' 2012]\n",
      "['Tropical Sun' 'Flume' 'Dance/Electronic' 2012]\n",
      "\n",
      "16\n",
      "15\n",
      "['Boy' 'ODESZA' 'Dance/Electronic' 2017]\n",
      "['Line Of Sight (feat. WYNNE & Mansionair)' 'ODESZA' 'Dance/Electronic'\n",
      " 2017]\n",
      "['Numb & Getting Colder (feat. Kučka)' 'Flume' 'Dance/Electronic' 2016]\n",
      "['Thin Floors And Tall Ceilings' 'ODESZA' 'Dance/Electronic' 2017]\n",
      "['Higher Ground (feat. Naomi Wild)' 'ODESZA' 'Dance/Electronic' 2017]\n",
      "['A Moment Apart' 'ODESZA' 'Dance/Electronic' 2017]\n",
      "['La Ciudad' 'ODESZA' 'Dance/Electronic' 2017]\n",
      "['Take a Chance (feat Little Dragon)' 'Flume' 'Dance/Electronic' 2016]\n",
      "['Smoke & Retribution (feat. Vince Staples & Kučka)' 'Flume'\n",
      " 'Dance/Electronic' 2016]\n",
      "['Falls (feat. Sasha Sloan)' 'ODESZA' 'Dance/Electronic' 2017]\n",
      "['Hyperreal (feat. Kučka)' 'Flume' 'Dance/Electronic' 2017]\n",
      "['Without You (Vindata Remix)' 'ODESZA' 'Dance/Electronic' 2013]\n",
      "['Heater' 'Flume' 'Dance/Electronic' 2016]\n",
      "['Say It (feat. Tove Lo)' 'Flume' 'Dance/Electronic' 2016]\n",
      "['Late Night' 'ODESZA' 'Dance/Electronic' 2017]\n",
      "\n",
      "19\n",
      "15\n",
      "['I Wish' 'Skee-Lo' 'Hip-Hop/Rap' 1995]\n",
      "['Mind Playing Tricks on Me' 'Geto Boys' 'Hip-Hop/Rap' 1991]\n",
      "['Craziest' 'Naughty By Nature' 'Hip-Hop/Rap' 1995]\n",
      "['Feel Me Flow' 'Naughty By Nature' 'Hip-Hop/Rap' 1995]\n",
      "['It Could Be Round Two' 'Delinquent Habits' 'West Coast Hip-Hop' 2017]\n",
      "['Shake' 'Delinquent Habits' 'West Coast Hip-Hop' 2017]\n",
      "['O.P.P' 'Naughty By Nature' 'East Coast Hip-Hop' 1991]\n",
      "['Jamboree (feat. Zhané)' 'Naughty By Nature' 'Hip-Hop/Rap' 1999]\n",
      "['California (feat. Sen Dog)' 'Delinquent Habits' 'West Coast Hip-Hop'\n",
      " 2017]\n",
      "['Tres Delinquentes (Radio)' 'Delinquent Habits' 'Pop' 2013]\n",
      "['Uptown Anthem' 'Naughty By Nature' 'East Coast Hip-Hop' 1991]\n",
      "['Lower Eastside' 'Delinquent Habits' 'Latin Rap/Hip-Hop en Español' 1996]\n",
      "['Little Wing' 'The Jimi Hendrix Experience' 'Classic Rock' 1967]\n",
      "['Insane in the Brain' 'Cypress Hill' \"'90s Hip-Hop\" 1993]\n",
      "['Hip-Hop Hooray' 'Naughty by Nature' 'Hip-Hop/Rap' 2011]\n",
      "\n",
      "12\n",
      "14\n",
      "['Nowhere Man' 'Bryce Vine' 'Dance/Electronic' 2017]\n",
      "['Rock And Roll' 'Led Zeppelin' 'Rock' 1971]\n",
      "['Drew Barrymore' 'Bryce Vine' 'Hip-Hop/Rap' 2018]\n",
      "[\"Signed, Sealed, Delivered (I'm Yours)\" 'Stevie Wonder' 'Classic Soul'\n",
      " 1970]\n",
      "[\"Let's Get It On (Single Version)\" 'Marvin Gaye' 'Classic Soul' 1973]\n",
      "['I Want You Back' 'Jackson 5' 'Funk' 2010]\n",
      "['Respect' 'Aretha Franklin' 'Classic Soul' 1967]\n",
      "['A Horse with No Name (Remastered Version)' 'America' \"'70s Pop\" 2001]\n",
      "[\"Let's Stay Together\" 'Al Green' 'Classic Soul' 1972]\n",
      "['Feel It Still' 'Portugal. The Man' 'Alternative/Indie' 2017]\n",
      "['Whole Lotta Love' 'Led Zeppelin' 'Rock' 1969]\n",
      "['Los Angeles' 'Bryce Vine' 'Hip-Hop/Rap' 2016]\n",
      "['Glamorama' 'Bryce Vine' 'Hip-Hop/Rap' 2016]\n",
      "['The Fall' 'Bryce Vine' 'Hip-Hop/Rap' 2016]\n",
      "\n",
      "6\n",
      "13\n",
      "['Bad Company (2015 Remastered Version)' 'Bad Company' 'Classic Rock' 1974]\n",
      "['Lady' 'Styx' 'Hard Rock' 1973]\n",
      "[\"You Ain't Seen Nothing Yet\" 'Bachman-Turner Overdrive' 'Rock' 2013]\n",
      "[\"Let's Go\" 'The Cars' 'Pop' 1979]\n",
      "['Goodbye Yellow Brick Road (Remastered 2014)' 'Elton John' 'Classic Rock'\n",
      " 1973]\n",
      "['Sweet Caroline' 'Neil Diamond' \"'60s Pop\" 1969]\n",
      "[\"Brandy (You're a Fine Girl)\" 'Looking Glass' 'Pop' 1972]\n",
      "['Cecilia' 'Simon & Garfunkel' 'Folk-Rock' 1970]\n",
      "['Stuck In The Middle With You' 'Stealers Wheel' 'Pop' 1991]\n",
      "['Swingtown' 'Steve Miller Band' 'Rock' 1977]\n",
      "['Come Sail Away' 'Styx' 'Classic Rock' 1977]\n",
      "['Take The Money And Run' 'Steve Miller Band' 'Blues' 1976]\n",
      "['Flowers Never Bend with the Rainfall' 'Simon & Garfunkel' 'Folk-Rock'\n",
      " 1966]\n",
      "\n",
      "24\n",
      "13\n",
      "[\"Don't Stop Me Now\" 'Queen' 'Classic Rock' 1978]\n",
      "['Mr. Blue Sky' 'Electric Light Orchestra' \"'70s Rock\" 1977]\n",
      "['One Vision (Single Version)' 'Queen' \"'80s Rock\" 1986]\n",
      "['I Want To Break Free (Single Version)' 'Queen' 'Classic Rock' 1992]\n",
      "['Under Pressure' 'Queen, David Bowie' 'Classic Rock' 1982]\n",
      "['Crazy Little Thing Called Love' 'Queen' 'Classic Rock' 1980]\n",
      "['Good Old Fashioned Lover Boy' 'Queen' 'Classic Rock' 1992]\n",
      "['Play The Game' 'Queen' 'Classic Rock' 1980]\n",
      "['Who Wants To Live Forever' 'Queen' \"'80s Rock\" 1986]\n",
      "['We Are The Champions' 'Queen' 'Classic Rock' 1992]\n",
      "['Somebody To Love' 'Queen' 'Classic Rock' 1992]\n",
      "['Radio Ga Ga' 'Queen' 'Classic Rock' 1984]\n",
      "[\"Livin' On A Prayer\" 'Bon Jovi' 'Hard Rock' 2010]\n",
      "\n",
      "18\n",
      "12\n",
      "['begin again' 'Purity Ring' 'Dance/Electronic' 2015]\n",
      "['Midnight City' 'M83' 'Electropop' 2011]\n",
      "['Modern Jesus' 'Portugal. The Man' \"'10s Alternative\" 2013]\n",
      "['Lofticries' 'Purity Ring' 'Alternative/Indie' 2012]\n",
      "['It Follows Theme (From \"It Follows\")' 'Retrospectre' 'Soundtracks' 2017]\n",
      "['Go! (feat. Mai Lan)' 'M83' 'Dance/Electronic' 2016]\n",
      "['Laser Gun (feat. Mai Lan)' 'M83' 'Dance/Electronic' 2016]\n",
      "['Abesses (Beat Torrent Remix)' 'Birdy Nam Nam' 'Dance/Electronic' 2010]\n",
      "['Fineshrine' 'Purity Ring' 'Alternative/Indie' 2012]\n",
      "['Team' 'Lorde' 'Electropop' 2013]\n",
      "['Obedear' 'Purity Ring' 'Alternative/Indie' 2012]\n",
      "[\"Got It All (This Can't Be Living Now)\" 'Portugal. The Man'\n",
      " \"'10s Alternative\" 2011]\n",
      "\n",
      "20\n",
      "12\n",
      "[\"It's My Life (1997 Remastered Version)\" 'Talk Talk' 'Pop' 1984]\n",
      "['Everything Counts' 'Depeche Mode' 'New Wave/Post-Punk' 1983]\n",
      "['Forever Young' 'Alphaville' 'Pop' 1984]\n",
      "['A View To A Kill' 'Duran Duran' \"'80s Pop\" 1998]\n",
      "['True' 'Spandau Ballet' \"'80s Pop\" 2008]\n",
      "['Temptation' 'New Order' 'Rock' 2011]\n",
      "['A Kind Of Magic' 'Queen' \"'80s Rock\" 1986]\n",
      "['Enjoy The Silence (Remastered Version)' 'Depeche Mode' 'Electropop' 2006]\n",
      "['Policy Of Truth (2006 Remastered Version)' 'Depeche Mode'\n",
      " 'Dance/Electronic' 1990]\n",
      "['Bring On The Dancing Horses' 'Echo And The Bunnymen' 'Alternative/Indie'\n",
      " 1985]\n",
      "[\"Just Can't Get Enough (2006 Remastered Version)\" 'Depeche Mode' 'Pop'\n",
      " 1981]\n",
      "['Hammer to Fall' 'Queen' 'Classic Rock' 1984]\n",
      "\n",
      "7\n",
      "11\n",
      "['Lips Like Sugar' 'Echo And The Bunnymen' \"'80s Alternative\" 1987]\n",
      "['Just Like Heaven (2006 Remastered Version)' 'The Cure'\n",
      " 'Alternative/Indie' 1987]\n",
      "['I Want To Break Free (Single Remix)' 'Queen' 'Classic Rock' 1984]\n",
      "['Close To Me' 'The Cure' 'Rock' 2001]\n",
      "[\"You're My Best Friend\" 'Queen' 'Classic Rock' 1975]\n",
      "['How Soon Is Now?' 'The Smiths' 'Alternative/Indie' 2008]\n",
      "['Bohemian Rhapsody' 'Queen' 'Classic Rock' 1975]\n",
      "['Pictures Of You' 'The Cure' 'New Wave/Post-Punk' 1989]\n",
      "['Killer Queen' 'Queen' 'Classic Rock' 1992]\n",
      "['In Between Days' 'The Cure' 'Rock' 1985]\n",
      "[\"Friday I'm In Love\" 'The Cure' 'Alternative/Indie' 1992]\n",
      "\n",
      "22\n",
      "11\n",
      "['Norwegian Wood (This Bird Has Flown) (Remastered)' 'The Beatles' 'Rock'\n",
      " 1965]\n",
      "['Across The Universe (Remastered)' 'The Beatles' 'Rock' 1970]\n",
      "['Help! (Remastered)' 'The Beatles' 'Rock' 1965]\n",
      "['Ob-La-Di, Ob-La-Da (Remastered)' 'The Beatles' 'Rock' 1968]\n",
      "['Come Together (Remastered)' 'The Beatles' 'Rock' 1969]\n",
      "['Day Tripper (Remastered 2015)' 'The Beatles' 'Rock' 2000]\n",
      "['Blackbird (Remastered)' 'The Beatles' 'Rock' 1968]\n",
      "['With A Little Help From My Friends (Remastered)' 'The Beatles' 'Rock'\n",
      " 1967]\n",
      "['Twist And Shout (Remastered)' 'The Beatles' 'Rock' 1963]\n",
      "['A Day In The Life (Remastered)' 'The Beatles' 'Rock' 1967]\n",
      "['Lucy In The Sky With Diamonds (Remastered)' 'The Beatles' 'Rock' 1967]\n",
      "\n",
      "8\n",
      "10\n",
      "['White Wedding (Pt. 1 / Remastered 2002)' 'Billy Idol' 'Rock' 2008]\n",
      "[\"Jessie's Girl\" 'Rick Springfield' \"'80s Pop\" 1981]\n",
      "['Obsession' 'Animotion' 'Dance/Electronic' 1996]\n",
      "['Peace of Mind' 'Boston' 'Rock' 1976]\n",
      "['Voices Carry' \"'Til Tuesday\" \"'80s Pop\" 2001]\n",
      "['Bette Davis Eyes' 'Kim Carnes' \"'80s Pop\" 1981]\n",
      "['Sister Christian' 'Night Ranger' 'Hard Rock' 1983]\n",
      "['White Wedding (Pt. 1)' 'Billy Idol' 'New Wave/Post-Punk' 1982]\n",
      "['Heart Of Glass (Remix)' 'Blondie' 'Pop' 1988]\n",
      "['Slave To Love (1999 Digital Remaster)' 'Bryan Ferry' 'Pop' 1985]\n",
      "\n",
      "14\n",
      "10\n",
      "['Fool In The Rain' 'Led Zeppelin' 'Rock' 1979]\n",
      "['Here Comes The Sun (Remastered)' 'The Beatles' 'Rock' 1969]\n",
      "['Pride (In The Name Of Love) (Remastered 2009)' 'U2' \"'80s Rock\" 1984]\n",
      "['With Or Without You (Remastered 2007)' 'U2' 'Rock' 1987]\n",
      "['Where The Streets Have No Name (Remastered 2007)' 'U2' 'Rock' 1987]\n",
      "['Sympathy For The Devil' 'The Rolling Stones' 'Classic Rock' 1968]\n",
      "['Play The Game' 'Queen' 'Classic Rock' 1992]\n",
      "['Bridge over Troubled Water' 'Simon & Garfunkel' \"'60s Pop\" 1972]\n",
      "['Let It Be (Remastered)' 'The Beatles' 'Rock' 1970]\n",
      "['In My Life (Remastered)' 'The Beatles' 'Rock' 1965]\n",
      "\n",
      "4\n",
      "9\n",
      "[\"Ain't Too Proud To Beg\" 'The Temptations' 'Classic Soul' 2013]\n",
      "['Can I Kick It?' 'A Tribe Called Quest' 'Hip-Hop/Rap' 1990]\n",
      "[\"I Can't Help Myself (Sugar Pie, Honey Bunch)\" 'Four Tops' 'Classic Soul'\n",
      " 1965]\n",
      "['Because (Remastered)' 'The Beatles' 'Rock' 1969]\n",
      "['Tres Delinquentes feat Sen Dog' 'Delinquent Habits' 'Hip-Hop/Rap' 2015]\n",
      "['Lady Madonna (Remastered 2015)' 'The Beatles' 'Rock' 2000]\n",
      "['(Your Love Keeps Lifting Me) Higher & Higher' 'Jackie Wilson'\n",
      " 'Classic R&B' 2006]\n",
      "[\"(Sittin' On) The Dock Of The Bay\" 'Otis Redding' 'R&B/Soul' 1968]\n",
      "['Exp' 'The Jimi Hendrix Experience' 'Classic Rock' 1967]\n",
      "\n",
      "17\n",
      "7\n",
      "[\"Don't Dream It's Over\" 'Crowded House' 'Alternative/Indie' 1986]\n",
      "['Girls Just Want to Have Fun' 'Cyndi Lauper' \"'80s Pop\" 2001]\n",
      "['One Vision' 'Queen' \"'80s Rock\" 1986]\n",
      "['Take My Breath Away' 'Berlin' 'New Wave/Post-Punk' 1986]\n",
      "['Rebel Yell (Remastered)' 'Billy Idol' 'Rock' 2008]\n",
      "['Time After Time' 'Cyndi Lauper' 'Pop' 1983]\n",
      "[\"Don't You (Forget About Me)\" 'Simple Minds' 'Rock' 1985]\n",
      "\n"
     ]
    }
   ],
   "source": [
    "for i,cluster in sorted(enumerate(clusters),key=lambda tup: -len(tup[1])):\n",
    "    print(i)\n",
    "    print(len(cluster))\n",
    "    print(\"\\n\".join(cluster))\n",
    "    print()"
   ]
  },
  {
   "cell_type": "code",
   "execution_count": null,
   "metadata": {
    "collapsed": true
   },
   "outputs": [],
   "source": []
  },
  {
   "cell_type": "code",
   "execution_count": null,
   "metadata": {
    "collapsed": false
   },
   "outputs": [],
   "source": [
    "if all_song\n",
    "    api.delete_playlist(allsongs_id)\n",
    "except:\n",
    "    pass\n",
    "allsongs_id_new = api.create_playlist(allsongs_name)\n",
    "api.add_songs_to_playlist(allsongs_id_new,list(set(ids)))"
   ]
  }
 ],
 "metadata": {
  "anaconda-cloud": {},
  "kernelspec": {
   "display_name": "Python [default]",
   "language": "python",
   "name": "python3"
  },
  "language_info": {
   "codemirror_mode": {
    "name": "ipython",
    "version": 3
   },
   "file_extension": ".py",
   "mimetype": "text/x-python",
   "name": "python",
   "nbconvert_exporter": "python",
   "pygments_lexer": "ipython3",
   "version": "3.5.2"
  }
 },
 "nbformat": 4,
 "nbformat_minor": 1
}
