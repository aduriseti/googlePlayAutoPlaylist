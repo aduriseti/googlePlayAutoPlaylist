{
 "cells": [
  {
   "cell_type": "code",
   "execution_count": 1,
   "metadata": {
    "collapsed": false
   },
   "outputs": [
    {
     "name": "stdout",
     "output_type": "stream",
     "text": [
      "/Users/aduriseti/Library/Logs/gmusicapi/gmusicapi.log\n"
     ]
    },
    {
     "name": "stderr",
     "output_type": "stream",
     "text": [
      "Using TensorFlow backend.\n"
     ]
    }
   ],
   "source": [
    "#!pip install gmusicapi\n",
    "from gmusicapi import Mobileclient,Webclient,Musicmanager\n",
    "from gmusicapi.utils import utils\n",
    "print (utils.log_filepath)\n",
    "import numpy as np\n",
    "import pandas as pd\n",
    "import scipy as sp\n",
    "import tensorflow as tf\n",
    "import keras as ks\n",
    "from matplotlib import pyplot as plt\n",
    "%matplotlib inline\n",
    "import requests\n",
    "import gensim\n",
    "# !pip install tqdm\n",
    "from tqdm import tqdm_notebook as tqdm\n",
    "import sklearn as sk\n",
    "\n",
    "import sklearn.preprocessing\n",
    "import sklearn.ensemble\n",
    "\n",
    "from sklearn import neural_network\n",
    "\n",
    "import json"
   ]
  },
  {
   "cell_type": "code",
   "execution_count": 2,
   "metadata": {
    "collapsed": false
   },
   "outputs": [],
   "source": [
    "# email = 'aduriseti@gmail.com'\n",
    "\n",
    "# # # w/o 2fa\n",
    "# # with open('pswd.txt') as pswdfile:\n",
    "# #     pswd = \"\".join(pswdfile.read().split())\n",
    "# # w/ 2fa\n",
    "# pswd = 'ehshpxjlzaaoknix'\n",
    "\n",
    "# # api = Webclient()\n",
    "# # api.login('aduriseti@gmail.com', pswd)\n",
    "# # # => True\n",
    "\n",
    "# # api = Mobileclient()\n",
    "# # api.login('aduriseti@gmail.com',pswd,api.FROM_MAC_ADDRESS)\n",
    "\n",
    "# # api = Mobileclient()\n",
    "# # api.login('aduriseti@gmail.com',pswd,'1234567890abcdef')\n",
    "\n",
    "# api = Mobileclient()\n",
    "# # api.logout()\n",
    "# api.login(email,pswd,'ios736804AE-FC53-4256-B0A8-AE6654382D33')\n",
    "# # api.login('aduriseti@gmail.com',pswd,'ios59025538-078C-430D-B894-458DC03ED2F3')\n",
    "# # api.login('aduriseti@gmail.com',pswd,'iosCA0EA169-C6CA-4C54-9EF1-402D90F7C204')\n",
    "# # test gpsoauth\n",
    "# # gpsoauth.perform_master_login('aduriseti@gmail.com',pswd,'iosCA0EA169-C6CA-4C54-9EF1-402D90F7C204')"
   ]
  },
  {
   "cell_type": "code",
   "execution_count": 3,
   "metadata": {
    "collapsed": false
   },
   "outputs": [
    {
     "name": "stdout",
     "output_type": "stream",
     "text": [
      "DEVICE ios:736804AE-FC53-4256-B0A8-AE6654382D33 NOT AUTHORIZED\n",
      "DEVICE ios:59025538-078C-430D-B894-458DC03ED2F3 NOT AUTHORIZED\n",
      "DEVICE ios:CA0EA169-C6CA-4C54-9EF1-402D90F7C204 NOT AUTHORIZED\n"
     ]
    }
   ],
   "source": [
    "email = 'aduriseti@gmail.com'\n",
    "pswd = 'ehshpxjlzaaoknix'\n",
    "\n",
    "api = Mobileclient(debug_logging=False)\n",
    "api.login(email,pswd,api.FROM_MAC_ADDRESS)\n",
    "testsongid = api.get_all_songs()[0]['id']\n",
    "# api.get_stream_url(testsongid)\n",
    "\n",
    "for device in api.get_registered_devices():\n",
    "    api.logout()\n",
    "    api.login(email,pswd,device['id'].replace(':',''))\n",
    "    try:\n",
    "        api.get_stream_url(testsongid)\n",
    "        print('DEVICE',device['id'],'AUTHORIZED')\n",
    "        break\n",
    "    except:\n",
    "        print('DEVICE',device['id'],'NOT AUTHORIZED')"
   ]
  },
  {
   "cell_type": "code",
   "execution_count": 4,
   "metadata": {
    "collapsed": false
   },
   "outputs": [],
   "source": [
    "for track in api.get_all_songs():\n",
    "    try:\n",
    "        api.get_stream_url(track['id'])\n",
    "        print(track['title'])\n",
    "    except:\n",
    "        continue\n",
    "# api.get_stream_url(track['id'])"
   ]
  },
  {
   "cell_type": "markdown",
   "metadata": {},
   "source": [
    "### TODO\n",
    "- [ ] create issue about getting songs in thumbs up but not in library\n",
    "    - [ ] get_playlist_songs for auto playlist is always returning [] #99\n",
    "    - [ ] generate auto playlist https://gist.github.com/simon-weber/5007769\n",
    "    - [ ] Getting the auto-generated playlists using MobileClient #200\n",
    "- [ ] fix issue about logging gpsoauth behavior - log unexpected responses from gpsoauth #532\n",
    "- [ ] create issue about no valid apple id being able to generate streaming urls"
   ]
  },
  {
   "cell_type": "markdown",
   "metadata": {},
   "source": [
    "#### Approach\n",
    "- [ ] sample stations to create 'sentences' - get duplicates\n",
    "- [ ] create song embeddings from song corpus\n",
    "- [ ] predict genre from song embedding\n",
    "- [ ] get song audio\n",
    "- [ ] display song audio\n",
    "- [ ] stream song audio\n",
    "- [ ] get spectrogram from songs\n",
    "- [ ] predict song embedding / song genre from \n",
    "    - [ ] (cnn/cnn w/ attention (heirarchical?)\n",
    "    - [ ] (LSTM/GRU/RNN w/ attention)"
   ]
  },
  {
   "cell_type": "code",
   "execution_count": null,
   "metadata": {
    "collapsed": true
   },
   "outputs": [],
   "source": []
  },
  {
   "cell_type": "code",
   "execution_count": 5,
   "metadata": {
    "collapsed": false
   },
   "outputs": [
    {
     "name": "stdout",
     "output_type": "stream",
     "text": [
      "PLAYLIST\n",
      "\n",
      "STATIONS\n",
      "\n"
     ]
    }
   ],
   "source": [
    "# get all songs associated with account\n",
    "songs = api.get_all_songs()\n",
    "playlists = api.get_all_playlists()\n",
    "playlist_content = api.get_all_user_playlist_contents()\n",
    "stations = api.get_all_stations()\n",
    "allsongs_name = 'allsongs'\n",
    "allsongs_id = ([None]+[p['id'] for p in playlists if p['name'] == allsongs_name])[0]\n",
    "ids = []\n",
    "ids += [s['id'] for s in songs]\n",
    "print('PLAYLIST')\n",
    "for p in tqdm(playlist_content):\n",
    "    ids += [s['id'] for s in p['tracks']]\n",
    "print('STATIONS')\n",
    "for s in tqdm(stations):\n",
    "#     ids = list(set(ids))\n",
    "    tracks = api.get_station_tracks(s['id'],num_tracks=25)\n",
    "    ids += [t['storeId'] for t in tracks]"
   ]
  },
  {
   "cell_type": "code",
   "execution_count": 6,
   "metadata": {
    "collapsed": false
   },
   "outputs": [
    {
     "data": {
      "text/plain": [
       "(1707, 1686)"
      ]
     },
     "execution_count": 6,
     "metadata": {},
     "output_type": "execute_result"
    }
   ],
   "source": [
    "uids = list(set(ids))\n",
    "len(ids),len(uids)"
   ]
  },
  {
   "cell_type": "code",
   "execution_count": 309,
   "metadata": {
    "collapsed": true
   },
   "outputs": [],
   "source": [
    "import json"
   ]
  },
  {
   "cell_type": "code",
   "execution_count": 311,
   "metadata": {
    "collapsed": true
   },
   "outputs": [],
   "source": [
    "queues_format_filename = 'queues_v0.json'"
   ]
  },
  {
   "cell_type": "code",
   "execution_count": 353,
   "metadata": {
    "collapsed": true
   },
   "outputs": [],
   "source": [
    "try:\n",
    "    with open(queues_format_filename) as queuesfile:\n",
    "        queues = json.load(queuesfile)\n",
    "except:\n",
    "    queues = []"
   ]
  },
  {
   "cell_type": "code",
   "execution_count": 357,
   "metadata": {
    "collapsed": false
   },
   "outputs": [],
   "source": [
    "temp_nm = 'temp'\n",
    "temp_ids = [s['id'] for s in api.get_all_stations() if s['name']==temp_nm]\n",
    "mdkeys = ('title','artist','genre','year')\n",
    "idkeys = ('id','storeId','nid')\n",
    "if temp_ids: api.delete_stations(temp_ids)\n",
    "for ID in tqdm(uids[:]):\n",
    "    temp_id = api.create_station(name=temp_nm,track_id=ID)\n",
    "    tracks = api.get_station_tracks(station_id=temp_id,num_tracks=200)\n",
    "#     print(len(tracks))\n",
    "    queues.append([([t[mdkey] if mdkey in t else None for mdkey in mdkeys],\n",
    "                    [t[idkey] for idkey in idkeys if idkey in t][0]) \n",
    "                   for t in tracks])\n",
    "    api.delete_stations(temp_id)"
   ]
  },
  {
   "cell_type": "code",
   "execution_count": 390,
   "metadata": {
    "collapsed": false
   },
   "outputs": [],
   "source": [
    "try:\n",
    "    with open(queues_format_filename,'w') as queuesfile:\n",
    "        json.dump(queues,queuesfile)\n",
    "except:\n",
    "    print('SUCKS TO SUCK')"
   ]
  },
  {
   "cell_type": "code",
   "execution_count": 359,
   "metadata": {
    "collapsed": false
   },
   "outputs": [
    {
     "data": {
      "text/plain": [
       "7674"
      ]
     },
     "execution_count": 359,
     "metadata": {},
     "output_type": "execute_result"
    }
   ],
   "source": [
    "len(queues)"
   ]
  },
  {
   "cell_type": "code",
   "execution_count": 361,
   "metadata": {
    "collapsed": false
   },
   "outputs": [],
   "source": [
    "queues_md,queues_id = list(zip(*[list(zip(*q)) for q in queues if q]))"
   ]
  },
  {
   "cell_type": "code",
   "execution_count": 362,
   "metadata": {
    "collapsed": false
   },
   "outputs": [
    {
     "data": {
      "text/plain": [
       "53230"
      ]
     },
     "execution_count": 362,
     "metadata": {},
     "output_type": "execute_result"
    },
    {
     "data": {
      "image/png": "[encoded data removed]",
      "text/plain": [
       "<matplotlib.figure.Figure at 0x15fff9da0>"
      ]
     },
     "metadata": {},
     "output_type": "display_data"
    }
   ],
   "source": [
    "cdict = {}\n",
    "for q in queues_id:\n",
    "    for sid in q:\n",
    "        if sid not in cdict:\n",
    "            cdict[sid] =0\n",
    "        cdict[sid] += 1        \n",
    "\n",
    "plt.plot(sorted(v for k,v in cdict.items()))\n",
    "sum(1 for sid,c in cdict.items() if c >= 5)"
   ]
  },
  {
   "cell_type": "code",
   "execution_count": 363,
   "metadata": {
    "collapsed": false
   },
   "outputs": [],
   "source": [
    "# !pip install --upgrade gensim\n",
    "\n",
    "# import gensim"
   ]
  },
  {
   "cell_type": "code",
   "execution_count": null,
   "metadata": {
    "collapsed": true
   },
   "outputs": [],
   "source": [
    "sids = list(set(sid for q in queues_id for sid in q))\n",
    "sid2md = dict((sid,md) for q in queues for md,sid in q)\n",
    "\n",
    "genres = set(md[2] for q in queues_md for md in q)\n",
    "idx2genre = dict(enumerate(genres))\n",
    "genre2idx = dict((g,i) for i,g in enumerate(genres))"
   ]
  },
  {
   "cell_type": "code",
   "execution_count": 375,
   "metadata": {
    "collapsed": false
   },
   "outputs": [
    {
     "data": {
      "text/plain": [
       "156"
      ]
     },
     "execution_count": 375,
     "metadata": {},
     "output_type": "execute_result"
    }
   ],
   "source": [
    "len(genres)"
   ]
  },
  {
   "cell_type": "markdown",
   "metadata": {},
   "source": [
    "### Todo\n",
    "- [ ] test occurrence count models - b/c window set to max sentence lenght\n",
    "    - [ ] LDA\n",
    "    - [ ] LSI\n",
    "    - [ ] SVD"
   ]
  },
  {
   "cell_type": "code",
   "execution_count": 398,
   "metadata": {
    "collapsed": false
   },
   "outputs": [
    {
     "name": "stdout",
     "output_type": "stream",
     "text": [
      "CPU times: user 57.2 s, sys: 1.53 s, total: 58.7 s\n",
      "Wall time: 35.6 s\n"
     ]
    }
   ],
   "source": [
    "%%time\n",
    "songid_model = gensim.models.Word2Vec(sentences=queues_id,size=64,window=200,min_count=5)"
   ]
  },
  {
   "cell_type": "code",
   "execution_count": 399,
   "metadata": {
    "collapsed": false
   },
   "outputs": [],
   "source": [
    "# %%time\n",
    "# songid_model = gensim.models.LsiModel(corpus=queues_id,num_topics=200)"
   ]
  },
  {
   "cell_type": "code",
   "execution_count": 400,
   "metadata": {
    "collapsed": true
   },
   "outputs": [],
   "source": [
    "idx2sid = dict(enumerate([sid for sid in sids if sid in songid_model.wv]))\n",
    "sid2idx = dict((sid,i) for i,sid in idx2sid.items())"
   ]
  },
  {
   "cell_type": "code",
   "execution_count": 401,
   "metadata": {
    "collapsed": true
   },
   "outputs": [],
   "source": [
    "tidx = np.random.rand(len(sid2idx)) < 0.8\n",
    "vidx = ~tidx\n",
    "\n",
    "# ohenc = sk.preprocessing.OneHotEncoder()\n",
    "\n",
    "MD = np.array([sid2md[sid] for sid in sid2idx])\n",
    "X = np.array([songid_model.wv[sid] for sid in sid2idx])\n",
    "Y = np.array([genre2idx[sid2md[sid][2]] for sid in sid2idx])\n",
    "# Yencoder = sk.preprocessing.OneHotEncoder().fit(Ycat.reshape(-1,1))\n",
    "# Yencoder.transform(Ycat.reshape(-1,1)).toarray()\n",
    "Xt,Xv = X[tidx],X[vidx]\n",
    "Yt,Yv = Y[tidx],Y[vidx]\n",
    "MDt,MDv = MD[tidx],MD[vidx]"
   ]
  },
  {
   "cell_type": "code",
   "execution_count": 402,
   "metadata": {
    "collapsed": false
   },
   "outputs": [
    {
     "data": {
      "text/plain": [
       "(42507, 64)"
      ]
     },
     "execution_count": 402,
     "metadata": {},
     "output_type": "execute_result"
    }
   ],
   "source": [
    "Xt.shape"
   ]
  },
  {
   "cell_type": "code",
   "execution_count": 403,
   "metadata": {
    "collapsed": false
   },
   "outputs": [
    {
     "name": "stdout",
     "output_type": "stream",
     "text": [
      "CPU times: user 3min 29s, sys: 27 s, total: 3min 56s\n",
      "Wall time: 2min 26s\n"
     ]
    }
   ],
   "source": [
    "%%time\n",
    "# clf = sklearn.ensemble.RandomForestClassifier(max_depth=5)\n",
    "# clf.fit(Xt,Yt)\n",
    "clf = sklearn.neural_network.MLPClassifier()\n",
    "clf.fit(Xt,Yt)"
   ]
  },
  {
   "cell_type": "code",
   "execution_count": 404,
   "metadata": {
    "collapsed": false
   },
   "outputs": [
    {
     "data": {
      "text/plain": [
       "0.583715623309102"
      ]
     },
     "execution_count": 404,
     "metadata": {},
     "output_type": "execute_result"
    }
   ],
   "source": [
    "Yhatt = clf.predict(Xt)\n",
    "sum(Yhatt == Yt)/len(Yt)"
   ]
  },
  {
   "cell_type": "code",
   "execution_count": 405,
   "metadata": {
    "collapsed": false
   },
   "outputs": [
    {
     "data": {
      "text/plain": [
       "0.5712020889676397"
      ]
     },
     "execution_count": 405,
     "metadata": {},
     "output_type": "execute_result"
    }
   ],
   "source": [
    "Yhatv = clf.predict(Xv)\n",
    "sum(Yhatv == Yv)/len(Yv)"
   ]
  },
  {
   "cell_type": "code",
   "execution_count": 406,
   "metadata": {
    "collapsed": false
   },
   "outputs": [],
   "source": [
    "# gcdict = dict((g,0) for g in genre2idx)\n",
    "# for i in Yv:\n",
    "#     gcdict[idx2genre[i]] += 1\n",
    "# print(\"\\n\".join([str((g,c)) for g,c in gcdict.items() if c]))"
   ]
  },
  {
   "cell_type": "code",
   "execution_count": 407,
   "metadata": {
    "collapsed": false
   },
   "outputs": [],
   "source": [
    "# gcdict = dict((g,0) for g in genre2idx)\n",
    "# for i in Yt:\n",
    "#     gcdict[idx2genre[i]] += 1\n",
    "# print(\"\\n\".join([str((g,c)) for g,c in gcdict.items() if c]))"
   ]
  },
  {
   "cell_type": "code",
   "execution_count": null,
   "metadata": {
    "collapsed": true
   },
   "outputs": [],
   "source": []
  },
  {
   "cell_type": "markdown",
   "metadata": {},
   "source": [
    "### Todo\n",
    "- [ ] misclassification rate by genre -> error vs cnt in dataset\n",
    "- [ ] err rate by song occurrence rate\n",
    "- [ ] lda/lsi vectors\n",
    "- [ ] topic modeling on genres\n",
    "\n",
    "- on second thought - vectors seem fine - instead perform clustering"
   ]
  },
  {
   "cell_type": "code",
   "execution_count": 408,
   "metadata": {
    "collapsed": false
   },
   "outputs": [
    {
     "name": "stdout",
     "output_type": "stream",
     "text": [
      "['Waterloo Sunset' 'The Kinks' 'Pop' 2016]:Rock : Pop\n",
      "['Crimson And Clover (Single Version)' 'Tommy James & The Shondells' 'Pop'\n",
      " 2005]:Rock : Pop\n",
      "['Strangelove (Alt 7\" Version)' 'Depeche Mode' 'Pop' 2004]:'80s Pop : Pop\n",
      "['World' 'Five for Fighting' 'Rock' 2006]:Alternative/Indie : Rock\n",
      "['Rheya' 'Wild Nothing' 'Indie' 2012]:Alternative/Indie : Indie\n",
      "['Simple As It Should Be' 'Tristan Prettyman' 'Folk' 2005]:Pop : Folk\n",
      "['Milk and Honey' 'Toby Lightman' 'Folk' 2008]:Jazz : Folk\n",
      "['You Look So Good' 'Moe Shop' None 2015]:Dance/Electronic : None\n",
      "['(Dance With) The Guitar Man' 'Duane Eddy & The Rebelettes' 'Pop' 2018]:Rock : Pop\n",
      "[\"Moi j'ai le temps\" 'Serge Reggiani' 'Singer-Songwriter' 1968]:None : Singer-Songwriter\n",
      "['Leave a Light On' 'Tom Walker' 'Singer-Songwriter' 2017]:Dance/Electronic : Singer-Songwriter\n",
      "[\"Growin' Up\" 'Bruce Springsteen' 'Rock' 1973]:Classic Rock : Rock\n",
      "['Crying In the Chapel' 'Elvis Presley' \"'50s Rock\" 1967]:Rock : '50s Rock\n",
      "['Careless' 'Royal Blood' 'Rock' 2014]:'10s Alternative : Rock\n",
      "['In the Name of Love' 'Martin Garrix' 'House' 2016]:Dance/Electronic : House\n",
      "['One Week' 'Barenaked Ladies' 'Pop' 2007]:Alternative/Indie : Pop\n",
      "[\"The Chipmunk Song (Christmas Don't Be Late)\" 'The Christmas Squirrels'\n",
      " 'Pop' 2015]:Holiday : Pop\n",
      "[\"I Don't F**k With You\" 'Trinix' 'Hip-Hop/Rap' 2015]:Dance/Electronic : Hip-Hop/Rap\n",
      "['Violin Concerto No. 1 in D Major, Op. 19: I. Andantino'\n",
      " 'David Oistrakh/London Symphony Orchestra/Lovro von Matacic'\n",
      " '20th/21st Century' 1955]:Classical : 20th/21st Century\n",
      "['O Holy Night (With Love on the Line) [feat. Kenzie Garza]'\n",
      " 'Life Church Worship' 'Holiday' 2017]:Christian/Gospel : Holiday\n",
      "['The Gladiator Waltz' 'Hans Zimmer' 'Film Scores' 2001]:Soundtracks : Film Scores\n",
      "['Could You Be Loved' 'Bob Marley & The Wailers' 'Reggae' 2002]:Rock : Reggae\n",
      "['Back to You (feat. Bebe Rexha & Digital Farm Animals)' 'Louis Tomlinson'\n",
      " 'Pop' 2017]:Dance/Electronic : Pop\n",
      "['See The Sun' 'The Kooks' \"'00s Alternative\" 2008]:Alternative/Indie : '00s Alternative\n",
      "[\"Veteran's Leg\" 'Dynamic Syncopation' 'Hip-Hop/Rap' 1999]:Alternative/Indie : Hip-Hop/Rap\n",
      "['Pardon Me' 'Incubus' 'Alt Metal' 1999]:Alternative/Indie : Alt Metal\n",
      "['Grace Kelly' 'MIKA' 'Pop' 2007]:Alternative/Indie : Pop\n",
      "['Tell Me The Story Of Jesus' 'Kim Walker-Smith' 'Praise & Worship' 2014]:Christian/Gospel : Praise & Worship\n",
      "['Kiss' 'Prince & The Revolution' 'Funk' 1986]:Classic Soul : Funk\n",
      "['Galvanize' 'The Chemical Brothers' 'Dance/Electronic' 2005]:Alternative/Indie : Dance/Electronic\n",
      "['Tears' 'FM-84' 'Pop' 2016]:Dance/Electronic : Pop\n",
      "['While My Guitar Gently Weeps' 'Will Taylor & Strings Attached' 'Rock'\n",
      " 2014]:Pop : Rock\n",
      "['Halls of Valhalla' 'Judas Priest' 'Metal' 2014]:Hard Rock : Metal\n",
      "['An Evening In Winter (Soothing Music)' 'Chill Winter Party Music Club'\n",
      " 'Vocal/Easy Listening' 2011]:New Age : Vocal/Easy Listening\n",
      "['Sooner Or Later' 'Breaking Benjamin' 'Rock' 2004]:Hard Rock : Rock\n",
      "['Insomniac Olympics' 'Blockhead' 'Instrumental Hip-Hop' 2004]:Dance/Electronic : Instrumental Hip-Hop\n",
      "['Two-Part Invention No. 10 in G Major, BVW 781' 'Beethoven Consort'\n",
      " 'Classical' 2010]:New Age : Classical\n",
      "['Blow Your Mind (Mwah)' 'Dua Lipa' 'Pop' 2017]:Dance/Electronic : Pop\n",
      "['Pure' 'Blackbird Blackbird' 'Dance/Electronic' 2010]:Alternative/Indie : Dance/Electronic\n",
      "['Found A Job (Remastered)' 'Talking Heads' 'Alternative/Indie' 2004]:Classic Rock : Alternative/Indie\n",
      "['Red Red Wine (Edit)' 'UB40' \"'80s Pop\" 2008]:Pop : '80s Pop\n",
      "['If You Want To Find Love' 'KENNY ROGERS' 'Pop' 1991]:Country : Pop\n",
      "['Buried Alive In the Blues' 'Janis Joplin' 'Hard Rock' 1971]:Classic Rock : Hard Rock\n",
      "['Raise Your Hands To Rock' 'Mötley Crüe' 'Metal' 1985]:Hard Rock : Metal\n",
      "['The Burn' 'Matchbox Twenty' 'Alternative/Indie' 2000]:Rock : Alternative/Indie\n",
      "['Freeze-Frame' 'The J. Geils Band' \"'80s Rock\" 1981]:Pop : '80s Rock\n",
      "['Candy' 'Cameo' 'Funk' 1986]:Classic Soul : Funk\n",
      "['Venus' 'Shocking Blue' 'Psychedelic Rock' 1969]:Rock : Psychedelic Rock\n",
      "['Half Your Age' 'Kid Rock' \"'00s Rock\" 2007]:Country : '00s Rock\n",
      "['Sympathy For The Devil' 'The Rolling Stones' 'Classic Rock' 1968]:Rock : Classic Rock\n"
     ]
    }
   ],
   "source": [
    "print(\"\\n\".join(np.random.choice(\n",
    "    a=np.array([str(md)+\":\"+str(idx2genre[pred])+\" : \"+str(idx2genre[exp]) \n",
    "                for md,pred,exp in zip(MDv,Yhatv,Yv)\n",
    "                if pred != exp]),\n",
    "    size=50)))"
   ]
  },
  {
   "cell_type": "code",
   "execution_count": 118,
   "metadata": {
    "collapsed": false
   },
   "outputs": [
    {
     "data": {
      "text/plain": [
       "(12079, 2)"
      ]
     },
     "execution_count": 118,
     "metadata": {},
     "output_type": "execute_result"
    }
   ],
   "source": [
    "np.array([(idx2genre[pred],idx2genre[exp]) \n",
    "                for pred,exp in zip(Yhatv,Yv)]).shape"
   ]
  },
  {
   "cell_type": "code",
   "execution_count": null,
   "metadata": {
    "collapsed": true
   },
   "outputs": [],
   "source": []
  },
  {
   "cell_type": "code",
   "execution_count": null,
   "metadata": {
    "collapsed": false
   },
   "outputs": [],
   "source": [
    "if all_song\n",
    "    api.delete_playlist(allsongs_id)\n",
    "except:\n",
    "    pass\n",
    "allsongs_id_new = api.create_playlist(allsongs_name)\n",
    "api.add_songs_to_playlist(allsongs_id_new,list(set(ids)))"
   ]
  },
  {
   "cell_type": "code",
   "execution_count": null,
   "metadata": {
    "collapsed": true
   },
   "outputs": [],
   "source": []
  }
 ],
 "metadata": {
  "anaconda-cloud": {},
  "kernelspec": {
   "display_name": "Python [default]",
   "language": "python",
   "name": "python3"
  },
  "language_info": {
   "codemirror_mode": {
    "name": "ipython",
    "version": 3
   },
   "file_extension": ".py",
   "mimetype": "text/x-python",
   "name": "python",
   "nbconvert_exporter": "python",
   "pygments_lexer": "ipython3",
   "version": "3.5.2"
  },
  "widgets": {
   "state": {
    "05c90869f8884f4a996e7c62574c2d9b": {
     "views": [
      {
       "cell_index": 7
      }
     ]
    },
    "2acfda3c4b0443deb19abde3cab0a273": {
     "views": [
      {
       "cell_index": 12
      }
     ]
    }
   },
   "version": "1.2.0"
  }
 },
 "nbformat": 4,
 "nbformat_minor": 1
}
