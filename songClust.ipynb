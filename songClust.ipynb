{
 "cells": [
  {
   "cell_type": "code",
   "execution_count": 4,
   "metadata": {
    "collapsed": false
   },
   "outputs": [
    {
     "name": "stdout",
     "output_type": "stream",
     "text": [
      "/Users/aduriseti/Library/Logs/gmusicapi/gmusicapi.log\n"
     ]
    },
    {
     "name": "stderr",
     "output_type": "stream",
     "text": [
      "Using TensorFlow backend.\n",
      "/Users/aduriseti/anaconda/lib/python3.5/site-packages/sklearn/ensemble/weight_boosting.py:29: DeprecationWarning: numpy.core.umath_tests is an internal NumPy module and should not be imported. It will be removed in a future NumPy release.\n",
      "  from numpy.core.umath_tests import inner1d\n"
     ]
    }
   ],
   "source": [
    "#!pip install gmusicapi\n",
    "from gmusicapi import Mobileclient,Webclient,Musicmanager\n",
    "from gmusicapi.utils import utils\n",
    "print (utils.log_filepath)\n",
    "\n",
    "import numpy as np\n",
    "import pandas as pd\n",
    "import scipy as sp\n",
    "import tensorflow as tf\n",
    "import keras as ks\n",
    "from matplotlib import pyplot as plt\n",
    "%matplotlib inline\n",
    "\n",
    "# !pip install --upgrade gensim\n",
    "import gensim\n",
    "\n",
    "import sklearn as sk\n",
    "import sklearn.preprocessing\n",
    "import sklearn.ensemble\n",
    "import sklearn.cluster\n",
    "from sklearn import neural_network\n",
    "import sklearn.decomposition\n",
    "import sklearn.mixture\n",
    "\n",
    "import json\n",
    "# !pip install tqdm\n",
    "from tqdm import tqdm_notebook as tqdm\n",
    "import requests"
   ]
  },
  {
   "cell_type": "code",
   "execution_count": 5,
   "metadata": {
    "collapsed": false
   },
   "outputs": [
    {
     "data": {
      "text/plain": [
       "True"
      ]
     },
     "execution_count": 5,
     "metadata": {},
     "output_type": "execute_result"
    }
   ],
   "source": [
    "email = 'aduriseti@gmail.com'\n",
    "pswd = 'ehshpxjlzaaoknix'\n",
    "\n",
    "api = Mobileclient(debug_logging=False)\n",
    "api.login(email,pswd,api.FROM_MAC_ADDRESS)"
   ]
  },
  {
   "cell_type": "code",
   "execution_count": 6,
   "metadata": {
    "collapsed": false
   },
   "outputs": [
    {
     "name": "stdout",
     "output_type": "stream",
     "text": [
      "PLAYLIST\n",
      "\n"
     ]
    }
   ],
   "source": [
    "# get all songs associated with account\n",
    "songs = api.get_all_songs()\n",
    "playlists = api.get_all_playlists()\n",
    "playlist_content = api.get_all_user_playlist_contents()\n",
    "# stations = api.get_all_stations()\n",
    "allsongs_name = 'allsongs'\n",
    "allsongs_id = ([None]+[p['storeId'] for p in playlists if p['name'] == allsongs_name])[0]\n",
    "sids = []\n",
    "sids += [s['id'] for s in songs]\n",
    "print('PLAYLIST')\n",
    "for p in tqdm(playlist_content):\n",
    "    sids += [t['track']['storeId'] if 'track' in t else t['id'] for t in p['tracks']]"
   ]
  },
  {
   "cell_type": "code",
   "execution_count": 7,
   "metadata": {
    "collapsed": false
   },
   "outputs": [
    {
     "data": {
      "text/plain": [
       "(619, 610)"
      ]
     },
     "execution_count": 7,
     "metadata": {},
     "output_type": "execute_result"
    }
   ],
   "source": [
    "usids = list(set(sids))\n",
    "len(sids),len(usids)"
   ]
  },
  {
   "cell_type": "code",
   "execution_count": 8,
   "metadata": {
    "collapsed": false
   },
   "outputs": [
    {
     "data": {
      "text/plain": [
       "7674"
      ]
     },
     "execution_count": 8,
     "metadata": {},
     "output_type": "execute_result"
    }
   ],
   "source": [
    "queues_format_filename = 'queues_v0.json'\n",
    "try:\n",
    "    with open(queues_format_filename) as queuesfile:\n",
    "        queues = json.load(queuesfile)\n",
    "except:\n",
    "    queues = []\n",
    "len(queues)"
   ]
  },
  {
   "cell_type": "code",
   "execution_count": 9,
   "metadata": {
    "collapsed": false
   },
   "outputs": [],
   "source": [
    "queues_md,queues_id = list(zip(*[list(zip(*q)) for q in queues if q]))"
   ]
  },
  {
   "cell_type": "code",
   "execution_count": 10,
   "metadata": {
    "collapsed": false
   },
   "outputs": [
    {
     "data": {
      "text/plain": [
       "53230"
      ]
     },
     "execution_count": 10,
     "metadata": {},
     "output_type": "execute_result"
    },
    {
     "data": {
      "image/png": "[encoded data removed]",
      "text/plain": [
       "<matplotlib.figure.Figure at 0x15947a0b8>"
      ]
     },
     "metadata": {},
     "output_type": "display_data"
    }
   ],
   "source": [
    "cdict = {}\n",
    "for q in queues_id:\n",
    "    for sid in q:\n",
    "        if sid not in cdict:\n",
    "            cdict[sid] =0\n",
    "        cdict[sid] += 1        \n",
    "\n",
    "plt.plot(sorted(v for k,v in cdict.items()))\n",
    "sum(1 for sid,c in cdict.items() if c >= 5)"
   ]
  },
  {
   "cell_type": "code",
   "execution_count": 11,
   "metadata": {
    "collapsed": true
   },
   "outputs": [],
   "source": [
    "sids = list(set(sid for q in queues_id for sid in q))\n",
    "sid2md = dict((sid,md) for q in queues for md,sid in q)\n",
    "\n",
    "genres = set(md[2] for q in queues_md for md in q)\n",
    "idx2genre = dict(enumerate(genres))\n",
    "genre2idx = dict((g,i) for i,g in enumerate(genres))"
   ]
  },
  {
   "cell_type": "code",
   "execution_count": 12,
   "metadata": {
    "collapsed": true
   },
   "outputs": [],
   "source": [
    "artists = set(md[1] for q in queues_md for md in q)\n",
    "idx2artist = dict(enumerate(artists))\n",
    "artist2idx = dict((a,i) for i,a in enumerate(artists))"
   ]
  },
  {
   "cell_type": "code",
   "execution_count": 13,
   "metadata": {
    "collapsed": true
   },
   "outputs": [],
   "source": [
    "artcdict = dict((a,0) for a in artists)\n",
    "for q in queues_md:\n",
    "    for md in q:\n",
    "        artcdict[md[1]] += 1"
   ]
  },
  {
   "cell_type": "code",
   "execution_count": 231,
   "metadata": {
    "collapsed": true
   },
   "outputs": [],
   "source": [
    "thresh = 100\n",
    "artists = [a for a,c in artcdict.items() if c > thresh]\n",
    "idx2artist = dict(enumerate(artists))\n",
    "artist2idx = dict((a,i) for i,a in enumerate(artists))"
   ]
  },
  {
   "cell_type": "code",
   "execution_count": 232,
   "metadata": {
    "collapsed": false
   },
   "outputs": [
    {
     "data": {
      "text/plain": [
       "1770"
      ]
     },
     "execution_count": 232,
     "metadata": {},
     "output_type": "execute_result"
    }
   ],
   "source": [
    "len(artists)"
   ]
  },
  {
   "cell_type": "code",
   "execution_count": 16,
   "metadata": {
    "collapsed": false
   },
   "outputs": [
    {
     "name": "stdout",
     "output_type": "stream",
     "text": [
      "CPU times: user 1min 3s, sys: 1.1 s, total: 1min 4s\n",
      "Wall time: 50.1 s\n"
     ]
    }
   ],
   "source": [
    "%%time\n",
    "w2vembdim = 64\n",
    "songid_model = gensim.models.Word2Vec(sentences=queues_id,size=w2vembdim,window=200,min_count=5)\n",
    "# songid_model = gensim.models.LsiModel(corpus=queues_id,num_topics=200)"
   ]
  },
  {
   "cell_type": "code",
   "execution_count": 233,
   "metadata": {
    "collapsed": false
   },
   "outputs": [],
   "source": [
    "sids = np.array(list(songid_model.wv.vocab.keys()))\n",
    "smd = np.array([sid2md[sid] for sid in sids])\n",
    "sgenre = np.array([md[2] for md in smd])\n",
    "syear = np.array([md[3] for md in smd])\n",
    "# sp.spa\n",
    "sgenre1hot = np.eye(len(genres))[np.array([genre2idx[g] for g in sgenre])]\n",
    "sartist = np.array([md[1] for md in smd])\n",
    "data = [1]*(len(sartist))\n",
    "row = range(len(sartist))\n",
    "col = [artist2idx[a] if a in artist2idx else len(artists) \n",
    "       for a in sartist]\n",
    "sartist1hot = sp.sparse.csr_matrix((data,(row,col)))\n",
    "# sartist1hot = np.eye(len(artists))[np.array([artist2idx[a] for a  in sartist])]\n",
    "svec = np.array([songid_model.wv[sid] for sid in sids])\n",
    "syear[syear == None] = np.mean(syear[syear!=None])\n",
    "syear = syear.astype(float)\n",
    "syear -= np.mean(syear)"
   ]
  },
  {
   "cell_type": "code",
   "execution_count": 234,
   "metadata": {
    "collapsed": false
   },
   "outputs": [
    {
     "data": {
      "text/plain": [
       "matrix([[    3,    18,    24, ...,    15,    16, 13060]], dtype=int64)"
      ]
     },
     "execution_count": 234,
     "metadata": {},
     "output_type": "execute_result"
    }
   ],
   "source": [
    "sartist1hot = sartist1hot.todense()\n",
    "sartist1hot.sum(axis=0)"
   ]
  },
  {
   "cell_type": "code",
   "execution_count": 211,
   "metadata": {
    "collapsed": false
   },
   "outputs": [],
   "source": [
    "X = ks.Input(shape=svec.shape[1:])\n",
    "\n",
    "Z1 = ks.layers.Dense(units=100)(X)\n",
    "A1 = ks.layers.Activation('relu')(Z1)\n",
    "\n",
    "# Embedding\n",
    "nnembdim = 32\n",
    "Z2 = ks.layers.Dense(units=nnembdim)(Z1)\n",
    "# A2 = ks.layers.Activation('tanh')(Z2)\n",
    "A2emb = ks.layers.Activation('tanh')(Z2)\n",
    "A2mu = ks.layers.Dense(units=nnembdim)(A2emb)\n",
    "A2logvar = ks.layers.Dense(units=nnembdim)(A2emb)\n",
    "def variation(args):\n",
    "    mu,logvar = args\n",
    "    batch,emb = ks.backend.shape(mu)[0],ks.backend.int_shape(mu)[1]\n",
    "    eps = ks.backend.random_normal(shape=(batch,emb),mean=0,stddev=1)\n",
    "    return mu + ks.backend.exp(0.5*logvar)*eps\n",
    "A2 = ks.layers.Lambda(variation)([A2mu,A2logvar])\n",
    "\n",
    "# GENRE PREDICTION\n",
    "Z3g = ks.layers.Dense(units=100)(A2)\n",
    "A3g = ks.layers.Activation('relu')(Z3g)\n",
    "\n",
    "Z4g = ks.layers.Dense(units=len(genres))(A3g)\n",
    "Yg = ks.layers.Activation('softmax')(Z4g)\n",
    "\n",
    "# YEAR PREDICTION\n",
    "Z3y = ks.layers.Dense(units=100)(A2)\n",
    "A3y = ks.layers.Activation('relu')(Z3y)\n",
    "\n",
    "Yy = ks.layers.Dense(units=1)(A3y)\n",
    "# Yy = ks.layers.Activation('relu')(Z4y)\n",
    "\n",
    "# ARTIST PREDICTION\n",
    "Z3a = ks.layers.Dense(units=100)(A2)\n",
    "A3a = ks.layers.Activation('relu')(Z3a)\n",
    "\n",
    "Z4a = ks.layers.Dense(units=len(artists)+1)(A3a)\n",
    "Ya = ks.layers.Activation('softmax')(Z4a)"
   ]
  },
  {
   "cell_type": "code",
   "execution_count": 212,
   "metadata": {
    "collapsed": false
   },
   "outputs": [
    {
     "data": {
      "text/plain": [
       "(53230, 169)"
      ]
     },
     "execution_count": 212,
     "metadata": {},
     "output_type": "execute_result"
    }
   ],
   "source": [
    "sartist1hot.shape"
   ]
  },
  {
   "cell_type": "code",
   "execution_count": 230,
   "metadata": {
    "collapsed": false
   },
   "outputs": [
    {
     "data": {
      "text/plain": [
       "matrix([[   40,    30,    53,    69,    61,    55,    60,    64,    41,\n",
       "            63,    75,    49,    52,    43,    66,    87,    67,    70,\n",
       "            38,    43,    66,   100,    45,    35,    41,    74,    61,\n",
       "            93,    68,    85,    59,    66,    18,    44,    40,    83,\n",
       "           109,   108,    50,    86,    45,    67,    64,    52,    37,\n",
       "           137,    84,    34,   115,    57,    48,    77,    76,    75,\n",
       "            38,    55,    43,    34,    46,    55,    43,    66,    48,\n",
       "            22,    65,    68,    64,    35,    50,    46,    83,    22,\n",
       "            31,    91,    76,    86,    58,    56,    44,    68,    80,\n",
       "            58,    73,    93,    36,    52,   104,    65,    47,    66,\n",
       "            47,    65,    58,    71,    65,    65,    53,    62,    51,\n",
       "            47,    51,    50,    49,    57,    57,    41,    66,    49,\n",
       "            49,    48,    36,    61,    64,    64,    54,   108,    56,\n",
       "            82,    62,    68,    57,    82,   101,   101,    66,    46,\n",
       "            52,    60,    68,    87,   170,    71,    22,    54,    42,\n",
       "            50,    38,    67,    69,    53,    65,   145,    60,    51,\n",
       "            62,    56,    55,    36,    44,    30,    65,   113,   121,\n",
       "            44,    97,    45,    49,    39,    82,    68,    58,    65,\n",
       "            54,    46,    78,    77,    33,    32, 42856]], dtype=int64)"
      ]
     },
     "execution_count": 230,
     "metadata": {},
     "output_type": "execute_result"
    }
   ],
   "source": [
    "sartist1hot.sum(axis=0)"
   ]
  },
  {
   "cell_type": "code",
   "execution_count": 213,
   "metadata": {
    "collapsed": false
   },
   "outputs": [],
   "source": [
    "GenreIn = ks.Input(shape=(sgenre1hot.shape[1:]))\n",
    "YearIn = ks.Input(shape=(1,))\n",
    "# ArtistIn = ks.Input(shape(sartist1hot.shape[1:]))\n",
    "genreloss = ks.losses.categorical_crossentropy(GenreIn,Yg)\n",
    "yearloss = ks.losses.MSE(YearIn,Yy)\n",
    "kl_loss = -0.5 * ks.backend.mean(\n",
    "    1 + A2logvar - ks.backend.square(A2mu) - ks.backend.exp(A2logvar))\n",
    "# artistloss = ks.losses.categorical_crossentropy(ArtistIn,Ya)\n",
    "\n",
    "trainEmb = ks.models.Model(inputs=[X,GenreIn,YearIn],outputs=[Yg,Yy])\n",
    "opt = ks.optimizers.Adam(lr=0.01)\n",
    "trainEmb.add_loss(ks.backend.mean(genreloss + yearloss/100 + kl_loss))\n",
    "trainEmb.compile(optimizer=opt,metrics=['accuracy'])"
   ]
  },
  {
   "cell_type": "code",
   "execution_count": 214,
   "metadata": {
    "collapsed": false
   },
   "outputs": [
    {
     "name": "stdout",
     "output_type": "stream",
     "text": [
      "Epoch 1/20\n",
      "53230/53230 [==============================] - 6s 114us/step - loss: 4.5007\n",
      "Epoch 2/20\n",
      "53230/53230 [==============================] - 2s 33us/step - loss: 3.3806\n",
      "Epoch 3/20\n",
      "53230/53230 [==============================] - 2s 34us/step - loss: 3.1988\n",
      "Epoch 4/20\n",
      "53230/53230 [==============================] - 2s 32us/step - loss: 3.0954\n",
      "Epoch 5/20\n",
      "53230/53230 [==============================] - 2s 36us/step - loss: 3.0321\n",
      "Epoch 6/20\n",
      "53230/53230 [==============================] - 2s 31us/step - loss: 2.9768\n",
      "Epoch 7/20\n",
      "53230/53230 [==============================] - 2s 32us/step - loss: 2.9473\n",
      "Epoch 8/20\n",
      "53230/53230 [==============================] - 2s 33us/step - loss: 2.9159\n",
      "Epoch 9/20\n",
      "53230/53230 [==============================] - 1s 28us/step - loss: 2.8895\n",
      "Epoch 10/20\n",
      "53230/53230 [==============================] - 1s 27us/step - loss: 2.8702\n",
      "Epoch 11/20\n",
      "53230/53230 [==============================] - 1s 27us/step - loss: 2.8503\n",
      "Epoch 12/20\n",
      "53230/53230 [==============================] - 2s 29us/step - loss: 2.8295\n",
      "Epoch 13/20\n",
      "53230/53230 [==============================] - 2s 32us/step - loss: 2.8124\n",
      "Epoch 14/20\n",
      "53230/53230 [==============================] - 2s 30us/step - loss: 2.8098\n",
      "Epoch 15/20\n",
      "53230/53230 [==============================] - 2s 29us/step - loss: 2.7981\n",
      "Epoch 16/20\n",
      "53230/53230 [==============================] - 2s 30us/step - loss: 2.7890\n",
      "Epoch 17/20\n",
      "53230/53230 [==============================] - 2s 29us/step - loss: 2.7807\n",
      "Epoch 18/20\n",
      "53230/53230 [==============================] - 1s 27us/step - loss: 2.7689\n",
      "Epoch 19/20\n",
      "53230/53230 [==============================] - 1s 27us/step - loss: 2.7657\n",
      "Epoch 20/20\n",
      "53230/53230 [==============================] - 1s 28us/step - loss: 2.7631\n"
     ]
    }
   ],
   "source": [
    "# hist = trainEmb.fit(x=[svec,sgenre1hot,syear],y=[sgenre1hot],batch_size=2048,epochs=1)\n",
    "hist = trainEmb.fit(x=[svec,sgenre1hot,syear],batch_size=2048,epochs=20)"
   ]
  },
  {
   "cell_type": "code",
   "execution_count": 215,
   "metadata": {
    "collapsed": false
   },
   "outputs": [
    {
     "name": "stdout",
     "output_type": "stream",
     "text": [
      "53230/53230 [==============================] - 1s 25us/step\n",
      "[1.6228976292469528, 0.5499718196428339]\n",
      "53230/53230 [==============================] - 1s 21us/step\n",
      "87.13742751630876\n"
     ]
    }
   ],
   "source": [
    "predGenre = ks.models.Model(inputs=[X],outputs=[Yg])\n",
    "predGenre.compile(optimizer=opt,loss=ks.losses.categorical_crossentropy,metrics=['accuracy'])\n",
    "print(predGenre.evaluate(x=[svec],y=[sgenre1hot],batch_size=2048))\n",
    "predYear = ks.models.Model(inputs=[X],outputs=[Yy])\n",
    "predYear.compile(optimizer=opt,loss=ks.losses.MSE)\n",
    "print(predYear.evaluate(x=[svec],y=[syear],batch_size=2048))"
   ]
  },
  {
   "cell_type": "code",
   "execution_count": 216,
   "metadata": {
    "collapsed": false
   },
   "outputs": [],
   "source": [
    "# trainEmba = ks.models.Model(inputs=[X],outputs=[Ya])\n",
    "# opt = ks.optimizers.Adam(lr=0.01)\n",
    "# loss = ks.losses.categorical_crossentropy\n",
    "# trainEmba.compile(optimizer=opt,loss=loss,metrics=['accuracy'])\n",
    "# def batchGen(X,y,batch_size):\n",
    "#     n_batches = X.shape[0] // batch_size\n",
    "#     randidx = list(range(X.shape[0]))\n",
    "#     while True:\n",
    "#         np.random.shuffle(randidx)\n",
    "#         for i in range(n_batches):\n",
    "#             batchidx = randidx[i*batch_size:(i+1)*batch_size]\n",
    "#             Xb = X[batchidx,:]\n",
    "#             yb = y[batchidx,:].toarray()\n",
    "#             yield(Xb,yb)"
   ]
  },
  {
   "cell_type": "code",
   "execution_count": 217,
   "metadata": {
    "collapsed": false
   },
   "outputs": [],
   "source": [
    "# getEmb = ks.models.Model(inputs=[X],outputs=[A2])\n",
    "getEmb = ks.models.Model(inputs=[X],outputs=[A2emb])\n",
    "nnemb = getEmb.predict(x=[svec])\n",
    "nnemb_wv = dict(zip(sids,nnemb))"
   ]
  },
  {
   "cell_type": "code",
   "execution_count": 218,
   "metadata": {
    "collapsed": true
   },
   "outputs": [],
   "source": [
    "# idx2sid = dict(enumerate([sid for sid in sids if sid in songid_model.wv]))\n",
    "# sid2idx = dict((sid,i) for i,sid in idx2sid.items())\n",
    "idx2sid = dict(enumerate([sid for sid in sids if sid in nnemb_wv]))\n",
    "sid2idx = dict((sid,i) for i,sid in idx2sid.items())"
   ]
  },
  {
   "cell_type": "code",
   "execution_count": 219,
   "metadata": {
    "collapsed": false
   },
   "outputs": [],
   "source": [
    "# msids = [sid for sid in usids if sid in songid_model.wv]\n",
    "# X = np.array([songid_model.wv[sid] for sid in msids])\n",
    "# Xmd = np.array([sid2md[sid] for sid in msids])\n",
    "msids = [sid for sid in usids if sid in nnemb_wv]\n",
    "Xvec = np.array([nnemb_wv[sid] for sid in msids])\n",
    "Xmd = np.array([sid2md[sid] for sid in msids])"
   ]
  },
  {
   "cell_type": "code",
   "execution_count": 220,
   "metadata": {
    "collapsed": false
   },
   "outputs": [
    {
     "data": {
      "text/plain": [
       "(539, 32)"
      ]
     },
     "execution_count": 220,
     "metadata": {},
     "output_type": "execute_result"
    }
   ],
   "source": [
    "Xvec.shape"
   ]
  },
  {
   "cell_type": "code",
   "execution_count": 221,
   "metadata": {
    "collapsed": false
   },
   "outputs": [],
   "source": [
    "if Xvec.shape[1] > 2:\n",
    "    X2d = sklearn.decomposition.PCA(n_components=2).fit_transform(Xvec)\n",
    "else:\n",
    "    X2d = Xvec"
   ]
  },
  {
   "cell_type": "code",
   "execution_count": 222,
   "metadata": {
    "collapsed": false
   },
   "outputs": [
    {
     "data": {
      "text/plain": [
       "[<matplotlib.lines.Line2D at 0x17ae0d978>]"
      ]
     },
     "execution_count": 222,
     "metadata": {},
     "output_type": "execute_result"
    },
    {
     "data": {
      "image/png": "[encoded data removed]",
      "text/plain": [
       "<matplotlib.figure.Figure at 0x1792203c8>"
      ]
     },
     "metadata": {},
     "output_type": "display_data"
    }
   ],
   "source": [
    "plt.plot(X2d[:,0],X2d[:,1],'.')"
   ]
  },
  {
   "cell_type": "code",
   "execution_count": 223,
   "metadata": {
    "collapsed": false
   },
   "outputs": [
    {
     "data": {
      "text/plain": [
       "26"
      ]
     },
     "execution_count": 223,
     "metadata": {},
     "output_type": "execute_result"
    }
   ],
   "source": [
    "n_clusters = len(msids)//20\n",
    "n_clusters"
   ]
  },
  {
   "cell_type": "code",
   "execution_count": 224,
   "metadata": {
    "collapsed": false
   },
   "outputs": [
    {
     "name": "stderr",
     "output_type": "stream",
     "text": [
      "/Users/aduriseti/anaconda/lib/python3.5/site-packages/sklearn/cluster/birch.py:77: FutureWarning: Using a non-tuple sequence for multidimensional indexing is deprecated; use `arr[tuple(seq)]` instead of `arr[seq]`. In the future this will be interpreted as an array index, `arr[np.array(seq)]`, which will result either in an error or a different result.\n",
      "  node1_dist, node2_dist = dist[[farthest_idx]]\n"
     ]
    }
   ],
   "source": [
    "# clst = sklearn.cluster.KMeans(n_clusters=n_clusters) # Good\n",
    "# clst = sklearn.cluster.AffinityPropagation() # OK\n",
    "clst = sklearn.cluster.Birch(n_clusters=n_clusters) # Great\n",
    "# clst = sklearn.cluster.DBSCAN() # didn't get all but Good\n",
    "# clst = sklearn.mixture.GaussianMixture(n_components=n_clusters) # ok\n",
    "# clst = sklearn.cluster.AgglomerativeClustering(n_clusters=n_clusters) # Great\n",
    "try:\n",
    "    labels = clst.fit_predict(Xvec)\n",
    "except:\n",
    "    clst.fit(X)\n",
    "    labels = clst.predict(Xvec)"
   ]
  },
  {
   "cell_type": "code",
   "execution_count": 225,
   "metadata": {
    "collapsed": false
   },
   "outputs": [],
   "source": [
    "clusters = [[str(md) for md,j in zip(Xmd,labels) if j == i] for i in range(max(labels))]"
   ]
  },
  {
   "cell_type": "code",
   "execution_count": 226,
   "metadata": {
    "collapsed": false
   },
   "outputs": [
    {
     "data": {
      "text/plain": [
       "(521, (539, 4))"
      ]
     },
     "execution_count": 226,
     "metadata": {},
     "output_type": "execute_result"
    }
   ],
   "source": [
    "sum(len(c) for c in clusters),Xmd.shape"
   ]
  },
  {
   "cell_type": "code",
   "execution_count": 227,
   "metadata": {
    "collapsed": false
   },
   "outputs": [
    {
     "name": "stdout",
     "output_type": "stream",
     "text": [
      "[5, 6, 8, 9, 9, 10, 11, 11, 12, 12, 13, 15, 15, 16, 16, 17, 18, 23, 24, 31, 32, 40, 52, 54, 62]\n"
     ]
    }
   ],
   "source": [
    "print(sorted(len(cluster) for cluster in clusters))"
   ]
  },
  {
   "cell_type": "code",
   "execution_count": 228,
   "metadata": {
    "collapsed": false
   },
   "outputs": [
    {
     "name": "stdout",
     "output_type": "stream",
     "text": [
      "5\n",
      "62\n",
      "['Runaway' 'Kanye West' 'Hip-Hop Hitmakers' 2010]\n",
      "['Baby Boy' 'Childish Gambino' 'R&B/Soul' 2016]\n",
      "['REVOFEV' 'Kid Cudi' 'Hip-Hop/Rap' 2010]\n",
      "['Superstar (feat. Matthew Santos)' 'Lupe Fiasco' 'Hip-Hop/Rap' 2007]\n",
      "['3005' 'Childish Gambino' 'Hip-Hop/Rap' 2013]\n",
      "[\"Daydreamin' (feat. Jill Scott)\" 'Lupe Fiasco' 'R&B/Soul' 2006]\n",
      "['King Kunta' 'Kendrick Lamar' 'Hip-Hop/Rap' 2015]\n",
      "['Run It' 'Logic' 'Hip-Hop/Rap' 2015]\n",
      "['I Wish' 'Skee-Lo' 'Hip-Hop/Rap' 1995]\n",
      "['These Worries (feat. Mary J. Blige)' 'Kid Cudi' 'Hip-Hop/Rap' 2010]\n",
      "['Lower Eastside' 'Delinquent Habits' 'Latin Rap/Hip-Hop en Español' 1996]\n",
      "['Backseat Freestyle' 'Kendrick Lamar' 'Hip-Hop/Rap' 2012]\n",
      "['It Could Be Round Two' 'Delinquent Habits' 'West Coast Hip-Hop' 2017]\n",
      "['Flashing Lights' 'Kanye West' 'Hip-Hop Hitmakers' 2007]\n",
      "['Mind Playing Tricks on Me' 'Geto Boys' 'Hip-Hop/Rap' 1991]\n",
      "['Up Up & Away' 'Kid Cudi' 'Hip-Hop/Rap' 2009]\n",
      "['Little Wing' 'The Jimi Hendrix Experience' 'Classic Rock' 1967]\n",
      "['Make Her Say' 'Kid Cudi' 'Hip-Hop/Rap' 2009]\n",
      "['Shake' 'Delinquent Habits' 'West Coast Hip-Hop' 2017]\n",
      "['Gotta Have It' 'JAY Z & Kanye West' \"'10s Hip-Hop\" 2011]\n",
      "['Terrified' 'Childish Gambino' 'R&B/Soul' 2016]\n",
      "['Simple As...' 'Kid Cudi' 'Hip-Hop/Rap' 2009]\n",
      "[\"Day 'N' Nite (Nightmare) (Original)\" 'Kid Cudi' 'Hip-Hop/Rap' 2009]\n",
      "['Now Or Never (Bonus Track) (feat. Mary J. Blige)' 'Kendrick Lamar'\n",
      " 'Hip-Hop/Rap' 2012]\n",
      "['Uptown Anthem' 'Naughty By Nature' 'East Coast Hip-Hop' 1991]\n",
      "['Kick, Push' 'Lupe Fiasco' 'R&B/Soul' 2006]\n",
      "['I. The Worst Guys (feat. Chance The Rapper)' 'Childish Gambino'\n",
      " 'Hip-Hop/Rap' 2013]\n",
      "['Money Trees (feat. Jay Rock)' 'Kendrick Lamar' 'Hip-Hop/Rap' 2012]\n",
      "['Craziest' 'Naughty By Nature' 'Hip-Hop/Rap' 1995]\n",
      "['IV. Sweatpants' 'Childish Gambino' 'Hip-Hop/Rap' 2013]\n",
      "['Till The End' 'Logic' 'Hip-Hop/Rap' 2014]\n",
      "['Alright (feat. Big Sean)' 'Logic' 'Hip-Hop/Rap' 2014]\n",
      "['O.P.P' 'Naughty By Nature' 'East Coast Hip-Hop' 1991]\n",
      "['California (feat. Sen Dog)' 'Delinquent Habits' 'West Coast Hip-Hop'\n",
      " 2017]\n",
      "['The Show Goes On' 'Lupe Fiasco' 'Hip-Hop/Rap' 2011]\n",
      "['Mr. Rager' 'Kid Cudi' 'Hip-Hop/Rap' 2010]\n",
      "['Man On The Moon (Album Version Explicit)' 'Kid Cudi' 'Hip-Hop/Rap' 2009]\n",
      "['King Wizard (Explicit Version)' 'Kid Cudi' 'Hip-Hop/Rap' 2013]\n",
      "['WAKE UP' 'Travis Scott' 'Hip-Hop/Rap' 2018]\n",
      "['Feel Me Flow' 'Naughty By Nature' 'Hip-Hop/Rap' 1995]\n",
      "['My World' 'Kid Cudi' 'Hip-Hop/Rap' 2009]\n",
      "['Sky Might Fall' 'Kid Cudi' 'Hip-Hop/Rap' 2009]\n",
      "['Hip-Hop Saved My Life (feat. Nikki Jean)' 'Lupe Fiasco' 'Hip-Hop/Rap'\n",
      " 2007]\n",
      "['Baptized In Fire (feat. Travis Scott)' 'Kid Cudi' 'Hip-Hop/Rap' 2016]\n",
      "['Just What I Am (Explicit Version) (feat. King Chip)' 'Kid Cudi'\n",
      " 'Hip-Hop/Rap' 2013]\n",
      "['Jamboree (feat. Zhané)' 'Naughty By Nature' 'Hip-Hop/Rap' 1999]\n",
      "['Solo Dolo (Nightmare)' 'Kid Cudi' 'Hip-Hop/Rap' 2009]\n",
      "['Bound 2' 'Kanye West' 'Hip-Hop/Rap' 2013]\n",
      "['Like Woah' 'Logic' 'Hip-Hop/Rap' 2015]\n",
      "['Pursuit Of Happiness (Nightmare)' 'Kid Cudi' 'Hip-Hop/Rap' 2009]\n",
      "['Fade Away' 'Logic' 'Hip-Hop/Rap' 2015]\n",
      "['Alive (Nightmare)' 'Kid Cudi' 'Hip-Hop/Rap' 2009]\n",
      "['Solo Dolo Part II (Explicit Version) (feat. Kendrick Lamar)' 'Kid Cudi'\n",
      " 'Hip-Hop/Rap' 2013]\n",
      "['Cudi Zone' 'Kid Cudi' 'Hip-Hop/Rap' 2009]\n",
      "['Hip-Hop Hooray' 'Naughty by Nature' 'Hip-Hop/Rap' 2011]\n",
      "['Tres Delinquentes (Radio)' 'Delinquent Habits' 'Pop' 2013]\n",
      "['Insane in the Brain' 'Cypress Hill' \"'90s Hip-Hop\" 1993]\n",
      "['Young Jesus (feat. Big Lenbo)' 'Logic' 'Hip-Hop/Rap' 2015]\n",
      "['Mojo So Dope' 'Kid Cudi' 'Hip-Hop/Rap' 2010]\n",
      "['m.A.A.d city (feat. MC Eiht)' 'Kendrick Lamar' 'Hip-Hop/Rap' 2012]\n",
      "['Stainless (feat. Dria)' 'Logic' 'Hip-Hop/Rap' 2015]\n",
      "[\"Lord Willin'\" 'Logic' 'Hip-Hop/Rap' 2015]\n",
      "\n",
      "0\n",
      "54\n",
      "['Right Before My Eyes' 'Cage The Elephant' \"'10s Alternative\" 2011]\n",
      "['Hypocrite' 'Cage The Elephant' \"'10s Alternative\" 2013]\n",
      "['Tighten Up' 'The Black Keys' \"'10s Alternative\" 2010]\n",
      "['Holy Roller (Hallelujah)' 'Portugal. The Man' \"'10s Alternative\" 2013]\n",
      "['Gotta Get Away' 'The Black Keys' \"'10s Rock\" 2014]\n",
      "['Do You' 'Portugal. The Man' \"'00s Alternative\" 2009]\n",
      "['Rubber Ball' 'Cage The Elephant' \"'10s Alternative\" 2011]\n",
      "['Aberdeen' 'Cage The Elephant' \"'10s Alternative\" 2011]\n",
      "[\"Punchin' Bag\" 'Cage The Elephant' 'Alternative/Indie' 2015]\n",
      "[\"We're Going to Be Friends\" 'The White Stripes' \"'00s Rock\" 2001]\n",
      "['Too Late To Say Goodbye' 'Cage The Elephant' 'Alternative/Indie' 2015]\n",
      "['Sweetie Little Jean' 'Cage The Elephant' 'Alternative/Indie' 2015]\n",
      "['Purple Yellow Red and Blue' 'Portugal. The Man' \"'10s Alternative\" 2013]\n",
      "['Senseless' 'Portugal. The Man' \"'10s Alternative\" 2011]\n",
      "['Black Widow' 'Cage The Elephant' \"'10s Alternative\" 2013]\n",
      "[\"Got It All (This Can't Be Living Now)\" 'Portugal. The Man'\n",
      " \"'10s Alternative\" 2011]\n",
      "['Around My Head' 'Cage The Elephant' \"'10s Alternative\" 2011]\n",
      "['Seven Nation Army' 'The White Stripes' \"'00s Alternative\" 2003]\n",
      "['Lonely Boy' 'The Black Keys' \"'10s Alternative\" 2011]\n",
      "['Teeth' 'Cage The Elephant' \"'10s Alternative\" 2013]\n",
      "['Spiderhead' 'Cage The Elephant' \"'10s Alternative\" 2013]\n",
      "['Shake Me Down' 'Cage The Elephant' \"'10s Alternative\" 2011]\n",
      "['Hip Hop Kids (feat. John Baldwin Gourley)' 'Portugal. The Man'\n",
      " \"'10s Alternative\" 2013]\n",
      "['Everything You See (Kids Count Hallelujahs)' 'Portugal. The Man'\n",
      " \"'10s Alternative\" 2011]\n",
      "['Flow' 'Cage The Elephant' \"'10s Alternative\" 2011]\n",
      "['People Say' 'Portugal. The Man' \"'00s Alternative\" 2009]\n",
      "['Come a Little Closer' 'Cage The Elephant' \"'10s Alternative\" 2013]\n",
      "['Icky Thump' 'The White Stripes' 'Alternative/Indie' 2007]\n",
      "['Portuguese Knife Fight' 'Cage The Elephant' 'Alternative/Indie' 2015]\n",
      "['Sea of Air' 'Portugal. The Man' \"'10s Alternative\" 2013]\n",
      "['Little Black Submarines' 'The Black Keys' \"'10s Alternative\" 2011]\n",
      "['The Sun' 'Portugal. The Man' \"'00s Alternative\" 2009]\n",
      "['In One Ear' 'Cage The Elephant' \"'00s Alternative\" 2008]\n",
      "['Cry Baby' 'Cage The Elephant' 'Alternative/Indie' 2015]\n",
      "['Take It or Leave It' 'Cage The Elephant' \"'10s Alternative\" 2013]\n",
      "['Share With Me The Sun' 'Portugal. The Man' \"'10s Alternative\" 2011]\n",
      "['Mess Around' 'Cage The Elephant' 'Alternative/Indie' 2015]\n",
      "['Always Something' 'Cage The Elephant' \"'10s Alternative\" 2011]\n",
      "['Fever' 'The Black Keys' \"'10s Rock\" 2014]\n",
      "['The Hardest Button to Button' 'The White Stripes' \"'00s Rock\" 2003]\n",
      "['Cigarette Daydreams' 'Cage The Elephant' \"'10s Alternative\" 2013]\n",
      "['Telescope' 'Cage The Elephant' \"'10s Alternative\" 2013]\n",
      "['Someday Believers' 'Portugal. The Man' \"'10s Alternative\" 2013]\n",
      "['Cold Cold Cold' 'Cage The Elephant' 'Alternative/Indie' 2015]\n",
      "['Evil Friends' 'Portugal. The Man' \"'10s Alternative\" 2013]\n",
      "['So American' 'Portugal. The Man' \"'10s Alternative\" 2011]\n",
      "['Back Against the Wall' 'Cage The Elephant' \"'00s Alternative\" 2008]\n",
      "['Halo' 'Cage The Elephant' \"'10s Alternative\" 2013]\n",
      "['Dead Leaves and the Dirty Ground' 'The White Stripes' \"'00s Rock\" 2001]\n",
      "['Once Was One' 'Portugal. The Man' \"'10s Alternative\" 2011]\n",
      "[\"Howlin' For You\" 'The Black Keys' \"'10s Alternative\" 2010]\n",
      "['Trouble' 'Cage The Elephant' 'Alternative/Indie' 2015]\n",
      "['Everlasting Light' 'The Black Keys' \"'10s Alternative\" 2010]\n",
      "[\"It's Just Forever (feat. Alison Mosshart)\" 'Cage The Elephant'\n",
      " \"'10s Alternative\" 2013]\n",
      "\n",
      "15\n",
      "52\n",
      "['Life in Grey' 'Point Point' 'Dance/Electronic' 2014]\n",
      "['Warm Thoughts' 'Flume' 'Dance/Electronic' 2012]\n",
      "['GUD VIBRATIONS' 'NGHTMRE & SLANDER' 'Dance/Electronic' 2016]\n",
      "['HyperParadise (Flume Remix)' 'Flume' 'Dance/Electronic' 2012]\n",
      "['Kintsugi' 'Droeloe' 'Dance/Electronic' 2017]\n",
      "['Drop The Game' 'Flume & Chet Faker' 'Electronica' 2013]\n",
      "['Show Me the World' 'Hippie Sabotage' 'Dance/Electronic' 2013]\n",
      "['Change' 'Flume' 'Dance/Electronic' 2012]\n",
      "['Insane' 'Moon Holiday' 'Alternative/Indie' 2015]\n",
      "['Just A Memory (feat. Regina Spektor)' 'ODESZA' 'Dance/Electronic' 2017]\n",
      "['Seven Eleven (feat. Ibrahim Maalouf)' '20syl' 'Dance/Electronic' 2014]\n",
      "['Divide (feat. Kelsey Bulkin)' 'ODESZA' 'Dance/Electronic' 2017]\n",
      "['Morning Bj' 'Point Point' 'Dance/Electronic' 2014]\n",
      "['All This' 'Point Point' 'Dance/Electronic' 2016]\n",
      "['Meridian' 'ODESZA' 'Dance/Electronic' 2017]\n",
      "['High You Are' 'What So Not & Branchez' 'Dance/Electronic' 2013]\n",
      "['Corners Of The Earth (feat. RY X)' 'ODESZA' 'Dance/Electronic' 2017]\n",
      "['In Your Eyes' 'Hippie Sabotage' 'Dance/Electronic' 2014]\n",
      "['Team' 'Lorde' 'Electropop' 2013]\n",
      "['Everything At Your Feet (feat. The Chamanas)' 'ODESZA'\n",
      " 'Dance/Electronic' 2017]\n",
      "['Sintra' 'Flume' 'Dance/Electronic' 2012]\n",
      "['Back & Forth' '20syl' 'Dance/Electronic' 2015]\n",
      "['Innerbloom' 'RÜFÜS DU SOL' 'Electronica' 2016]\n",
      "['Holdin On' 'Flume' 'Dance/Electronic' 2012]\n",
      "['Voices (feat. Rita J)' '20syl' 'Dance/Electronic' 2014]\n",
      "['Gemini (feat. George Maple)' 'What So Not' 'Dance/Electronic' 2015]\n",
      "['Able to See Me' 'Hippie Sabotage' 'Dance/Electronic' 2015]\n",
      "['Sunburn' 'Droeloe' 'Dance/Electronic' 2017]\n",
      "['Never Be Like You (feat. Kai)' 'Flume' 'Dance/Electronic' 2016]\n",
      "['Royals' 'Lorde' 'Electropop' 2013]\n",
      "['...Girl' 'Mura Masa' 'Dance/Electronic' 2014]\n",
      "['On Top (feat. T-Shirt)' 'Flume' 'Dance/Electronic' 2012]\n",
      "['Bring You Down feat. George Maple' 'Flume' 'Dance/Electronic' 2012]\n",
      "['Hold Me Close' 'NGHTMRE' None 2016]\n",
      "['Homebound' 'Droeloe' 'Dance/Electronic' 2017]\n",
      "['Bon Voyage' 'DROELOE' 'Dance/Electronic' 2016]\n",
      "['Show Me' 'ODESZA' 'Dance/Electronic' 2017]\n",
      "['Sunny Day' 'Coyote Kisses' 'Dance/Electronic' 2015]\n",
      "['Insane feat. Moon Holiday' 'Flume' 'Dance/Electronic' 2012]\n",
      "['This Is How You Know' 'Coyote Kisses' 'Dance/Electronic' 2013]\n",
      "['Mask Off' 'Future' 'Hip-Hop/Rap' 2017]\n",
      "['Across The Room (feat. Leon Bridges)' 'ODESZA' 'Dance/Electronic' 2017]\n",
      "['Helix' 'Flume' 'Dance/Electronic' 2016]\n",
      "['zZz' 'Droeloe' 'Dance/Electronic' 2016]\n",
      "['Ongoing Thing (feat. Oddisee)' '20syl' 'Dance/Electronic' 2014]\n",
      "['Dust Clouds' '20syl' 'Dance/Electronic' 2015]\n",
      "['Limelight (NGHTMRE Remix)' 'NGHTMRE' 'Dance/Electronic' 2014]\n",
      "['Illusion' 'Coyote Kisses' 'Dance/Electronic' 2015]\n",
      "['Tennis Court' 'Lorde' 'Electropop' 2013]\n",
      "['Lotus Eater' 'Mura Masa' 'Dance/Electronic' 2014]\n",
      "['Tropical Sun' 'Flume' 'Dance/Electronic' 2012]\n",
      "['Your Soul' 'Hippie Sabotage' 'Dance/Electronic' 2014]\n",
      "\n",
      "7\n",
      "40\n",
      "['Buzzcut Season' 'Lorde' 'Electropop' 2013]\n",
      "['Yellow Flicker Beat' 'Lorde' 'Soundtracks' 2014]\n",
      "['400 Lux' 'Lorde' 'Electropop' 2013]\n",
      "['Ribs' 'Lorde' 'Electropop' 2013]\n",
      "['Biting Down' 'Lorde' 'Electropop' 2013]\n",
      "['Perfect Places' 'Lorde' 'Electropop' 2017]\n",
      "['The Love Club' 'Lorde' 'Electropop' 2013]\n",
      "['Can I Kick It?' 'A Tribe Called Quest' 'Hip-Hop/Rap' 1990]\n",
      "['Still' 'Geto Boys' 'Hip-Hop/Rap' 1996]\n",
      "['March of Progress' 'MALO' None 2018]\n",
      "['Girl On A Train' 'Skizzy Mars' 'Hip-Hop/Rap' 2016]\n",
      "['Tres Delinquentes feat Sen Dog' 'Delinquent Habits' 'Hip-Hop/Rap' 2015]\n",
      "['Chinese Morning' 'The Geek x Vrv' 'Hip-Hop/Rap' 2013]\n",
      "['Sober' 'Childish Gambino' 'Pop' 2014]\n",
      "['Nowhere Man' 'Bryce Vine' 'Dance/Electronic' 2017]\n",
      "['Sour Patch Kids' 'Bryce Vine' 'Hip-Hop/Rap' 2014]\n",
      "['Swingin Party' 'Lorde' 'Electropop' 2013]\n",
      "['Million Dollar Bills' 'Lorde' 'Electropop' 2013]\n",
      "['With Me' 'Lane 8' 'Dance/Electronic' 2016]\n",
      "['High Enough' 'Hippie Sabotage' 'Dance/Electronic' 2016]\n",
      "['White Teeth Teens' 'Lorde' 'Electropop' 2013]\n",
      "['Keep This Going'\n",
      " 'Lee Richardson, Jonathan Murrill, Tom Ford, James Cocozza & Sarah Jane Norman'\n",
      " 'Dance/Electronic' 2016]\n",
      "['Marijuana' 'Kid Cudi' 'Hip-Hop/Rap' 2010]\n",
      "['A World Alone' 'Lorde' 'Electropop' 2013]\n",
      "['The Captain' 'The Phoenix Foundation' 'Alternative/Indie' 2013]\n",
      "['Waiting Too Long' 'Hippie Sabotage' 'Dance/Electronic' 2014]\n",
      "['Elegia (2015 Remastered Version)' 'New Order' 'Rock' 1985]\n",
      "['Clouds & Cream' 'Sticky Fingers' 'Alternative/Indie' 2013]\n",
      "[\"U Don't Own Me\" 'Delinquent Habits' 'Hip-Hop/Rap' 2003]\n",
      "['Return of the Tres' 'Delinquent Habits' 'Latin Alternative' 2001]\n",
      "['1940 (AmpLive Remix)' 'The Submarines' 'Alternative/Indie' 2010]\n",
      "['Private School' 'Bryce Vine' 'Hip-Hop/Rap' 2016]\n",
      "['Old Soul' 'MALO' None 2018]\n",
      "['Bravado' 'Lorde' 'Electropop' 2013]\n",
      "['Exp' 'The Jimi Hendrix Experience' 'Classic Rock' 1967]\n",
      "['Got The Love (feat. Jennifer Hartswick)' 'Big Gigantic'\n",
      " 'Dance/Electronic' 2016]\n",
      "['Glory And Gore' 'Lorde' 'Electropop' 2013]\n",
      "['Guilty Pleasure' 'Bryce Vine' 'Hip-Hop/Rap' 2014]\n",
      "['Still Sane' 'Lorde' 'Electropop' 2013]\n",
      "['Your Silent Face (2015 Remastered Version)' 'New Order' 'Rock' 2015]\n",
      "\n",
      "10\n",
      "32\n",
      "['Break On Through (To The Other Side)' 'The Doors' \"'60s Rock\" 1967]\n",
      "['All Along the Watchtower' 'The Jimi Hendrix Experience' 'Funk' 1968]\n",
      "['Little Wing' 'The Jimi Hendrix Experience' 'Classic Rock' 1967]\n",
      "['The Wind Cries Mary' 'The Jimi Hendrix Experience' \"'60s Pop\" 1967]\n",
      "['May This Be Love' 'The Jimi Hendrix Experience' \"'60s Pop\" 1967]\n",
      "['Manic Depression' 'The Jimi Hendrix Experience' \"'60s Pop\" 1967]\n",
      "['Strawberry Fields Forever (Remastered)' 'The Beatles' 'Rock' 1967]\n",
      "['If 6 Was 9' 'The Jimi Hendrix Experience' 'Classic Rock' 1967]\n",
      "['Purple Haze' 'The Jimi Hendrix Experience' 'Classic Rock' 1967]\n",
      "['Riders On The Storm' 'The Doors' 'Classic Rock' 1971]\n",
      "['One Rainy Wish' 'The Jimi Hendrix Experience' 'Classic Rock' 1967]\n",
      "[\"Ain't No Telling\" 'The Jimi Hendrix Experience' 'Classic Rock' 1967]\n",
      "['What Is And What Should Never Be' 'Led Zeppelin' 'Rock' 1969]\n",
      "['Soul Kitchen' 'The Doors' 'Pop' 1967]\n",
      "['Little Miss Lover' 'The Jimi Hendrix Experience' 'Classic Rock' 1967]\n",
      "['Wait Until Tomorrow' 'The Jimi Hendrix Experience' 'Classic Rock' 1967]\n",
      "['Up From The Skies' 'The Jimi Hendrix Experience' 'Classic Rock' 1967]\n",
      "['Bold as Love' 'The Jimi Hendrix Experience' 'Classic Rock' 1967]\n",
      "['Bring It On Home' 'Led Zeppelin' 'Rock' 1969]\n",
      "['Voodoo Child (Slight Return)' 'The Jimi Hendrix Experience' 'Funk' 1968]\n",
      "['Hey Joe' 'The Jimi Hendrix Experience' \"'60s Pop\" 1967]\n",
      "['Oh! Darling (Remastered)' 'The Beatles' 'Rock' 1969]\n",
      "['I Am The Walrus (Remastered)' 'The Beatles' 'Rock' 1967]\n",
      "['Four Sticks' 'Led Zeppelin' 'Rock' 1971]\n",
      "['How Many More Times' 'Led Zeppelin' 'Classic Metal' 1969]\n",
      "[\"She's So Fine\" 'The Jimi Hendrix Experience' 'Classic Rock' 1967]\n",
      "['The Lemon Song' 'Led Zeppelin' 'Rock' 1969]\n",
      "['Spanish Castle Magic' 'The Jimi Hendrix Experience' 'Classic Rock' 1967]\n",
      "['Castles Made of Sand' 'The Jimi Hendrix Experience' 'Classic Rock' 1967]\n",
      "[\"That's The Way\" 'Led Zeppelin' 'Classic Metal' 1970]\n",
      "[\"You Got Me Floatin'\" 'The Jimi Hendrix Experience' 'Classic Rock' 1967]\n",
      "['In The Light' 'Led Zeppelin' 'Hard Rock' 1975]\n",
      "\n",
      "2\n",
      "31\n",
      "['How Soon Is Now?' 'The Smiths' 'Alternative/Indie' 2008]\n",
      "['Bohemian Rhapsody' 'Queen' 'Classic Rock' 1975]\n",
      "['Goodbye Yellow Brick Road (Remastered 2014)' 'Elton John' 'Classic Rock'\n",
      " 1973]\n",
      "['Come and Get Your Love' 'Redbone' 'Rock' 2003]\n",
      "['Stuck In The Middle With You' 'Stealers Wheel' 'Pop' 1991]\n",
      "[\"You're My Best Friend\" 'Queen' 'Classic Rock' 1975]\n",
      "['Let It Be (Remastered)' 'The Beatles' 'Rock' 1970]\n",
      "[\"Don't Stop Me Now\" 'Queen' 'Classic Rock' 1992]\n",
      "['Good Old Fashioned Lover Boy' 'Queen' 'Classic Rock' 1992]\n",
      "['Here Comes The Sun (Remastered)' 'The Beatles' 'Rock' 1969]\n",
      "[\"You Ain't Seen Nothing Yet\" 'Bachman-Turner Overdrive' 'Rock' 2013]\n",
      "['All My Love' 'Led Zeppelin' 'Hard Rock' 1979]\n",
      "['Seven Seas Of Rhye' 'Queen' 'Classic Rock' 1992]\n",
      "['With Or Without You (Remastered 2007)' 'U2' 'Rock' 1987]\n",
      "['Norwegian Wood (This Bird Has Flown) (Remastered)' 'The Beatles' 'Rock'\n",
      " 1965]\n",
      "['Killer Queen' 'Queen' 'Classic Rock' 1992]\n",
      "['Sympathy For The Devil' 'The Rolling Stones' 'Classic Rock' 1968]\n",
      "['Where The Streets Have No Name (Remastered 2007)' 'U2' 'Rock' 1987]\n",
      "[\"Brandy (You're a Fine Girl)\" 'Looking Glass' 'Pop' 1972]\n",
      "['Play The Game' 'Queen' 'Classic Rock' 1992]\n",
      "['Respect' 'Aretha Franklin' 'Classic Soul' 1967]\n",
      "['Fat Bottomed Girls' 'Queen' 'Classic Rock' 1992]\n",
      "['Kung Fu Fighting' 'Carl Douglas' 'R&B/Soul' 2008]\n",
      "['Take The Money And Run' 'Steve Miller Band' 'Blues' 1976]\n",
      "['Sunday Bloody Sunday' 'U2' 'Rock' 2006]\n",
      "['Twist And Shout (Remastered)' 'The Beatles' 'Rock' 1963]\n",
      "['Born To Be Wild' 'Steppenwolf' 'Pop' 1969]\n",
      "[\"I Still Haven't Found What I'm Looking For (Remastered 2007)\" 'U2'\n",
      " 'Rock' 1987]\n",
      "['In My Life (Remastered)' 'The Beatles' 'Rock' 1965]\n",
      "['Pride (In The Name Of Love) (Remastered 2009)' 'U2' \"'80s Rock\" 1984]\n",
      "[\"Don't Dream It's Over\" 'Crowded House' 'Alternative/Indie' 1986]\n",
      "\n",
      "13\n",
      "24\n",
      "['Copycat (feat. Fashawn)' '20syl' 'Dance/Electronic' 2015]\n",
      "['Line Of Sight (feat. WYNNE & Mansionair)' 'ODESZA' 'Dance/Electronic'\n",
      " 2017]\n",
      "['Love A Little More' 'Just A Gent' 'Dance/Electronic' 2015]\n",
      "['Lovesick' 'Mura Masa' 'Dance/Electronic' 2015]\n",
      "['Hyperreal (feat. Kučka)' 'Flume' 'Dance/Electronic' 2017]\n",
      "['Love$ick (feat. A$AP Rocky)' 'Mura Masa' 'Electronica' 2017]\n",
      "['A Moment Apart' 'ODESZA' 'Dance/Electronic' 2017]\n",
      "['Kodama' '20syl' 'Dance/Electronic' 2014]\n",
      "['Boy' 'ODESZA' 'Dance/Electronic' 2017]\n",
      "['Without You (Vindata Remix)' 'ODESZA' 'Dance/Electronic' 2013]\n",
      "['Say It (feat. Tove Lo)' 'Flume' 'Dance/Electronic' 2016]\n",
      "['Take a Chance (feat Little Dragon)' 'Flume' 'Dance/Electronic' 2016]\n",
      "['La Ciudad' 'ODESZA' 'Dance/Electronic' 2017]\n",
      "['Electric (feat. Khalid)' 'Alina Baraz' 'Dance/Electronic' 2018]\n",
      "['Numb & Getting Colder (feat. Kučka)' 'Flume' 'Dance/Electronic' 2016]\n",
      "['Thin Floors And Tall Ceilings' 'ODESZA' 'Dance/Electronic' 2017]\n",
      "['Sleepless feat. Jezzabell Doran' 'Flume' 'Dance/Electronic' 2012]\n",
      "['Smoke & Retribution (feat. Vince Staples & Kučka)' 'Flume'\n",
      " 'Dance/Electronic' 2016]\n",
      "['Falls (feat. Sasha Sloan)' 'ODESZA' 'Dance/Electronic' 2017]\n",
      "['What You Need' 'Flume' 'Dance/Electronic' 2012]\n",
      "['Late Night' 'ODESZA' 'Dance/Electronic' 2017]\n",
      "['What If I Go? (feat. Bonzai)' 'Mura Masa' 'Electronica' 2017]\n",
      "['Heater' 'Flume' 'Dance/Electronic' 2016]\n",
      "['Higher Ground (feat. Naomi Wild)' 'ODESZA' 'Dance/Electronic' 2017]\n",
      "\n",
      "3\n",
      "23\n",
      "[\"(Sittin' On) The Dock Of The Bay\" 'Otis Redding' 'R&B/Soul' 1968]\n",
      "['Policy Of Truth (2006 Remastered Version)' 'Depeche Mode'\n",
      " 'Dance/Electronic' 1990]\n",
      "['True' 'Spandau Ballet' \"'80s Pop\" 2008]\n",
      "['Enjoy The Silence (Remastered Version)' 'Depeche Mode' 'Electropop' 2006]\n",
      "['Never Let Me Down Again' 'Depeche Mode' 'Pop' 1987]\n",
      "['Girls Just Want to Have Fun' 'Cyndi Lauper' \"'80s Pop\" 2001]\n",
      "['Come On Eileen' 'Dexys Midnight Runners' 'Soundtracks' 2011]\n",
      "['Bizarre Love Triangle' 'New Order' 'Alternative/Indie' 1986]\n",
      "['Everything Counts' 'Depeche Mode' 'New Wave/Post-Punk' 1983]\n",
      "[\"Friday I'm In Love\" 'The Cure' 'Alternative/Indie' 1992]\n",
      "[\"Don't You (Forget About Me)\" 'Simple Minds' 'Rock' 1985]\n",
      "['Just Like Heaven (2006 Remastered Version)' 'The Cure'\n",
      " 'Alternative/Indie' 1987]\n",
      "['In Between Days' 'The Cure' 'Rock' 1985]\n",
      "['Temptation' 'New Order' 'Rock' 2011]\n",
      "[\"It's My Life (1997 Remastered Version)\" 'Talk Talk' 'Pop' 1984]\n",
      "['Lips Like Sugar' 'Echo And The Bunnymen' \"'80s Alternative\" 1987]\n",
      "['Personal Jesus (Original Seven Inch Version)' 'Depeche Mode' 'Pop' 1989]\n",
      "['Close To Me' 'The Cure' 'Rock' 2001]\n",
      "['Bring On The Dancing Horses' 'Echo And The Bunnymen' 'Alternative/Indie'\n",
      " 1985]\n",
      "['Forever Young' 'Alphaville' 'Pop' 1984]\n",
      "['Pictures Of You' 'The Cure' 'New Wave/Post-Punk' 1989]\n",
      "['Time After Time' 'Cyndi Lauper' 'Pop' 1983]\n",
      "[\"Just Can't Get Enough (2006 Remastered Version)\" 'Depeche Mode' 'Pop'\n",
      " 1981]\n",
      "\n",
      "17\n",
      "18\n",
      "['Roadgame' 'Kavinsky' 'Dance/Electronic' 2013]\n",
      "['Through the Universe' 'Droid Bishop' 'Dance/Electronic' 2014]\n",
      "['Spaceflight' 'Efence' 'Dance/Electronic' 2017]\n",
      "['It Follows Theme (From \"It Follows\")' 'Retrospectre' 'Soundtracks' 2017]\n",
      "['Can you kiss me first' 'College' 'Dance/Electronic' 2008]\n",
      "['Laser Gun (feat. Mai Lan)' 'M83' 'Dance/Electronic' 2016]\n",
      "['The Cross' 'Makeup and Vanity Set' 'Dance/Electronic' 2012]\n",
      "['A Glowing Light, a Promise' 'Makeup and Vanity Set' 'Dance/Electronic'\n",
      " 2012]\n",
      "['Oblivion (feat. Susanne Sundfør)' 'M83' 'Soundtracks' 2013]\n",
      "[\"Negotiation's Over\" 'OGRE Sound' 'Soundtracks' 2014]\n",
      "['System Override' 'Makeup and Vanity Set' 'Dance/Electronic' 2012]\n",
      "['Abesses (Beat Torrent Remix)' 'Birdy Nam Nam' 'Dance/Electronic' 2010]\n",
      "['StarWaves' 'M83, Anthony Gonzalez & Joseph Trapanese' 'Soundtracks' 2013]\n",
      "['Innocence' 'Electric Youth' 'Dance/Electronic' 2014]\n",
      "['Search the Night' 'Makeup and Vanity Set' 'Dance/Electronic' 2011]\n",
      "['Stars of the Night' 'Dynatron' 'Dance/Electronic' 2016]\n",
      "['Take Off' 'Betamaxx' 'Electropop' 2015]\n",
      "['City of Ghosts' 'Crockett' 'Dance/Electronic' 2016]\n",
      "\n",
      "18\n",
      "17\n",
      "['We Own The Sky' 'M83' 'Electropop' 2008]\n",
      "['Thunder Love (2017 Version)' 'Sung' 'Dance/Electronic' 2017]\n",
      "[\"I Guess I'm Floating\" 'M83' 'Electropop' 2005]\n",
      "['Abiogenisis' 'Tonebox' 'Dance/Electronic' 2016]\n",
      "['Shore Thing' 'OGRE Sound' 'Dance/Electronic' 2014]\n",
      "['Lofticries' 'Purity Ring' 'Alternative/Indie' 2012]\n",
      "['Wait' 'M83' 'Electropop' 2011]\n",
      "['Fineshrine' 'Purity Ring' 'Alternative/Indie' 2012]\n",
      "['Future' 'Sung' 'Dance/Electronic' 2015]\n",
      "['Outro' 'M83' 'Electropop' 2011]\n",
      "['Hologram' 'Vogel' 'Dance/Electronic' 2014]\n",
      "['Obedear' 'Purity Ring' 'Alternative/Indie' 2012]\n",
      "['Space Log (2017 Version)' 'Sung' 'Dance/Electronic' 2017]\n",
      "['begin again' 'Purity Ring' 'Dance/Electronic' 2015]\n",
      "['Midnight City' 'M83' 'Electropop' 2011]\n",
      "['bodyache' 'Purity Ring' 'Dance/Electronic' 2015]\n",
      "['Go! (feat. Mai Lan)' 'M83' 'Dance/Electronic' 2016]\n",
      "\n",
      "12\n",
      "16\n",
      "['A Kind Of Magic' 'Queen' \"'80s Rock\" 1986]\n",
      "[\"Don't Stop Me Now\" 'Queen' 'Classic Rock' 1978]\n",
      "['Crazy Little Thing Called Love' 'Queen' 'Classic Rock' 1980]\n",
      "['Play The Game' 'Queen' 'Classic Rock' 1980]\n",
      "['Somebody To Love' 'Queen' 'Classic Rock' 1992]\n",
      "['Radio Ga Ga' 'Queen' 'Classic Rock' 1984]\n",
      "['Tangerine' 'Led Zeppelin' 'Classic Metal' 1970]\n",
      "['Hammer to Fall' 'Queen' 'Classic Rock' 1984]\n",
      "[\"Livin' On A Prayer\" 'Bon Jovi' 'Hard Rock' 2010]\n",
      "['I Want To Break Free (Single Version)' 'Queen' 'Classic Rock' 1992]\n",
      "['We Are The Champions' 'Queen' 'Classic Rock' 1992]\n",
      "['Under Pressure' 'Queen, David Bowie' 'Classic Rock' 1982]\n",
      "['Who Wants To Live Forever' 'Queen' \"'80s Rock\" 1986]\n",
      "['Working Man' 'Rush' 'Hard Rock' 1974]\n",
      "['Thank You' 'Led Zeppelin' 'Rock' 1969]\n",
      "['One Vision (Single Version)' 'Queen' \"'80s Rock\" 1986]\n",
      "\n",
      "24\n",
      "16\n",
      "['Tom Sawyer' 'Rush' 'Classic Rock' 1981]\n",
      "['Ramble On' 'Led Zeppelin' 'Rock' 1969]\n",
      "['Rock And Roll' 'Led Zeppelin' 'Rock' 1971]\n",
      "['Stairway To Heaven' 'Led Zeppelin' 'Rock' 1971]\n",
      "[\"D'yer Mak'er\" 'Led Zeppelin' 'Classic Rock' 2014]\n",
      "['Going To California' 'Led Zeppelin' 'Rock' 1971]\n",
      "['Over The Hills And Far Away' 'Led Zeppelin' 'Classic Rock' 2014]\n",
      "['Hey, Hey, What Can I Do' 'Led Zeppelin' 'Rock' 1982]\n",
      "['Immigrant Song' 'Led Zeppelin' 'Classic Metal' 1970]\n",
      "['People Are Strange' 'The Doors' 'Classic Rock' 1967]\n",
      "['Kashmir' 'Led Zeppelin' 'Classic Metal' 1975]\n",
      "['Black Dog' 'Led Zeppelin' 'Rock' 1971]\n",
      "['Fool In The Rain' 'Led Zeppelin' 'Rock' 1979]\n",
      "['Whole Lotta Love' 'Led Zeppelin' 'Rock' 1969]\n",
      "['Misty Mountain Hop' 'Led Zeppelin' 'Rock' 1971]\n",
      "['Come Together (Remastered)' 'The Beatles' 'Rock' 1969]\n",
      "\n",
      "9\n",
      "15\n",
      "['Revolution (Remastered)' 'The Beatles' 'Rock' 1973]\n",
      "['Penny Lane (Remastered)' 'The Beatles' 'Rock' 1967]\n",
      "['Mrs. Robinson' 'Simon & Garfunkel' 'Folk-Rock' 1968]\n",
      "['Dream A Little Dream Of Me (Album Version With Introduction)'\n",
      " 'The Mamas & The Papas' \"'60s Pop\" 1968]\n",
      "[\"California Dreamin' (Single Version)\" 'The Mamas And The Papas'\n",
      " 'Folk-Rock' 1966]\n",
      "['Lola' 'The Kinks' 'Rock' 1997]\n",
      "['El Condor Pasa (If I Could)' 'Simon & Garfunkel' 'Folk-Rock' 1970]\n",
      "['A Horse with No Name (Remastered Version)' 'America' \"'70s Pop\" 2001]\n",
      "['The Sound of Silence (Overdubbed Version)' 'Simon & Garfunkel'\n",
      " 'Folk-Rock' 1966]\n",
      "['Help! (Remastered)' 'The Beatles' 'Rock' 1965]\n",
      "['Bridge over Troubled Water' 'Simon & Garfunkel' \"'60s Pop\" 1972]\n",
      "['Wild World' 'Cat Stevens' 'Singer-Songwriter' 1970]\n",
      "['I Want To Hold Your Hand (Remastered 2015)' 'The Beatles' 'Rock' 2000]\n",
      "['Scarborough Fair / Canticle' 'Simon & Garfunkel' 'Folk-Rock' 1966]\n",
      "['I Am a Rock' 'Simon & Garfunkel' 'Folk-Rock' 1966]\n",
      "\n",
      "14\n",
      "15\n",
      "[\"Sgt. Pepper's Lonely Hearts Club Band (Remastered)\" 'The Beatles' 'Rock'\n",
      " 1967]\n",
      "['Love Me Two Times' 'The Doors' 'Classic Rock' 1967]\n",
      "['The Ocean' 'Led Zeppelin' 'Rock' 1973]\n",
      "['The Rain Song' 'Led Zeppelin' 'Rock' 1973]\n",
      "['Hello, I Love You' 'The Doors' 'Classic Rock' 1968]\n",
      "['Good Times Bad Times' 'Led Zeppelin' 'Classic Metal' 1969]\n",
      "['Seven Seas' 'Echo and the Bunnymen' \"'80s Alternative\" 1984]\n",
      "['Heartbreaker' 'Led Zeppelin' 'Rock' 1969]\n",
      "['When The Levee Breaks' 'Led Zeppelin' 'Rock' 1971]\n",
      "['Light My Fire' 'The Doors' \"'60s Rock\" 1967]\n",
      "[\"Living Loving Maid (She's Just A Woman)\" 'Led Zeppelin' 'Rock' 1969]\n",
      "['The Killing Moon' 'Echo And The Bunnymen' \"'80s Alternative\" 1984]\n",
      "[\"Don't Let Me Down (Remastered)\" 'The Beatles' 'Rock' 1973]\n",
      "['White Room' 'Cream' 'Hard Rock' 1968]\n",
      "['Love Will Tear Us Apart ' 'Joy Division' 'New Wave/Post-Punk' 2011]\n",
      "\n",
      "11\n",
      "13\n",
      "['Plush' 'Stone Temple Pilots' 'Rock' 2018]\n",
      "['Interstate Love Song' 'Stone Temple Pilots' \"'90s Alternative\" 1994]\n",
      "[\"Walkin' On The Sun\" 'Smash Mouth' 'Alternative/Indie' 1997]\n",
      "['Lump' 'The Presidents of the United States of America'\n",
      " \"'00s Alternative\" 1995]\n",
      "['Loser' 'Beck' \"'90s Alternative\" 1994]\n",
      "['Bound For The Floor' 'Local H' 'Alternative/Indie' 1996]\n",
      "['Santeria' 'Sublime' 'Alternative/Indie' 1996]\n",
      "['Possum Kingdom' 'Toadies' \"'90s Alternative\" 1994]\n",
      "['Fly' 'Sugar Ray' 'Rock' 1997]\n",
      "['Vasoline' 'Stone Temple Pilots' \"'90s Alternative\" 1994]\n",
      "['What I Got' 'Sublime' 'Alternative/Indie' 1996]\n",
      "['Wrong Way' 'Sublime' 'Alternative/Indie' 1996]\n",
      "['Someday' 'Sugar Ray' 'Pop' 1999]\n",
      "\n",
      "6\n",
      "12\n",
      "['Modern Jesus' 'Portugal. The Man' \"'10s Alternative\" 2013]\n",
      "['Work All Day' 'Portugal. The Man' \"'00s Alternative\" 2009]\n",
      "['Sell Yourself' 'Cage The Elephant' \"'10s Alternative\" 2011]\n",
      "['Noise Pollution (feat. Mary Elizabeth Winstead & Zoe Manville) [Version A, Vocal Up Mix 1.3]'\n",
      " 'Portugal. The Man' 'Alternative/Indie' 2017]\n",
      "['How Are You True' 'Cage The Elephant' 'Alternative/Indie' 2015]\n",
      "['Tidal Wave' 'Portugal. The Man' 'Alternative/Indie' 2017]\n",
      "[\"Ain't No Rest for the Wicked\" 'Cage The Elephant' \"'00s Alternative\"\n",
      " 2008]\n",
      "['Gold on the Ceiling' 'The Black Keys' \"'10s Alternative\" 2011]\n",
      "['Feel It Still' 'Portugal. The Man' 'Alternative/Indie' 2017]\n",
      "['Fell in Love With a Girl' 'The White Stripes' 'Alternative/Indie' 2001]\n",
      "['The Denial Twist' 'The White Stripes' \"'00s Alternative\" 2005]\n",
      "['Blue Orchid' 'The White Stripes' \"'00s Rock\" 2005]\n",
      "\n",
      "19\n",
      "12\n",
      "['Jumper' 'Third Eye Blind' 'Alternative/Indie' 1997]\n",
      "[\"Breakfast At Tiffany's\" 'Deep Blue Something' \"'90s Alternative\" 1994]\n",
      "['Semi-Charmed Life' 'Third Eye Blind' 'Alternative/Indie' 1997]\n",
      "['No Rain' 'Blind Melon' \"'90s Rock\" 1992]\n",
      "['The Middle' 'Jimmy Eat World' 'Emo/Hardcore' 2001]\n",
      "['Just A Girl' 'No Doubt' \"'90s Pop\" 1995]\n",
      "['Fly [feat. Super Cat]' 'Sugar Ray' 'Rock' 1997]\n",
      "['Good' 'Better Than Ezra' \"'90s Alternative\" 1993]\n",
      "['Every Morning' 'Sugar Ray' 'Pop' 1999]\n",
      "['Never Let You Go' 'Third Eye Blind' \"'90s Rock\" 1999]\n",
      "['Kryptonite' '3 Doors Down' 'Hard Rock' 1999]\n",
      "['Two Princes' 'Spin Doctors' 'Jam Rock' 1991]\n",
      "\n",
      "8\n",
      "11\n",
      "['Mr. Blue Sky' 'Electric Light Orchestra' \"'70s Rock\" 1977]\n",
      "['White Wedding (Pt. 1 / Remastered 2002)' 'Billy Idol' 'Rock' 2008]\n",
      "['Take My Breath Away' 'Berlin' 'New Wave/Post-Punk' 1986]\n",
      "['Peace of Mind' 'Boston' 'Rock' 1976]\n",
      "['Lady' 'Styx' 'Hard Rock' 1973]\n",
      "[\"Let's Go\" 'The Cars' 'Pop' 1979]\n",
      "['Come Sail Away' 'Styx' 'Classic Rock' 1977]\n",
      "['Rebel Yell (Remastered)' 'Billy Idol' 'Rock' 2008]\n",
      "[\"Summer Of '69\" 'Bryan Adams' 'Classic Rock' 1984]\n",
      "[\"Jessie's Girl\" 'Rick Springfield' \"'80s Pop\" 1981]\n",
      "['White Wedding (Pt. 1)' 'Billy Idol' 'New Wave/Post-Punk' 1982]\n",
      "\n",
      "22\n",
      "11\n",
      "['The Boxer' 'Simon & Garfunkel' 'Folk-Rock' 1970]\n",
      "['America' 'Simon & Garfunkel' 'Folk-Rock' 1968]\n",
      "['Homeward Bound' 'Simon & Garfunkel' 'Folk-Rock' 1999]\n",
      "['Sweet Caroline' 'Neil Diamond' \"'60s Pop\" 1969]\n",
      "['A Hazy Shade of Winter' 'Simon & Garfunkel' 'Folk-Rock' 1968]\n",
      "['My Little Town' 'Simon & Garfunkel' 'Folk-Rock' 1999]\n",
      "['Cecilia' 'Simon & Garfunkel' 'Folk-Rock' 1970]\n",
      "['The Only Living Boy in New York' 'Simon & Garfunkel' 'Folk-Rock' 1970]\n",
      "['For Emily, Whenever I May Find Her (Live)' 'Simon & Garfunkel'\n",
      " \"'60s Pop\" 1972]\n",
      "['Flowers Never Bend with the Rainfall' 'Simon & Garfunkel' 'Folk-Rock'\n",
      " 1966]\n",
      "['April Come She Will' 'Simon & Garfunkel' 'Folk-Rock' 1966]\n",
      "\n",
      "23\n",
      "10\n",
      "['Glamorama' 'Bryce Vine' 'Hip-Hop/Rap' 2016]\n",
      "[\"Let's Stay Together\" 'Al Green' 'Classic Soul' 1972]\n",
      "[\"Signed, Sealed, Delivered (I'm Yours)\" 'Stevie Wonder' 'Classic Soul'\n",
      " 1970]\n",
      "['Audiotool Day 2016' 'Xtract' 'Dance/Electronic' 2018]\n",
      "['I Want You Back' 'Jackson 5' 'Funk' 2010]\n",
      "['Steal My Sunshine (Single Version)' 'Len' 'Pop' 1999]\n",
      "['Los Angeles' 'Bryce Vine' 'Hip-Hop/Rap' 2016]\n",
      "['The Fall' 'Bryce Vine' 'Hip-Hop/Rap' 2016]\n",
      "[\"Let's Get It On (Single Version)\" 'Marvin Gaye' 'Classic Soul' 1973]\n",
      "['Drew Barrymore' 'Bryce Vine' 'Hip-Hop/Rap' 2018]\n",
      "\n",
      "16\n",
      "9\n",
      "['Helplessly Hoping (Remastered Version)' 'Crosby, Stills & Nash'\n",
      " 'Classic Rock' 1969]\n",
      "['Ob-La-Di, Ob-La-Da (Remastered)' 'The Beatles' 'Rock' 1968]\n",
      "['With A Little Help From My Friends (Remastered)' 'The Beatles' 'Rock'\n",
      " 1967]\n",
      "['Lucy In The Sky With Diamonds (Remastered)' 'The Beatles' 'Rock' 1967]\n",
      "['Day Tripper (Remastered 2015)' 'The Beatles' 'Rock' 2000]\n",
      "['A Day In The Life (Remastered)' 'The Beatles' 'Rock' 1967]\n",
      "['Across The Universe (Remastered)' 'The Beatles' 'Rock' 1970]\n",
      "['Blackbird (Remastered)' 'The Beatles' 'Rock' 1968]\n",
      "['Ticket To Ride (Remastered)' 'The Beatles' 'Rock' 1965]\n",
      "\n",
      "21\n",
      "9\n",
      "['I Love College (Album Version Explicit)' 'Asher Roth' 'Hip-Hop/Rap' 2009]\n",
      "['Indica Badu (feat. Wiz Khalifa)' 'Logic' 'Hip-Hop/Rap' 2018]\n",
      "['Erase Me (Main) (feat. Kanye West)' 'Kid Cudi' 'Hip-Hop/Rap' 2010]\n",
      "['Heart of a Lion (Kid Cudi Theme Music)' 'Kid Cudi' 'Hip-Hop/Rap' 2009]\n",
      "['Soundtrack 2 My Life' 'Kid Cudi' 'Hip-Hop/Rap' 2009]\n",
      "['Redbone' 'Childish Gambino' 'R&B/Soul' 2016]\n",
      "['Everybody' 'Logic' 'Indie/Underground Hip-Hop' 2017]\n",
      "['By Design (feat. André Benjamin)' 'Kid Cudi' 'Hip-Hop/Rap' 2016]\n",
      "['Baby Blue (feat. Chance the Rapper)' 'Action Bronson' 'Hip-Hop/Rap' 2015]\n",
      "\n",
      "20\n",
      "8\n",
      "['Date Rape' 'Sublime' 'Pop' 1992]\n",
      "['Caress Me Down' 'Sublime' 'Alternative/Indie' 1996]\n",
      "['Badfish' 'Sublime' 'Alternative/Indie' 1999]\n",
      "[\"That's Right\" 'Cage The Elephant' 'Alternative/Indie' 2015]\n",
      "['April 29, 1992 (Miami)' 'Sublime' 'Alternative/Indie' 1996]\n",
      "['Amber' '311' 'Hard Rock' 2004]\n",
      "[\"Doin' Time\" 'Sublime' 'Alternative/Indie' 1996]\n",
      "['Sabotage (2009 Digital Remaster)' 'Beastie Boys' 'Hip-Hop/Rap' 1994]\n",
      "\n",
      "1\n",
      "6\n",
      "['One Vision' 'Queen' \"'80s Rock\" 1986]\n",
      "['Swingtown' 'Steve Miller Band' 'Rock' 1977]\n",
      "['Bad Company (2015 Remastered Version)' 'Bad Company' 'Classic Rock' 1974]\n",
      "['I Want To Break Free (Single Remix)' 'Queen' 'Classic Rock' 1984]\n",
      "['Sister Christian' 'Night Ranger' 'Hard Rock' 1983]\n",
      "['Runaway' 'Bon Jovi' 'Pop' 1984]\n",
      "\n",
      "4\n",
      "5\n",
      "[\"I Can't Help Myself (Sugar Pie, Honey Bunch)\" 'Four Tops' 'Classic Soul'\n",
      " 1965]\n",
      "[\"Ain't Too Proud To Beg\" 'The Temptations' 'Classic Soul' 2013]\n",
      "['Lady Madonna (Remastered 2015)' 'The Beatles' 'Rock' 2000]\n",
      "['(Your Love Keeps Lifting Me) Higher & Higher' 'Jackie Wilson'\n",
      " 'Classic R&B' 2006]\n",
      "['Because (Remastered)' 'The Beatles' 'Rock' 1969]\n",
      "\n"
     ]
    }
   ],
   "source": [
    "for i,cluster in sorted(enumerate(clusters),key=lambda tup: -len(tup[1])):\n",
    "    print(i)\n",
    "    print(len(cluster))\n",
    "    print(\"\\n\".join(cluster))\n",
    "    print()"
   ]
  },
  {
   "cell_type": "code",
   "execution_count": null,
   "metadata": {
    "collapsed": false
   },
   "outputs": [],
   "source": [
    "if all_song\n",
    "    api.delete_playlist(allsongs_id)\n",
    "except:\n",
    "    pass\n",
    "allsongs_id_new = api.create_playlist(allsongs_name)\n",
    "api.add_songs_to_playlist(allsongs_id_new,list(set(ids)))"
   ]
  }
 ],
 "metadata": {
  "anaconda-cloud": {},
  "kernelspec": {
   "display_name": "Python [default]",
   "language": "python",
   "name": "python3"
  },
  "language_info": {
   "codemirror_mode": {
    "name": "ipython",
    "version": 3
   },
   "file_extension": ".py",
   "mimetype": "text/x-python",
   "name": "python",
   "nbconvert_exporter": "python",
   "pygments_lexer": "ipython3",
   "version": "3.5.2"
  },
  "widgets": {
   "state": {
    "135ee742847449d48ba1c6530a101253": {
     "views": [
      {
       "cell_index": 2
      }
     ]
    }
   },
   "version": "1.2.0"
  }
 },
 "nbformat": 4,
 "nbformat_minor": 1
}
